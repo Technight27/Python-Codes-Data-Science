{
  "cells": [
    {
      "cell_type": "markdown",
      "metadata": {
        "id": "view-in-github",
        "colab_type": "text"
      },
      "source": [
        "<a href=\"https://colab.research.google.com/github/Technight27/Python-Codes-Data-Science/blob/main/Aug_23_DS_Day_6_Pandas1_.ipynb\" target=\"_parent\"><img src=\"https://colab.research.google.com/assets/colab-badge.svg\" alt=\"Open In Colab\"/></a>"
      ]
    },
    {
      "cell_type": "code",
      "execution_count": null,
      "id": "73a2c0e5",
      "metadata": {
        "id": "73a2c0e5"
      },
      "outputs": [],
      "source": [
        "import numpy as np\n",
        "import pandas as pd"
      ]
    },
    {
      "cell_type": "code",
      "execution_count": null,
      "id": "d8e2e7fb",
      "metadata": {
        "id": "d8e2e7fb",
        "outputId": "a7564eff-1ca9-48c7-c5d9-3c6b811b6cf1"
      },
      "outputs": [
        {
          "name": "stderr",
          "output_type": "stream",
          "text": [
            "C:\\Users\\noble\\AppData\\Local\\Temp\\ipykernel_27260\\3916911142.py:1: FutureWarning: The default dtype for empty Series will be 'object' instead of 'float64' in a future version. Specify a dtype explicitly to silence this warning.\n",
            "  pd.Series ([])\n"
          ]
        },
        {
          "data": {
            "text/plain": [
              "Series([], dtype: float64)"
            ]
          },
          "execution_count": 2,
          "metadata": {},
          "output_type": "execute_result"
        }
      ],
      "source": [
        "pd.Series ([])"
      ]
    },
    {
      "cell_type": "code",
      "execution_count": null,
      "id": "d047827d",
      "metadata": {
        "id": "d047827d",
        "outputId": "804083ed-a322-49b6-edfc-20933fe28e86"
      },
      "outputs": [
        {
          "data": {
            "text/plain": [
              "0    10\n",
              "1    20\n",
              "2    30\n",
              "dtype: int64"
            ]
          },
          "execution_count": 3,
          "metadata": {},
          "output_type": "execute_result"
        }
      ],
      "source": [
        "pd.Series ([10,20,30])"
      ]
    },
    {
      "cell_type": "code",
      "execution_count": null,
      "id": "3004d2fa",
      "metadata": {
        "id": "3004d2fa",
        "outputId": "62245932-d4df-4281-b366-312977533f14"
      },
      "outputs": [
        {
          "name": "stdout",
          "output_type": "stream",
          "text": [
            "[10 12 14 16 18 20]\n"
          ]
        }
      ],
      "source": [
        "arr1 =np.array ([10,12,14,16,18,20])\n",
        "print (arr1)"
      ]
    },
    {
      "cell_type": "code",
      "execution_count": null,
      "id": "7b69ce0d",
      "metadata": {
        "id": "7b69ce0d",
        "outputId": "b67856f4-cb5b-400d-a526-5a613327aa58"
      },
      "outputs": [
        {
          "name": "stdout",
          "output_type": "stream",
          "text": [
            "0    10\n",
            "1    12\n",
            "2    14\n",
            "3    16\n",
            "4    18\n",
            "5    20\n",
            "dtype: int32\n"
          ]
        }
      ],
      "source": [
        "series =pd.Series(arr1)\n",
        "print (series)"
      ]
    },
    {
      "cell_type": "code",
      "execution_count": null,
      "id": "8cbecfe6",
      "metadata": {
        "id": "8cbecfe6",
        "outputId": "1c0cce93-303a-4b55-d4b7-f3d6405cd2b3"
      },
      "outputs": [
        {
          "name": "stdout",
          "output_type": "stream",
          "text": [
            "2    14\n",
            "3    16\n",
            "4    18\n",
            "dtype: int32\n"
          ]
        }
      ],
      "source": [
        "print (series[2:5])"
      ]
    },
    {
      "cell_type": "code",
      "execution_count": null,
      "id": "5a4af4b7",
      "metadata": {
        "id": "5a4af4b7",
        "outputId": "aa3b2e82-cf27-4853-eb5a-3c4bc2ba4061"
      },
      "outputs": [
        {
          "name": "stdout",
          "output_type": "stream",
          "text": [
            "2    14\n",
            "3    16\n",
            "4    18\n",
            "5    20\n",
            "dtype: int32\n"
          ]
        }
      ],
      "source": [
        "print (series[2:])"
      ]
    },
    {
      "cell_type": "code",
      "execution_count": null,
      "id": "151aa646",
      "metadata": {
        "id": "151aa646",
        "outputId": "9a28c5c9-af10-4b08-cc5a-b3c2e8bcdeb0"
      },
      "outputs": [
        {
          "data": {
            "text/plain": [
              "{'Q1': 1, 'Q2': 2, 'Q3': 3, 'Q4': 4}"
            ]
          },
          "execution_count": 11,
          "metadata": {},
          "output_type": "execute_result"
        }
      ],
      "source": [
        "\n",
        "dict1 = {'Q1':1,'Q2':2,'Q3':3,'Q4':4}\n",
        "dict1\n"
      ]
    },
    {
      "cell_type": "code",
      "execution_count": null,
      "id": "74ae97f0",
      "metadata": {
        "id": "74ae97f0",
        "outputId": "4192d2f5-3d16-463e-f0e8-6af2d9b2c66f"
      },
      "outputs": [
        {
          "name": "stdout",
          "output_type": "stream",
          "text": [
            "Q1    1\n",
            "Q2    2\n",
            "Q3    3\n",
            "Q4    4\n",
            "dtype: int64\n"
          ]
        }
      ],
      "source": [
        "series =pd.Series (dict1)\n",
        "print (series)\n"
      ]
    },
    {
      "cell_type": "code",
      "execution_count": null,
      "id": "21a57554",
      "metadata": {
        "id": "21a57554",
        "outputId": "f4e3edec-991d-4738-c22f-c90d5d04f560"
      },
      "outputs": [
        {
          "data": {
            "text/plain": [
              "2"
            ]
          },
          "execution_count": 13,
          "metadata": {},
          "output_type": "execute_result"
        }
      ],
      "source": [
        "series ['Q2']"
      ]
    },
    {
      "cell_type": "code",
      "execution_count": null,
      "id": "65f79492",
      "metadata": {
        "id": "65f79492",
        "outputId": "68f51b54-e093-4f6c-cf03-7af61ba074d5"
      },
      "outputs": [
        {
          "data": {
            "text/plain": [
              "Q2    2\n",
              "Q3    3\n",
              "Q4    4\n",
              "dtype: int64"
            ]
          },
          "execution_count": 14,
          "metadata": {},
          "output_type": "execute_result"
        }
      ],
      "source": [
        "series ['Q2':'Q4']"
      ]
    },
    {
      "cell_type": "code",
      "execution_count": null,
      "id": "b417bca4",
      "metadata": {
        "id": "b417bca4",
        "outputId": "521d853c-9d76-4532-d59e-88a1d5bc560d"
      },
      "outputs": [
        {
          "data": {
            "text/plain": [
              "Q1    1\n",
              "Q2    2\n",
              "Q3    3\n",
              "Q4    4\n",
              "dtype: int64"
            ]
          },
          "execution_count": 15,
          "metadata": {},
          "output_type": "execute_result"
        }
      ],
      "source": [
        "series"
      ]
    },
    {
      "cell_type": "code",
      "execution_count": null,
      "id": "d142b00a",
      "metadata": {
        "id": "d142b00a",
        "outputId": "aa39d8c7-eab8-48f5-aa6b-7b09b01c34f3"
      },
      "outputs": [
        {
          "data": {
            "text/plain": [
              "Q1     1\n",
              "Q2     2\n",
              "Q3    55\n",
              "Q4     4\n",
              "dtype: int64"
            ]
          },
          "execution_count": 16,
          "metadata": {},
          "output_type": "execute_result"
        }
      ],
      "source": [
        "series ['Q3'] = 55\n",
        "series"
      ]
    },
    {
      "cell_type": "code",
      "execution_count": null,
      "id": "0777d66c",
      "metadata": {
        "id": "0777d66c",
        "outputId": "9422b412-b4dc-4b3e-822c-3c02e3b8ad44"
      },
      "outputs": [
        {
          "data": {
            "text/plain": [
              "Q1     1\n",
              "Q2     2\n",
              "Q3    55\n",
              "Q4    55\n",
              "dtype: int64"
            ]
          },
          "execution_count": 17,
          "metadata": {},
          "output_type": "execute_result"
        }
      ],
      "source": [
        "series ['Q3':'Q4'] = 55\n",
        "series"
      ]
    },
    {
      "cell_type": "code",
      "execution_count": null,
      "id": "292456aa",
      "metadata": {
        "id": "292456aa",
        "outputId": "0490ffaf-d92f-4dcd-973b-e99f116256e0"
      },
      "outputs": [
        {
          "name": "stdout",
          "output_type": "stream",
          "text": [
            "0    10\n",
            "1    20\n",
            "2    30\n",
            "3    40\n",
            "4    50\n",
            "5    60\n",
            "dtype: int64\n"
          ]
        }
      ],
      "source": [
        "list1 = [10,20,30,40,50,60]\n",
        "S1= pd.Series (list1)\n",
        "print (S1)\n"
      ]
    },
    {
      "cell_type": "code",
      "execution_count": null,
      "id": "223a8fa0",
      "metadata": {
        "id": "223a8fa0",
        "outputId": "4d93e5f2-3601-4fb5-b6ee-274749f9e92a"
      },
      "outputs": [
        {
          "name": "stdout",
          "output_type": "stream",
          "text": [
            "    0\n",
            "0  10\n",
            "1  20\n",
            "2  30\n",
            "3  40\n",
            "4  50\n",
            "5  60\n"
          ]
        }
      ],
      "source": [
        "dataframe1 = pd.DataFrame(list1)\n",
        "print (dataframe1)\n"
      ]
    },
    {
      "cell_type": "code",
      "execution_count": null,
      "id": "50753057",
      "metadata": {
        "id": "50753057",
        "outputId": "337be670-30fe-48aa-be15-cd1f12fea37d"
      },
      "outputs": [
        {
          "name": "stdout",
          "output_type": "stream",
          "text": [
            "   Name  Age\n",
            "0  John   25\n",
            "1   Sam   20\n",
            "2  Eric   30\n",
            "3   Ken   28\n"
          ]
        }
      ],
      "source": [
        "list2 = [{'Name': 'John','Age':25}, {'Name':'Sam','Age':20},\n",
        "         {'Name':'Eric','Age':30},{'Name':'Ken','Age':28}]\n",
        "dataframe2=pd.DataFrame(list2)\n",
        "print (dataframe2)\n"
      ]
    },
    {
      "cell_type": "code",
      "execution_count": null,
      "id": "897e2899",
      "metadata": {
        "id": "897e2899",
        "outputId": "164082b5-72b7-415f-e99b-ba5fbcf21a36"
      },
      "outputs": [
        {
          "data": {
            "text/plain": [
              "0    John\n",
              "1     Sam\n",
              "2    Eric\n",
              "3     Ken\n",
              "Name: Name, dtype: object"
            ]
          },
          "execution_count": 21,
          "metadata": {},
          "output_type": "execute_result"
        }
      ],
      "source": [
        "dataframe2 ['Name']"
      ]
    },
    {
      "cell_type": "code",
      "execution_count": null,
      "id": "2339602f",
      "metadata": {
        "id": "2339602f",
        "outputId": "b7fbb9c9-504c-4f7a-db13-001d03f4de62"
      },
      "outputs": [
        {
          "data": {
            "text/html": [
              "<div>\n",
              "<style scoped>\n",
              "    .dataframe tbody tr th:only-of-type {\n",
              "        vertical-align: middle;\n",
              "    }\n",
              "\n",
              "    .dataframe tbody tr th {\n",
              "        vertical-align: top;\n",
              "    }\n",
              "\n",
              "    .dataframe thead th {\n",
              "        text-align: right;\n",
              "    }\n",
              "</style>\n",
              "<table border=\"1\" class=\"dataframe\">\n",
              "  <thead>\n",
              "    <tr style=\"text-align: right;\">\n",
              "      <th></th>\n",
              "      <th>Name</th>\n",
              "    </tr>\n",
              "  </thead>\n",
              "  <tbody>\n",
              "    <tr>\n",
              "      <th>0</th>\n",
              "      <td>John</td>\n",
              "    </tr>\n",
              "    <tr>\n",
              "      <th>1</th>\n",
              "      <td>Sam</td>\n",
              "    </tr>\n",
              "    <tr>\n",
              "      <th>2</th>\n",
              "      <td>Eric</td>\n",
              "    </tr>\n",
              "    <tr>\n",
              "      <th>3</th>\n",
              "      <td>Ken</td>\n",
              "    </tr>\n",
              "  </tbody>\n",
              "</table>\n",
              "</div>"
            ],
            "text/plain": [
              "   Name\n",
              "0  John\n",
              "1   Sam\n",
              "2  Eric\n",
              "3   Ken"
            ]
          },
          "execution_count": 22,
          "metadata": {},
          "output_type": "execute_result"
        }
      ],
      "source": [
        "dataframe2 [['Name']]"
      ]
    },
    {
      "cell_type": "code",
      "execution_count": null,
      "id": "aeb82b48",
      "metadata": {
        "id": "aeb82b48",
        "outputId": "a0e9de2c-2fc3-4987-d3b5-059013ca865c"
      },
      "outputs": [
        {
          "name": "stdout",
          "output_type": "stream",
          "text": [
            "                     Name               Age\n",
            "0  [John, Sam, Eric, Ken]  [25, 20, 30, 28]\n"
          ]
        }
      ],
      "source": [
        "list2 = [{'Name': ['John','Sam','Eric','Ken'],'Age':[25,20,30,28] }]\n",
        "dataframe2=pd.DataFrame(list2)\n",
        "print (dataframe2)\n"
      ]
    },
    {
      "cell_type": "code",
      "execution_count": null,
      "id": "4207d49f",
      "metadata": {
        "id": "4207d49f",
        "outputId": "8922db68-b2af-47c9-c7e6-1902a056c0d4"
      },
      "outputs": [
        {
          "name": "stdout",
          "output_type": "stream",
          "text": [
            "   Name  Age\n",
            "0  John   25\n",
            "1   Sam   20\n",
            "2  Eric   30\n",
            "3   Ken   28\n"
          ]
        }
      ],
      "source": [
        "list2 = {'Name': ['John','Sam','Eric','Ken'],'Age':[25,20,30,28] }\n",
        "dataframe2=pd.DataFrame(list2)\n",
        "print (dataframe2)"
      ]
    },
    {
      "cell_type": "code",
      "execution_count": null,
      "id": "577f0dcc",
      "metadata": {
        "id": "577f0dcc",
        "outputId": "9adc7403-1e1d-4cf0-8834-488f27aacd4c"
      },
      "outputs": [
        {
          "name": "stdout",
          "output_type": "stream",
          "text": [
            "   Name  Age\n",
            "0  John   25\n",
            "1   Sam   20\n",
            "2  Eric   30\n",
            "3   Ken   28\n"
          ]
        }
      ],
      "source": [
        "dict = {'Name': ['John','Sam','Eric','Ken'],'Age':[25,20,30,28] }\n",
        "dataframe2=pd.DataFrame(dict)\n",
        "print (dataframe2)\n"
      ]
    },
    {
      "cell_type": "code",
      "execution_count": null,
      "id": "b32fb950",
      "metadata": {
        "id": "b32fb950",
        "outputId": "c3346d78-f12f-4f4c-e487-2eb1200c047d"
      },
      "outputs": [
        {
          "name": "stdout",
          "output_type": "stream",
          "text": [
            "      0   1     2\n",
            "0   Sam  28  5362\n",
            "1   Ken  32  7500\n",
            "2  Eric  45  8512\n"
          ]
        }
      ],
      "source": [
        "list2= [['Sam', 28,5362],['Ken',32,7500], ['Eric',45,8512]]\n",
        "df2 = pd.DataFrame(list2)\n",
        "print (df2)\n"
      ]
    },
    {
      "cell_type": "code",
      "execution_count": null,
      "id": "ec7fe454",
      "metadata": {
        "id": "ec7fe454",
        "outputId": "4867fa82-d6a5-4e9f-e031-9710cc8bb822"
      },
      "outputs": [
        {
          "name": "stdout",
          "output_type": "stream",
          "text": [
            "      0    1     2\n",
            "0   Sam   28  5362\n",
            "1    32  Ken  7500\n",
            "2  Eric   45  8512\n"
          ]
        }
      ],
      "source": [
        "list2= [['Sam', 28,5362],[32,'Ken',7500], ['Eric',45,8512]]\n",
        "df2 = pd.DataFrame(list2)\n",
        "print (df2)"
      ]
    },
    {
      "cell_type": "code",
      "execution_count": null,
      "id": "6e47e7e4",
      "metadata": {
        "id": "6e47e7e4",
        "outputId": "3389d2e4-6cf2-4f75-d524-2810cabd49b0"
      },
      "outputs": [
        {
          "name": "stdout",
          "output_type": "stream",
          "text": [
            "   Name  Age Last_Name\n",
            "0  John   25       NaN\n",
            "1   Sam   20       NaN\n",
            "2  Eric   30       NaN\n",
            "3   Ken   28      Soto\n"
          ]
        }
      ],
      "source": [
        "list2 = [{'Name': 'John','Age':25}, {'Name':'Sam','Age':20},\n",
        "         {'Name':'Eric','Age':30},{'Name':'Ken','Age':28,'Last_Name':'Soto'}]\n",
        "dataframe2=pd.DataFrame(list2)\n",
        "print (dataframe2)\n"
      ]
    },
    {
      "cell_type": "code",
      "execution_count": null,
      "id": "dbe2e150",
      "metadata": {
        "id": "dbe2e150",
        "outputId": "c5e5eeb8-68be-4be2-8aac-f4292883062c"
      },
      "outputs": [
        {
          "name": "stdout",
          "output_type": "stream",
          "text": [
            "   Name  Age Last_Name\n",
            "0  John   25       NaN\n",
            "1   Sam   20       NaN\n",
            "2  Eric   30       NaN\n",
            "3   Ken   28      Soto\n"
          ]
        }
      ],
      "source": [
        "list2 = [{'Name': 'John','Age':25}, {'Age':20,'Name':'Sam'},\n",
        "         {'Name':'Eric','Age':30},{'Name':'Ken','Age':28,'Last_Name':'Soto'}]\n",
        "dataframe2=pd.DataFrame(list2)\n",
        "print (dataframe2)\n"
      ]
    },
    {
      "cell_type": "code",
      "execution_count": null,
      "id": "7dca4a10",
      "metadata": {
        "id": "7dca4a10",
        "outputId": "186a6556-a2d1-42ec-db04-7fc7e3cf0746"
      },
      "outputs": [
        {
          "name": "stdout",
          "output_type": "stream",
          "text": [
            "      a   b\n",
            "a  10.0  10\n",
            "b  11.0  11\n",
            "c  12.0  12\n",
            "d   NaN  13\n"
          ]
        }
      ],
      "source": [
        "\n",
        "data1 = {'a': pd.Series ([10,11,12],index = ['a','b','c']),'b': pd.Series ([10,11,12,13],index = ['a','b','c','d'])}\n",
        "tab1 = pd.DataFrame(data1)\n",
        "print (tab1)\n"
      ]
    },
    {
      "cell_type": "code",
      "execution_count": null,
      "id": "7f0c87fd",
      "metadata": {
        "id": "7f0c87fd",
        "outputId": "82061ffe-9318-4909-871a-056088ff47df"
      },
      "outputs": [
        {
          "name": "stdout",
          "output_type": "stream",
          "text": [
            "      a   b\n",
            "a  10.0  10\n",
            "b  11.0  11\n",
            "c  12.0  12\n",
            "d   NaN  13\n"
          ]
        }
      ],
      "source": [
        "data1 = {'a': pd.Series ([10,11,12],index = ['a','b','c']),'b': pd.Series ([10,11,12,13],index = ['a','b','c','d'])}\n",
        "tab1 = pd.DataFrame(data1)\n",
        "print (tab1)\n"
      ]
    },
    {
      "cell_type": "code",
      "execution_count": null,
      "id": "2faf8512",
      "metadata": {
        "id": "2faf8512",
        "outputId": "76e32939-248b-410f-9bbc-3d69787f26c0"
      },
      "outputs": [
        {
          "data": {
            "text/plain": [
              "a    10\n",
              "b    11\n",
              "c    12\n",
              "dtype: int64"
            ]
          },
          "execution_count": 33,
          "metadata": {},
          "output_type": "execute_result"
        }
      ],
      "source": [
        "pd.Series ([10,11,12],index = ['a','b','c'])"
      ]
    },
    {
      "cell_type": "code",
      "execution_count": null,
      "id": "30e93360",
      "metadata": {
        "id": "30e93360",
        "outputId": "413e6946-9b6d-4593-bb52-e4ef88018632"
      },
      "outputs": [
        {
          "data": {
            "text/plain": [
              "a    10\n",
              "b    11\n",
              "c    12\n",
              "d    13\n",
              "dtype: int64"
            ]
          },
          "execution_count": 34,
          "metadata": {},
          "output_type": "execute_result"
        }
      ],
      "source": [
        "pd.Series ([10,11,12,13],index = ['a','b','c','d'])"
      ]
    },
    {
      "cell_type": "code",
      "execution_count": null,
      "id": "ced05a5f",
      "metadata": {
        "id": "ced05a5f",
        "outputId": "a11ef951-5b78-4ebf-fe0c-d1f53e54df26"
      },
      "outputs": [
        {
          "name": "stdout",
          "output_type": "stream",
          "text": [
            "      a   b\n",
            "a  10.0  10\n",
            "b  11.0  11\n",
            "c  12.0  12\n",
            "d   NaN  13\n"
          ]
        }
      ],
      "source": [
        "data1 = {'a': pd.Series ([10,11,12],index = ['a','b','c']),'b': pd.Series ([10,11,12,13],index = ['a','b','c','d'])}\n",
        "tab1 = pd.DataFrame(data1)\n",
        "print (tab1)"
      ]
    },
    {
      "cell_type": "code",
      "execution_count": null,
      "id": "44c7288a",
      "metadata": {
        "id": "44c7288a",
        "outputId": "db21a4da-7941-4e38-bc37-811b5f4d1dd5"
      },
      "outputs": [
        {
          "data": {
            "text/html": [
              "<div>\n",
              "<style scoped>\n",
              "    .dataframe tbody tr th:only-of-type {\n",
              "        vertical-align: middle;\n",
              "    }\n",
              "\n",
              "    .dataframe tbody tr th {\n",
              "        vertical-align: top;\n",
              "    }\n",
              "\n",
              "    .dataframe thead th {\n",
              "        text-align: right;\n",
              "    }\n",
              "</style>\n",
              "<table border=\"1\" class=\"dataframe\">\n",
              "  <thead>\n",
              "    <tr style=\"text-align: right;\">\n",
              "      <th></th>\n",
              "      <th>one</th>\n",
              "      <th>two</th>\n",
              "    </tr>\n",
              "  </thead>\n",
              "  <tbody>\n",
              "    <tr>\n",
              "      <th>a</th>\n",
              "      <td>1.0</td>\n",
              "      <td>10</td>\n",
              "    </tr>\n",
              "    <tr>\n",
              "      <th>b</th>\n",
              "      <td>2.0</td>\n",
              "      <td>15</td>\n",
              "    </tr>\n",
              "    <tr>\n",
              "      <th>c</th>\n",
              "      <td>3.0</td>\n",
              "      <td>20</td>\n",
              "    </tr>\n",
              "    <tr>\n",
              "      <th>d</th>\n",
              "      <td>NaN</td>\n",
              "      <td>30</td>\n",
              "    </tr>\n",
              "  </tbody>\n",
              "</table>\n",
              "</div>"
            ],
            "text/plain": [
              "   one  two\n",
              "a  1.0   10\n",
              "b  2.0   15\n",
              "c  3.0   20\n",
              "d  NaN   30"
            ]
          },
          "execution_count": 36,
          "metadata": {},
          "output_type": "execute_result"
        }
      ],
      "source": [
        "data = {'one':pd.Series ([1,2,3], index = ['a','b','c']),\n",
        "        'two':pd.Series ([10,15,20,30], index = ['a','b','c','d']) }\n",
        "Ser= pd.DataFrame(data)\n",
        "Ser"
      ]
    },
    {
      "cell_type": "code",
      "execution_count": null,
      "id": "a399c2cc",
      "metadata": {
        "id": "a399c2cc",
        "outputId": "065d9225-f09e-4a69-a58f-4bdb54f8c8ce"
      },
      "outputs": [
        {
          "data": {
            "text/html": [
              "<div>\n",
              "<style scoped>\n",
              "    .dataframe tbody tr th:only-of-type {\n",
              "        vertical-align: middle;\n",
              "    }\n",
              "\n",
              "    .dataframe tbody tr th {\n",
              "        vertical-align: top;\n",
              "    }\n",
              "\n",
              "    .dataframe thead th {\n",
              "        text-align: right;\n",
              "    }\n",
              "</style>\n",
              "<table border=\"1\" class=\"dataframe\">\n",
              "  <thead>\n",
              "    <tr style=\"text-align: right;\">\n",
              "      <th></th>\n",
              "      <th>one</th>\n",
              "      <th>two</th>\n",
              "      <th>Three</th>\n",
              "    </tr>\n",
              "  </thead>\n",
              "  <tbody>\n",
              "    <tr>\n",
              "      <th>a</th>\n",
              "      <td>1.0</td>\n",
              "      <td>10</td>\n",
              "      <td>10</td>\n",
              "    </tr>\n",
              "    <tr>\n",
              "      <th>b</th>\n",
              "      <td>2.0</td>\n",
              "      <td>15</td>\n",
              "      <td>15</td>\n",
              "    </tr>\n",
              "    <tr>\n",
              "      <th>c</th>\n",
              "      <td>3.0</td>\n",
              "      <td>20</td>\n",
              "      <td>20</td>\n",
              "    </tr>\n",
              "    <tr>\n",
              "      <th>d</th>\n",
              "      <td>NaN</td>\n",
              "      <td>30</td>\n",
              "      <td>30</td>\n",
              "    </tr>\n",
              "  </tbody>\n",
              "</table>\n",
              "</div>"
            ],
            "text/plain": [
              "   one  two  Three\n",
              "a  1.0   10     10\n",
              "b  2.0   15     15\n",
              "c  3.0   20     20\n",
              "d  NaN   30     30"
            ]
          },
          "execution_count": 37,
          "metadata": {},
          "output_type": "execute_result"
        }
      ],
      "source": [
        "Ser ['Three'] = pd.Series ([10,15,20,30], index = ['a','b','c','d'])\n",
        "Ser"
      ]
    },
    {
      "cell_type": "code",
      "execution_count": null,
      "id": "e5c5652b",
      "metadata": {
        "id": "e5c5652b",
        "outputId": "e307a7f8-db97-4b7d-e7a2-a67b2f2704e1"
      },
      "outputs": [
        {
          "data": {
            "text/html": [
              "<div>\n",
              "<style scoped>\n",
              "    .dataframe tbody tr th:only-of-type {\n",
              "        vertical-align: middle;\n",
              "    }\n",
              "\n",
              "    .dataframe tbody tr th {\n",
              "        vertical-align: top;\n",
              "    }\n",
              "\n",
              "    .dataframe thead th {\n",
              "        text-align: right;\n",
              "    }\n",
              "</style>\n",
              "<table border=\"1\" class=\"dataframe\">\n",
              "  <thead>\n",
              "    <tr style=\"text-align: right;\">\n",
              "      <th></th>\n",
              "      <th>one</th>\n",
              "      <th>two</th>\n",
              "      <th>Three</th>\n",
              "      <th>Four</th>\n",
              "    </tr>\n",
              "  </thead>\n",
              "  <tbody>\n",
              "    <tr>\n",
              "      <th>a</th>\n",
              "      <td>1.0</td>\n",
              "      <td>10</td>\n",
              "      <td>10</td>\n",
              "      <td>52.0</td>\n",
              "    </tr>\n",
              "    <tr>\n",
              "      <th>b</th>\n",
              "      <td>2.0</td>\n",
              "      <td>15</td>\n",
              "      <td>15</td>\n",
              "      <td>NaN</td>\n",
              "    </tr>\n",
              "    <tr>\n",
              "      <th>c</th>\n",
              "      <td>3.0</td>\n",
              "      <td>20</td>\n",
              "      <td>20</td>\n",
              "      <td>50.0</td>\n",
              "    </tr>\n",
              "    <tr>\n",
              "      <th>d</th>\n",
              "      <td>NaN</td>\n",
              "      <td>30</td>\n",
              "      <td>30</td>\n",
              "      <td>NaN</td>\n",
              "    </tr>\n",
              "  </tbody>\n",
              "</table>\n",
              "</div>"
            ],
            "text/plain": [
              "   one  two  Three  Four\n",
              "a  1.0   10     10  52.0\n",
              "b  2.0   15     15   NaN\n",
              "c  3.0   20     20  50.0\n",
              "d  NaN   30     30   NaN"
            ]
          },
          "execution_count": 38,
          "metadata": {},
          "output_type": "execute_result"
        }
      ],
      "source": [
        "Ser ['Four'] = pd.Series ([50,51,52,53], index = ['c','e','a','f'])\n",
        "Ser"
      ]
    },
    {
      "cell_type": "code",
      "execution_count": null,
      "id": "20923ef0",
      "metadata": {
        "id": "20923ef0",
        "outputId": "8051e47d-6515-40b2-dc58-11804442abc3"
      },
      "outputs": [
        {
          "data": {
            "text/html": [
              "<div>\n",
              "<style scoped>\n",
              "    .dataframe tbody tr th:only-of-type {\n",
              "        vertical-align: middle;\n",
              "    }\n",
              "\n",
              "    .dataframe tbody tr th {\n",
              "        vertical-align: top;\n",
              "    }\n",
              "\n",
              "    .dataframe thead th {\n",
              "        text-align: right;\n",
              "    }\n",
              "</style>\n",
              "<table border=\"1\" class=\"dataframe\">\n",
              "  <thead>\n",
              "    <tr style=\"text-align: right;\">\n",
              "      <th></th>\n",
              "      <th>one</th>\n",
              "      <th>two</th>\n",
              "    </tr>\n",
              "  </thead>\n",
              "  <tbody>\n",
              "    <tr>\n",
              "      <th>0</th>\n",
              "      <td>1.0</td>\n",
              "      <td>10</td>\n",
              "    </tr>\n",
              "    <tr>\n",
              "      <th>1</th>\n",
              "      <td>2.0</td>\n",
              "      <td>15</td>\n",
              "    </tr>\n",
              "    <tr>\n",
              "      <th>2</th>\n",
              "      <td>3.0</td>\n",
              "      <td>20</td>\n",
              "    </tr>\n",
              "    <tr>\n",
              "      <th>3</th>\n",
              "      <td>NaN</td>\n",
              "      <td>30</td>\n",
              "    </tr>\n",
              "  </tbody>\n",
              "</table>\n",
              "</div>"
            ],
            "text/plain": [
              "   one  two\n",
              "0  1.0   10\n",
              "1  2.0   15\n",
              "2  3.0   20\n",
              "3  NaN   30"
            ]
          },
          "execution_count": 39,
          "metadata": {},
          "output_type": "execute_result"
        }
      ],
      "source": [
        "data = {'one':pd.Series ([1,2,3]),\n",
        "        'two':pd.Series ([10,15,20,30]) }\n",
        "Ser= pd.DataFrame(data)\n",
        "Ser"
      ]
    },
    {
      "cell_type": "code",
      "execution_count": null,
      "id": "5681fd53",
      "metadata": {
        "id": "5681fd53",
        "outputId": "47041b11-0b6d-4325-d780-4fec6b8e7cbb"
      },
      "outputs": [
        {
          "data": {
            "text/html": [
              "<div>\n",
              "<style scoped>\n",
              "    .dataframe tbody tr th:only-of-type {\n",
              "        vertical-align: middle;\n",
              "    }\n",
              "\n",
              "    .dataframe tbody tr th {\n",
              "        vertical-align: top;\n",
              "    }\n",
              "\n",
              "    .dataframe thead th {\n",
              "        text-align: right;\n",
              "    }\n",
              "</style>\n",
              "<table border=\"1\" class=\"dataframe\">\n",
              "  <thead>\n",
              "    <tr style=\"text-align: right;\">\n",
              "      <th></th>\n",
              "      <th>one</th>\n",
              "      <th>two</th>\n",
              "      <th>Four</th>\n",
              "    </tr>\n",
              "  </thead>\n",
              "  <tbody>\n",
              "    <tr>\n",
              "      <th>0</th>\n",
              "      <td>1.0</td>\n",
              "      <td>10</td>\n",
              "      <td>NaN</td>\n",
              "    </tr>\n",
              "    <tr>\n",
              "      <th>1</th>\n",
              "      <td>2.0</td>\n",
              "      <td>15</td>\n",
              "      <td>NaN</td>\n",
              "    </tr>\n",
              "    <tr>\n",
              "      <th>2</th>\n",
              "      <td>3.0</td>\n",
              "      <td>20</td>\n",
              "      <td>NaN</td>\n",
              "    </tr>\n",
              "    <tr>\n",
              "      <th>3</th>\n",
              "      <td>NaN</td>\n",
              "      <td>30</td>\n",
              "      <td>NaN</td>\n",
              "    </tr>\n",
              "  </tbody>\n",
              "</table>\n",
              "</div>"
            ],
            "text/plain": [
              "   one  two  Four\n",
              "0  1.0   10   NaN\n",
              "1  2.0   15   NaN\n",
              "2  3.0   20   NaN\n",
              "3  NaN   30   NaN"
            ]
          },
          "execution_count": 40,
          "metadata": {},
          "output_type": "execute_result"
        }
      ],
      "source": [
        "Ser ['Four'] = pd.Series ([50,51,52,53], index = ['c','e','a','f'])\n",
        "Ser"
      ]
    },
    {
      "cell_type": "code",
      "execution_count": null,
      "id": "9035edc0",
      "metadata": {
        "id": "9035edc0",
        "outputId": "07db0c51-f217-49e1-c45c-d2661f4b8dbc"
      },
      "outputs": [
        {
          "data": {
            "text/html": [
              "<div>\n",
              "<style scoped>\n",
              "    .dataframe tbody tr th:only-of-type {\n",
              "        vertical-align: middle;\n",
              "    }\n",
              "\n",
              "    .dataframe tbody tr th {\n",
              "        vertical-align: top;\n",
              "    }\n",
              "\n",
              "    .dataframe thead th {\n",
              "        text-align: right;\n",
              "    }\n",
              "</style>\n",
              "<table border=\"1\" class=\"dataframe\">\n",
              "  <thead>\n",
              "    <tr style=\"text-align: right;\">\n",
              "      <th></th>\n",
              "      <th>Name</th>\n",
              "      <th>Age</th>\n",
              "      <th>Last_Name</th>\n",
              "    </tr>\n",
              "  </thead>\n",
              "  <tbody>\n",
              "    <tr>\n",
              "      <th>0</th>\n",
              "      <td>John</td>\n",
              "      <td>25</td>\n",
              "      <td>NaN</td>\n",
              "    </tr>\n",
              "    <tr>\n",
              "      <th>1</th>\n",
              "      <td>Sam</td>\n",
              "      <td>20</td>\n",
              "      <td>NaN</td>\n",
              "    </tr>\n",
              "    <tr>\n",
              "      <th>2</th>\n",
              "      <td>Eric</td>\n",
              "      <td>30</td>\n",
              "      <td>NaN</td>\n",
              "    </tr>\n",
              "    <tr>\n",
              "      <th>3</th>\n",
              "      <td>Ken</td>\n",
              "      <td>28</td>\n",
              "      <td>Soto</td>\n",
              "    </tr>\n",
              "  </tbody>\n",
              "</table>\n",
              "</div>"
            ],
            "text/plain": [
              "   Name  Age Last_Name\n",
              "0  John   25       NaN\n",
              "1   Sam   20       NaN\n",
              "2  Eric   30       NaN\n",
              "3   Ken   28      Soto"
            ]
          },
          "execution_count": 41,
          "metadata": {},
          "output_type": "execute_result"
        }
      ],
      "source": [
        "list2 = [{'Name': 'John','Age':25}, {'Name':'Sam','Age':20},\n",
        "         {'Name':'Eric','Age':30},{'Name':'Ken','Age':28,'Last_Name':'Soto'}]\n",
        "\n",
        "dataframe2=pd.DataFrame(list2)\n",
        "dataframe2"
      ]
    },
    {
      "cell_type": "code",
      "execution_count": null,
      "id": "bcff882b",
      "metadata": {
        "id": "bcff882b",
        "outputId": "8989c086-dac6-4d39-ed29-812a21ef07ff"
      },
      "outputs": [
        {
          "data": {
            "text/html": [
              "<div>\n",
              "<style scoped>\n",
              "    .dataframe tbody tr th:only-of-type {\n",
              "        vertical-align: middle;\n",
              "    }\n",
              "\n",
              "    .dataframe tbody tr th {\n",
              "        vertical-align: top;\n",
              "    }\n",
              "\n",
              "    .dataframe thead th {\n",
              "        text-align: right;\n",
              "    }\n",
              "</style>\n",
              "<table border=\"1\" class=\"dataframe\">\n",
              "  <thead>\n",
              "    <tr style=\"text-align: right;\">\n",
              "      <th></th>\n",
              "      <th>Name</th>\n",
              "      <th>Age</th>\n",
              "      <th>Last_Name</th>\n",
              "    </tr>\n",
              "  </thead>\n",
              "  <tbody>\n",
              "    <tr>\n",
              "      <th>Row1</th>\n",
              "      <td>John</td>\n",
              "      <td>25</td>\n",
              "      <td>NaN</td>\n",
              "    </tr>\n",
              "    <tr>\n",
              "      <th>Row2</th>\n",
              "      <td>Sam</td>\n",
              "      <td>20</td>\n",
              "      <td>NaN</td>\n",
              "    </tr>\n",
              "    <tr>\n",
              "      <th>Row3</th>\n",
              "      <td>Eric</td>\n",
              "      <td>30</td>\n",
              "      <td>NaN</td>\n",
              "    </tr>\n",
              "    <tr>\n",
              "      <th>Row4</th>\n",
              "      <td>Ken</td>\n",
              "      <td>28</td>\n",
              "      <td>Soto</td>\n",
              "    </tr>\n",
              "  </tbody>\n",
              "</table>\n",
              "</div>"
            ],
            "text/plain": [
              "      Name  Age Last_Name\n",
              "Row1  John   25       NaN\n",
              "Row2   Sam   20       NaN\n",
              "Row3  Eric   30       NaN\n",
              "Row4   Ken   28      Soto"
            ]
          },
          "execution_count": 42,
          "metadata": {},
          "output_type": "execute_result"
        }
      ],
      "source": [
        "dataframe2=pd.DataFrame(list2,index  = ['Row1','Row2','Row3','Row4'])\n",
        "dataframe2"
      ]
    },
    {
      "cell_type": "code",
      "execution_count": null,
      "id": "a1ae0e68",
      "metadata": {
        "id": "a1ae0e68",
        "outputId": "c06d3ffd-e57b-4d4f-efc6-1ced4231bed6"
      },
      "outputs": [
        {
          "ename": "ValueError",
          "evalue": "Length of values (4) does not match length of index (3)",
          "output_type": "error",
          "traceback": [
            "\u001b[1;31m---------------------------------------------------------------------------\u001b[0m",
            "\u001b[1;31mValueError\u001b[0m                                Traceback (most recent call last)",
            "Cell \u001b[1;32mIn [43], line 1\u001b[0m\n\u001b[1;32m----> 1\u001b[0m dataframe2\u001b[38;5;241m=\u001b[39m\u001b[43mpd\u001b[49m\u001b[38;5;241;43m.\u001b[39;49m\u001b[43mDataFrame\u001b[49m\u001b[43m(\u001b[49m\u001b[43mlist2\u001b[49m\u001b[43m,\u001b[49m\u001b[43mindex\u001b[49m\u001b[43m  \u001b[49m\u001b[38;5;241;43m=\u001b[39;49m\u001b[43m \u001b[49m\u001b[43m[\u001b[49m\u001b[38;5;124;43m'\u001b[39;49m\u001b[38;5;124;43mRow1\u001b[39;49m\u001b[38;5;124;43m'\u001b[39;49m\u001b[43m,\u001b[49m\u001b[38;5;124;43m'\u001b[39;49m\u001b[38;5;124;43mRow2\u001b[39;49m\u001b[38;5;124;43m'\u001b[39;49m\u001b[43m,\u001b[49m\u001b[38;5;124;43m'\u001b[39;49m\u001b[38;5;124;43mRow4\u001b[39;49m\u001b[38;5;124;43m'\u001b[39;49m\u001b[43m]\u001b[49m\u001b[43m)\u001b[49m\n\u001b[0;32m      2\u001b[0m dataframe2\n",
            "File \u001b[1;32mC:\\ProgramData\\Anaconda3\\lib\\site-packages\\pandas\\core\\frame.py:729\u001b[0m, in \u001b[0;36mDataFrame.__init__\u001b[1;34m(self, data, index, columns, dtype, copy)\u001b[0m\n\u001b[0;32m    720\u001b[0m         columns \u001b[38;5;241m=\u001b[39m ensure_index(columns)  \u001b[38;5;66;03m# type: ignore[arg-type]\u001b[39;00m\n\u001b[0;32m    721\u001b[0m     arrays, columns, index \u001b[38;5;241m=\u001b[39m nested_data_to_arrays(\n\u001b[0;32m    722\u001b[0m         \u001b[38;5;66;03m# error: Argument 3 to \"nested_data_to_arrays\" has incompatible\u001b[39;00m\n\u001b[0;32m    723\u001b[0m         \u001b[38;5;66;03m# type \"Optional[Collection[Any]]\"; expected \"Optional[Index]\"\u001b[39;00m\n\u001b[1;32m   (...)\u001b[0m\n\u001b[0;32m    727\u001b[0m         dtype,\n\u001b[0;32m    728\u001b[0m     )\n\u001b[1;32m--> 729\u001b[0m     mgr \u001b[38;5;241m=\u001b[39m \u001b[43marrays_to_mgr\u001b[49m\u001b[43m(\u001b[49m\n\u001b[0;32m    730\u001b[0m \u001b[43m        \u001b[49m\u001b[43marrays\u001b[49m\u001b[43m,\u001b[49m\n\u001b[0;32m    731\u001b[0m \u001b[43m        \u001b[49m\u001b[43mcolumns\u001b[49m\u001b[43m,\u001b[49m\n\u001b[0;32m    732\u001b[0m \u001b[43m        \u001b[49m\u001b[43mindex\u001b[49m\u001b[43m,\u001b[49m\n\u001b[0;32m    733\u001b[0m \u001b[43m        \u001b[49m\u001b[43mdtype\u001b[49m\u001b[38;5;241;43m=\u001b[39;49m\u001b[43mdtype\u001b[49m\u001b[43m,\u001b[49m\n\u001b[0;32m    734\u001b[0m \u001b[43m        \u001b[49m\u001b[43mtyp\u001b[49m\u001b[38;5;241;43m=\u001b[39;49m\u001b[43mmanager\u001b[49m\u001b[43m,\u001b[49m\n\u001b[0;32m    735\u001b[0m \u001b[43m    \u001b[49m\u001b[43m)\u001b[49m\n\u001b[0;32m    736\u001b[0m \u001b[38;5;28;01melse\u001b[39;00m:\n\u001b[0;32m    737\u001b[0m     mgr \u001b[38;5;241m=\u001b[39m ndarray_to_mgr(\n\u001b[0;32m    738\u001b[0m         data,\n\u001b[0;32m    739\u001b[0m         index,\n\u001b[1;32m   (...)\u001b[0m\n\u001b[0;32m    743\u001b[0m         typ\u001b[38;5;241m=\u001b[39mmanager,\n\u001b[0;32m    744\u001b[0m     )\n",
            "File \u001b[1;32mC:\\ProgramData\\Anaconda3\\lib\\site-packages\\pandas\\core\\internals\\construction.py:125\u001b[0m, in \u001b[0;36marrays_to_mgr\u001b[1;34m(arrays, columns, index, dtype, verify_integrity, typ, consolidate)\u001b[0m\n\u001b[0;32m    122\u001b[0m         index \u001b[38;5;241m=\u001b[39m ensure_index(index)\n\u001b[0;32m    124\u001b[0m     \u001b[38;5;66;03m# don't force copy because getting jammed in an ndarray anyway\u001b[39;00m\n\u001b[1;32m--> 125\u001b[0m     arrays \u001b[38;5;241m=\u001b[39m \u001b[43m_homogenize\u001b[49m\u001b[43m(\u001b[49m\u001b[43marrays\u001b[49m\u001b[43m,\u001b[49m\u001b[43m \u001b[49m\u001b[43mindex\u001b[49m\u001b[43m,\u001b[49m\u001b[43m \u001b[49m\u001b[43mdtype\u001b[49m\u001b[43m)\u001b[49m\n\u001b[0;32m    126\u001b[0m     \u001b[38;5;66;03m# _homogenize ensures\u001b[39;00m\n\u001b[0;32m    127\u001b[0m     \u001b[38;5;66;03m#  - all(len(x) == len(index) for x in arrays)\u001b[39;00m\n\u001b[0;32m    128\u001b[0m     \u001b[38;5;66;03m#  - all(x.ndim == 1 for x in arrays)\u001b[39;00m\n\u001b[1;32m   (...)\u001b[0m\n\u001b[0;32m    131\u001b[0m \n\u001b[0;32m    132\u001b[0m \u001b[38;5;28;01melse\u001b[39;00m:\n\u001b[0;32m    133\u001b[0m     index \u001b[38;5;241m=\u001b[39m ensure_index(index)\n",
            "File \u001b[1;32mC:\\ProgramData\\Anaconda3\\lib\\site-packages\\pandas\\core\\internals\\construction.py:628\u001b[0m, in \u001b[0;36m_homogenize\u001b[1;34m(data, index, dtype)\u001b[0m\n\u001b[0;32m    623\u001b[0m             val \u001b[38;5;241m=\u001b[39m lib\u001b[38;5;241m.\u001b[39mfast_multiget(val, oindex\u001b[38;5;241m.\u001b[39m_values, default\u001b[38;5;241m=\u001b[39mnp\u001b[38;5;241m.\u001b[39mnan)\n\u001b[0;32m    625\u001b[0m         val \u001b[38;5;241m=\u001b[39m sanitize_array(\n\u001b[0;32m    626\u001b[0m             val, index, dtype\u001b[38;5;241m=\u001b[39mdtype, copy\u001b[38;5;241m=\u001b[39m\u001b[38;5;28;01mFalse\u001b[39;00m, raise_cast_failure\u001b[38;5;241m=\u001b[39m\u001b[38;5;28;01mFalse\u001b[39;00m\n\u001b[0;32m    627\u001b[0m         )\n\u001b[1;32m--> 628\u001b[0m         \u001b[43mcom\u001b[49m\u001b[38;5;241;43m.\u001b[39;49m\u001b[43mrequire_length_match\u001b[49m\u001b[43m(\u001b[49m\u001b[43mval\u001b[49m\u001b[43m,\u001b[49m\u001b[43m \u001b[49m\u001b[43mindex\u001b[49m\u001b[43m)\u001b[49m\n\u001b[0;32m    630\u001b[0m     homogenized\u001b[38;5;241m.\u001b[39mappend(val)\n\u001b[0;32m    632\u001b[0m \u001b[38;5;28;01mreturn\u001b[39;00m homogenized\n",
            "File \u001b[1;32mC:\\ProgramData\\Anaconda3\\lib\\site-packages\\pandas\\core\\common.py:557\u001b[0m, in \u001b[0;36mrequire_length_match\u001b[1;34m(data, index)\u001b[0m\n\u001b[0;32m    553\u001b[0m \u001b[38;5;124;03m\"\"\"\u001b[39;00m\n\u001b[0;32m    554\u001b[0m \u001b[38;5;124;03mCheck the length of data matches the length of the index.\u001b[39;00m\n\u001b[0;32m    555\u001b[0m \u001b[38;5;124;03m\"\"\"\u001b[39;00m\n\u001b[0;32m    556\u001b[0m \u001b[38;5;28;01mif\u001b[39;00m \u001b[38;5;28mlen\u001b[39m(data) \u001b[38;5;241m!=\u001b[39m \u001b[38;5;28mlen\u001b[39m(index):\n\u001b[1;32m--> 557\u001b[0m     \u001b[38;5;28;01mraise\u001b[39;00m \u001b[38;5;167;01mValueError\u001b[39;00m(\n\u001b[0;32m    558\u001b[0m         \u001b[38;5;124m\"\u001b[39m\u001b[38;5;124mLength of values \u001b[39m\u001b[38;5;124m\"\u001b[39m\n\u001b[0;32m    559\u001b[0m         \u001b[38;5;124mf\u001b[39m\u001b[38;5;124m\"\u001b[39m\u001b[38;5;124m(\u001b[39m\u001b[38;5;132;01m{\u001b[39;00m\u001b[38;5;28mlen\u001b[39m(data)\u001b[38;5;132;01m}\u001b[39;00m\u001b[38;5;124m) \u001b[39m\u001b[38;5;124m\"\u001b[39m\n\u001b[0;32m    560\u001b[0m         \u001b[38;5;124m\"\u001b[39m\u001b[38;5;124mdoes not match length of index \u001b[39m\u001b[38;5;124m\"\u001b[39m\n\u001b[0;32m    561\u001b[0m         \u001b[38;5;124mf\u001b[39m\u001b[38;5;124m\"\u001b[39m\u001b[38;5;124m(\u001b[39m\u001b[38;5;132;01m{\u001b[39;00m\u001b[38;5;28mlen\u001b[39m(index)\u001b[38;5;132;01m}\u001b[39;00m\u001b[38;5;124m)\u001b[39m\u001b[38;5;124m\"\u001b[39m\n\u001b[0;32m    562\u001b[0m     )\n",
            "\u001b[1;31mValueError\u001b[0m: Length of values (4) does not match length of index (3)"
          ]
        }
      ],
      "source": [
        "dataframe2=pd.DataFrame(list2,index  = ['Row1','Row2','Row4'])\n",
        "dataframe2"
      ]
    },
    {
      "cell_type": "code",
      "execution_count": null,
      "id": "8940f838",
      "metadata": {
        "id": "8940f838",
        "outputId": "5a65ee36-f12d-445f-9b9d-53c6e9a77202"
      },
      "outputs": [
        {
          "data": {
            "text/html": [
              "<div>\n",
              "<style scoped>\n",
              "    .dataframe tbody tr th:only-of-type {\n",
              "        vertical-align: middle;\n",
              "    }\n",
              "\n",
              "    .dataframe tbody tr th {\n",
              "        vertical-align: top;\n",
              "    }\n",
              "\n",
              "    .dataframe thead th {\n",
              "        text-align: right;\n",
              "    }\n",
              "</style>\n",
              "<table border=\"1\" class=\"dataframe\">\n",
              "  <thead>\n",
              "    <tr style=\"text-align: right;\">\n",
              "      <th></th>\n",
              "      <th>Name</th>\n",
              "      <th>Age</th>\n",
              "      <th>Last_Name</th>\n",
              "    </tr>\n",
              "  </thead>\n",
              "  <tbody>\n",
              "    <tr>\n",
              "      <th>Row1</th>\n",
              "      <td>John</td>\n",
              "      <td>25</td>\n",
              "      <td>NaN</td>\n",
              "    </tr>\n",
              "    <tr>\n",
              "      <th>Row2</th>\n",
              "      <td>Sam</td>\n",
              "      <td>20</td>\n",
              "      <td>NaN</td>\n",
              "    </tr>\n",
              "    <tr>\n",
              "      <th>Row2</th>\n",
              "      <td>Eric</td>\n",
              "      <td>30</td>\n",
              "      <td>NaN</td>\n",
              "    </tr>\n",
              "    <tr>\n",
              "      <th>Row4</th>\n",
              "      <td>Ken</td>\n",
              "      <td>28</td>\n",
              "      <td>Soto</td>\n",
              "    </tr>\n",
              "  </tbody>\n",
              "</table>\n",
              "</div>"
            ],
            "text/plain": [
              "      Name  Age Last_Name\n",
              "Row1  John   25       NaN\n",
              "Row2   Sam   20       NaN\n",
              "Row2  Eric   30       NaN\n",
              "Row4   Ken   28      Soto"
            ]
          },
          "execution_count": 44,
          "metadata": {},
          "output_type": "execute_result"
        }
      ],
      "source": [
        "dataframe2=pd.DataFrame(list2,index  = ['Row1','Row2','Row2','Row4'])\n",
        "dataframe2"
      ]
    },
    {
      "cell_type": "code",
      "execution_count": null,
      "id": "2a4faaaf",
      "metadata": {
        "id": "2a4faaaf",
        "outputId": "f0658ffc-3b9f-465b-a239-2e0796951038"
      },
      "outputs": [
        {
          "data": {
            "text/html": [
              "<div>\n",
              "<style scoped>\n",
              "    .dataframe tbody tr th:only-of-type {\n",
              "        vertical-align: middle;\n",
              "    }\n",
              "\n",
              "    .dataframe tbody tr th {\n",
              "        vertical-align: top;\n",
              "    }\n",
              "\n",
              "    .dataframe thead th {\n",
              "        text-align: right;\n",
              "    }\n",
              "</style>\n",
              "<table border=\"1\" class=\"dataframe\">\n",
              "  <thead>\n",
              "    <tr style=\"text-align: right;\">\n",
              "      <th></th>\n",
              "      <th>Name</th>\n",
              "      <th>Age</th>\n",
              "      <th>Last_Name</th>\n",
              "    </tr>\n",
              "  </thead>\n",
              "  <tbody>\n",
              "    <tr>\n",
              "      <th>Row1</th>\n",
              "      <td>John</td>\n",
              "      <td>25</td>\n",
              "      <td>NaN</td>\n",
              "    </tr>\n",
              "    <tr>\n",
              "      <th>Row2</th>\n",
              "      <td>Sam</td>\n",
              "      <td>20</td>\n",
              "      <td>NaN</td>\n",
              "    </tr>\n",
              "    <tr>\n",
              "      <th>85412</th>\n",
              "      <td>Eric</td>\n",
              "      <td>30</td>\n",
              "      <td>NaN</td>\n",
              "    </tr>\n",
              "    <tr>\n",
              "      <th>Row4</th>\n",
              "      <td>Ken</td>\n",
              "      <td>28</td>\n",
              "      <td>Soto</td>\n",
              "    </tr>\n",
              "  </tbody>\n",
              "</table>\n",
              "</div>"
            ],
            "text/plain": [
              "       Name  Age Last_Name\n",
              "Row1   John   25       NaN\n",
              "Row2    Sam   20       NaN\n",
              "85412  Eric   30       NaN\n",
              "Row4    Ken   28      Soto"
            ]
          },
          "execution_count": 45,
          "metadata": {},
          "output_type": "execute_result"
        }
      ],
      "source": [
        "dataframe2=pd.DataFrame(list2,index  = ['Row1','Row2',85412,'Row4'])\n",
        "dataframe2"
      ]
    },
    {
      "cell_type": "code",
      "execution_count": null,
      "id": "376de015",
      "metadata": {
        "id": "376de015"
      },
      "outputs": [],
      "source": []
    },
    {
      "cell_type": "code",
      "execution_count": null,
      "id": "5fa1f46b",
      "metadata": {
        "id": "5fa1f46b"
      },
      "outputs": [],
      "source": []
    },
    {
      "cell_type": "code",
      "execution_count": null,
      "id": "b6293a6d",
      "metadata": {
        "id": "b6293a6d"
      },
      "outputs": [],
      "source": []
    },
    {
      "cell_type": "code",
      "execution_count": null,
      "id": "fa7e2662",
      "metadata": {
        "id": "fa7e2662"
      },
      "outputs": [],
      "source": []
    },
    {
      "cell_type": "code",
      "execution_count": null,
      "id": "7799a87d",
      "metadata": {
        "id": "7799a87d"
      },
      "outputs": [],
      "source": []
    },
    {
      "cell_type": "code",
      "execution_count": null,
      "id": "262f1d2e",
      "metadata": {
        "id": "262f1d2e"
      },
      "outputs": [],
      "source": []
    },
    {
      "cell_type": "code",
      "execution_count": null,
      "id": "57a392ce",
      "metadata": {
        "id": "57a392ce"
      },
      "outputs": [],
      "source": []
    },
    {
      "cell_type": "code",
      "execution_count": null,
      "id": "7577c8ce",
      "metadata": {
        "id": "7577c8ce"
      },
      "outputs": [],
      "source": []
    },
    {
      "cell_type": "code",
      "execution_count": null,
      "id": "d065acd7",
      "metadata": {
        "id": "d065acd7"
      },
      "outputs": [],
      "source": []
    },
    {
      "cell_type": "code",
      "execution_count": null,
      "id": "75b1a19d",
      "metadata": {
        "id": "75b1a19d"
      },
      "outputs": [],
      "source": []
    },
    {
      "cell_type": "code",
      "execution_count": null,
      "id": "ca4d8c42",
      "metadata": {
        "id": "ca4d8c42"
      },
      "outputs": [],
      "source": []
    },
    {
      "cell_type": "code",
      "execution_count": null,
      "id": "ac84b96d",
      "metadata": {
        "id": "ac84b96d"
      },
      "outputs": [],
      "source": []
    }
  ],
  "metadata": {
    "kernelspec": {
      "display_name": "Python 3 (ipykernel)",
      "language": "python",
      "name": "python3"
    },
    "language_info": {
      "codemirror_mode": {
        "name": "ipython",
        "version": 3
      },
      "file_extension": ".py",
      "mimetype": "text/x-python",
      "name": "python",
      "nbconvert_exporter": "python",
      "pygments_lexer": "ipython3",
      "version": "3.9.15"
    },
    "colab": {
      "provenance": [],
      "include_colab_link": true
    }
  },
  "nbformat": 4,
  "nbformat_minor": 5
}
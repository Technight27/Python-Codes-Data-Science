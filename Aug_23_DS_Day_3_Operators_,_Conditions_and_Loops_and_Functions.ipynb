{
  "cells": [
    {
      "cell_type": "markdown",
      "metadata": {
        "id": "view-in-github",
        "colab_type": "text"
      },
      "source": [
        "<a href=\"https://colab.research.google.com/github/Technight27/Python-Codes/blob/main/Aug_23_DS_Day_3_Operators_%2C_Conditions_and_Loops_and_Functions.ipynb\" target=\"_parent\"><img src=\"https://colab.research.google.com/assets/colab-badge.svg\" alt=\"Open In Colab\"/></a>"
      ]
    },
    {
      "cell_type": "code",
      "execution_count": null,
      "id": "94b380cf",
      "metadata": {
        "id": "94b380cf",
        "outputId": "0c4721c0-6f13-4364-a3a0-069bc046d353"
      },
      "outputs": [
        {
          "name": "stdout",
          "output_type": "stream",
          "text": [
            "False\n"
          ]
        }
      ],
      "source": [
        "a= 500\n",
        "b = 200\n",
        "print (a <b)"
      ]
    },
    {
      "cell_type": "code",
      "execution_count": null,
      "id": "32aee14e",
      "metadata": {
        "id": "32aee14e",
        "outputId": "c948894c-d2a9-4275-8928-5f6299f3b88b"
      },
      "outputs": [
        {
          "name": "stdout",
          "output_type": "stream",
          "text": [
            "False\n"
          ]
        }
      ],
      "source": [
        "a= 500\n",
        "b = 200\n",
        "print (a ==b)"
      ]
    },
    {
      "cell_type": "code",
      "execution_count": null,
      "id": "33d0e9a4",
      "metadata": {
        "id": "33d0e9a4",
        "outputId": "2c958aab-b610-461d-e228-3e30fffaa62b"
      },
      "outputs": [
        {
          "name": "stdout",
          "output_type": "stream",
          "text": [
            "True\n"
          ]
        }
      ],
      "source": [
        "a= 500\n",
        "b = 200\n",
        "print (a !=b)"
      ]
    },
    {
      "cell_type": "code",
      "execution_count": null,
      "id": "648b4f40",
      "metadata": {
        "id": "648b4f40",
        "outputId": "a81ed450-1ffa-4532-b683-05a4c0bd38f3"
      },
      "outputs": [
        {
          "name": "stdout",
          "output_type": "stream",
          "text": [
            "False\n"
          ]
        }
      ],
      "source": [
        "a= 500\n",
        "b =500\n",
        "print (a <b)"
      ]
    },
    {
      "cell_type": "code",
      "execution_count": null,
      "id": "dd199991",
      "metadata": {
        "id": "dd199991",
        "outputId": "8e6d15a2-acc3-4323-f2ef-1e7a97dc85e2"
      },
      "outputs": [
        {
          "name": "stdout",
          "output_type": "stream",
          "text": [
            "True\n"
          ]
        }
      ],
      "source": [
        "a= 500\n",
        "b =500\n",
        "print (a <=b)"
      ]
    },
    {
      "cell_type": "code",
      "execution_count": null,
      "id": "7b2a5baf",
      "metadata": {
        "id": "7b2a5baf",
        "outputId": "35998e14-ce8b-41f5-af1e-d4c8f6be59ed"
      },
      "outputs": [
        {
          "name": "stdout",
          "output_type": "stream",
          "text": [
            "True\n"
          ]
        }
      ],
      "source": [
        "a= 500\n",
        "b =500\n",
        "print (a >=b)"
      ]
    },
    {
      "cell_type": "code",
      "execution_count": null,
      "id": "c7d1df2c",
      "metadata": {
        "id": "c7d1df2c",
        "outputId": "8aca124e-dd88-470a-96ed-80f715101bf4"
      },
      "outputs": [
        {
          "name": "stdout",
          "output_type": "stream",
          "text": [
            "False\n",
            "True\n"
          ]
        }
      ],
      "source": [
        "a = 300\n",
        "b = 200\n",
        "c = 150\n",
        "print (a<b)\n",
        "print (c<b)"
      ]
    },
    {
      "cell_type": "code",
      "execution_count": null,
      "id": "3a720bc7",
      "metadata": {
        "id": "3a720bc7",
        "outputId": "5d779491-8958-4479-afaa-05f2465b9f1b"
      },
      "outputs": [
        {
          "name": "stdout",
          "output_type": "stream",
          "text": [
            "False\n",
            "True\n",
            "False\n"
          ]
        }
      ],
      "source": [
        "a = 300\n",
        "b = 200\n",
        "c = 150\n",
        "print (a<b)\n",
        "print (c<b)\n",
        "print ((a<b) and (c<b))"
      ]
    },
    {
      "cell_type": "code",
      "execution_count": null,
      "id": "255b7340",
      "metadata": {
        "id": "255b7340",
        "outputId": "53e3a568-af35-462a-e31c-2cf90c4c0988"
      },
      "outputs": [
        {
          "name": "stdout",
          "output_type": "stream",
          "text": [
            "True\n"
          ]
        }
      ],
      "source": [
        "print ((a<b) or (c<b))"
      ]
    },
    {
      "cell_type": "code",
      "execution_count": null,
      "id": "aaaf4dc1",
      "metadata": {
        "id": "aaaf4dc1",
        "outputId": "4ad5af06-9e36-4eee-8b2d-140ef30e048a"
      },
      "outputs": [
        {
          "name": "stdout",
          "output_type": "stream",
          "text": [
            "False\n",
            "False\n"
          ]
        }
      ],
      "source": [
        "a = 300\n",
        "b = 200\n",
        "c = 150\n",
        "print (a<b)\n",
        "print (c>b)"
      ]
    },
    {
      "cell_type": "code",
      "execution_count": null,
      "id": "4fa1dcda",
      "metadata": {
        "id": "4fa1dcda",
        "outputId": "8e651659-a9a1-443a-af5d-8f083cc6a6d6"
      },
      "outputs": [
        {
          "name": "stdout",
          "output_type": "stream",
          "text": [
            "False\n",
            "False\n"
          ]
        }
      ],
      "source": [
        "print ((a<b) and (c>b) )\n",
        "print ((a<b) or (c>b) )"
      ]
    },
    {
      "cell_type": "code",
      "execution_count": null,
      "id": "0aed8eb8",
      "metadata": {
        "id": "0aed8eb8",
        "outputId": "cbd7b2f3-395f-4d9e-bff1-550317eaae4a"
      },
      "outputs": [
        {
          "name": "stdout",
          "output_type": "stream",
          "text": [
            "True\n"
          ]
        }
      ],
      "source": [
        "print (not ((a<b) or (c>b) ))"
      ]
    },
    {
      "cell_type": "code",
      "execution_count": null,
      "id": "1d81330b",
      "metadata": {
        "id": "1d81330b",
        "outputId": "489fdbef-d30d-4972-bf64-f0d3ebc2b216"
      },
      "outputs": [
        {
          "name": "stdout",
          "output_type": "stream",
          "text": [
            "2458245713392\n",
            "2458246087024\n",
            "2458245713392\n"
          ]
        }
      ],
      "source": [
        "a =500\n",
        "b =500\n",
        "c = a\n",
        "print (id (a))\n",
        "print (id (b))\n",
        "print (id (c))"
      ]
    },
    {
      "cell_type": "code",
      "execution_count": null,
      "id": "1e66ed04",
      "metadata": {
        "id": "1e66ed04",
        "outputId": "2ea5ad25-9dba-4c97-df94-e4113d7cf3eb"
      },
      "outputs": [
        {
          "name": "stdout",
          "output_type": "stream",
          "text": [
            "False\n"
          ]
        }
      ],
      "source": [
        "print (a is b)"
      ]
    },
    {
      "cell_type": "code",
      "execution_count": null,
      "id": "962b5a23",
      "metadata": {
        "id": "962b5a23",
        "outputId": "340db11e-4bb6-48bb-a718-748f7dee5f8b"
      },
      "outputs": [
        {
          "name": "stdout",
          "output_type": "stream",
          "text": [
            "True\n"
          ]
        }
      ],
      "source": [
        "print (a is c)"
      ]
    },
    {
      "cell_type": "code",
      "execution_count": null,
      "id": "dd339a77",
      "metadata": {
        "id": "dd339a77",
        "outputId": "32661e5f-6767-452d-e764-b5c664928c24"
      },
      "outputs": [
        {
          "name": "stdout",
          "output_type": "stream",
          "text": [
            "2458246003840\n",
            "2458245729280\n",
            "2458246003840\n"
          ]
        }
      ],
      "source": [
        "a = [10,20,30]\n",
        "b =  [10,20,30]\n",
        "c = a\n",
        "print (id (a))\n",
        "print (id (b))\n",
        "print (id (c))"
      ]
    },
    {
      "cell_type": "code",
      "execution_count": null,
      "id": "903ca6be",
      "metadata": {
        "id": "903ca6be",
        "outputId": "ec90bd29-f863-4458-e6a4-9fd9c4539b0b"
      },
      "outputs": [
        {
          "name": "stdout",
          "output_type": "stream",
          "text": [
            "[10, 222, 30, 50]\n"
          ]
        }
      ],
      "source": [
        "c [1]= 222\n",
        "c.append (50)\n",
        "print (c)"
      ]
    },
    {
      "cell_type": "code",
      "execution_count": null,
      "id": "34e45981",
      "metadata": {
        "id": "34e45981",
        "outputId": "c3133c26-0ad8-41f9-acc0-88aaf4e1478b"
      },
      "outputs": [
        {
          "name": "stdout",
          "output_type": "stream",
          "text": [
            "[10, 222, 30, 50]\n"
          ]
        }
      ],
      "source": [
        "print (a)"
      ]
    },
    {
      "cell_type": "code",
      "execution_count": null,
      "id": "2cd41594",
      "metadata": {
        "id": "2cd41594",
        "outputId": "893586c0-f2b1-4b09-8764-81d3b3aca204"
      },
      "outputs": [
        {
          "name": "stdout",
          "output_type": "stream",
          "text": [
            "[10, 20, 30]\n"
          ]
        }
      ],
      "source": [
        "print (b)"
      ]
    },
    {
      "cell_type": "code",
      "execution_count": null,
      "id": "8ffc7368",
      "metadata": {
        "id": "8ffc7368",
        "outputId": "5f8c8e0d-6d5c-4ca6-cec8-25bf90145cca"
      },
      "outputs": [
        {
          "name": "stdout",
          "output_type": "stream",
          "text": [
            "True\n"
          ]
        }
      ],
      "source": [
        "print (a is c)"
      ]
    },
    {
      "cell_type": "code",
      "execution_count": null,
      "id": "76293968",
      "metadata": {
        "id": "76293968",
        "outputId": "ff5cc0e9-3899-4141-e5f1-ee8f09581388"
      },
      "outputs": [
        {
          "name": "stdout",
          "output_type": "stream",
          "text": [
            "False\n"
          ]
        }
      ],
      "source": [
        "print (a is b)"
      ]
    },
    {
      "cell_type": "code",
      "execution_count": null,
      "id": "719317ef",
      "metadata": {
        "id": "719317ef",
        "outputId": "b3c50644-494f-477d-aef3-1ffcfc44e5ee"
      },
      "outputs": [
        {
          "name": "stdout",
          "output_type": "stream",
          "text": [
            "2458246087344\n",
            "2458246087216\n"
          ]
        }
      ],
      "source": [
        "a = 500\n",
        "b = 500\n",
        "print (id (a))\n",
        "print (id (b))"
      ]
    },
    {
      "cell_type": "code",
      "execution_count": null,
      "id": "32bb72ec",
      "metadata": {
        "id": "32bb72ec",
        "outputId": "ae868fa6-92a2-464d-9519-ccf65c31c90f"
      },
      "outputs": [
        {
          "name": "stdout",
          "output_type": "stream",
          "text": [
            "2458162324112\n",
            "2458162324112\n"
          ]
        }
      ],
      "source": [
        "a = 200\n",
        "b = 200\n",
        "print (id (a))\n",
        "print (id (b))"
      ]
    },
    {
      "cell_type": "code",
      "execution_count": null,
      "id": "263e4974",
      "metadata": {
        "id": "263e4974",
        "outputId": "7a08a08c-2cc4-430a-fe7d-ebceedf2f137"
      },
      "outputs": [
        {
          "name": "stdout",
          "output_type": "stream",
          "text": [
            "True\n"
          ]
        }
      ],
      "source": [
        "print (a is b)"
      ]
    },
    {
      "cell_type": "code",
      "execution_count": null,
      "id": "08ecbd24",
      "metadata": {
        "id": "08ecbd24",
        "outputId": "750dbef6-ae41-4283-927d-eb5c6be74780"
      },
      "outputs": [
        {
          "name": "stdout",
          "output_type": "stream",
          "text": [
            "2458162324112\n"
          ]
        }
      ],
      "source": [
        "print ((id (a)) or (id (b)))"
      ]
    },
    {
      "cell_type": "code",
      "execution_count": null,
      "id": "f59c00f8",
      "metadata": {
        "id": "f59c00f8",
        "outputId": "4291ab5c-dbdb-4349-8d2e-261870b81df6"
      },
      "outputs": [
        {
          "name": "stdout",
          "output_type": "stream",
          "text": [
            "20\n"
          ]
        }
      ],
      "source": [
        "print (10 and 20)"
      ]
    },
    {
      "cell_type": "code",
      "execution_count": null,
      "id": "f4b5e0c0",
      "metadata": {
        "id": "f4b5e0c0",
        "outputId": "68491220-364e-47c2-98b7-f9a4804d7c75"
      },
      "outputs": [
        {
          "name": "stdout",
          "output_type": "stream",
          "text": [
            "True\n"
          ]
        }
      ],
      "source": [
        "x = [10,20,30,50,30,10]\n",
        "print (20 in x)"
      ]
    },
    {
      "cell_type": "code",
      "execution_count": null,
      "id": "8bbf8649",
      "metadata": {
        "id": "8bbf8649",
        "outputId": "402ab48a-6655-4c3c-d231-1d610117f949"
      },
      "outputs": [
        {
          "name": "stdout",
          "output_type": "stream",
          "text": [
            "False\n"
          ]
        }
      ],
      "source": [
        "x = [10,20,30,50,30,10]\n",
        "print (20 not in x)"
      ]
    },
    {
      "cell_type": "code",
      "execution_count": null,
      "id": "14dd1251",
      "metadata": {
        "id": "14dd1251",
        "outputId": "e013a45a-d0f3-4404-e9b8-58af0d5ad35a"
      },
      "outputs": [
        {
          "name": "stdout",
          "output_type": "stream",
          "text": [
            "True\n"
          ]
        }
      ],
      "source": [
        "x = [10,20,30,50,30,10]\n",
        "print (20 in x)"
      ]
    },
    {
      "cell_type": "code",
      "execution_count": null,
      "id": "322ab435",
      "metadata": {
        "id": "322ab435",
        "outputId": "fa153760-b7d5-4f8f-8d24-bf0ea05a0e4e"
      },
      "outputs": [
        {
          "name": "stdout",
          "output_type": "stream",
          "text": [
            "False\n"
          ]
        }
      ],
      "source": [
        "x = [10,20,30,50,30,10]\n",
        "print (25 in x)"
      ]
    },
    {
      "cell_type": "code",
      "execution_count": null,
      "id": "4ca8d1ae",
      "metadata": {
        "id": "4ca8d1ae",
        "outputId": "3194f26b-bba0-4794-9f84-3a762d6c72a6"
      },
      "outputs": [
        {
          "name": "stdout",
          "output_type": "stream",
          "text": [
            "True\n"
          ]
        }
      ],
      "source": [
        "x = [10,20,30,50,30,10]\n",
        "print (25 not in x)"
      ]
    },
    {
      "cell_type": "code",
      "execution_count": null,
      "id": "ff1af82a",
      "metadata": {
        "id": "ff1af82a",
        "outputId": "a00019ed-31cb-46db-99ec-022a53e8ff64"
      },
      "outputs": [
        {
          "name": "stdout",
          "output_type": "stream",
          "text": [
            "500\n"
          ]
        }
      ],
      "source": [
        "a = 500\n",
        "if a < 1000:\n",
        "    print (a)"
      ]
    },
    {
      "cell_type": "code",
      "execution_count": null,
      "id": "dc9fbdea",
      "metadata": {
        "id": "dc9fbdea"
      },
      "outputs": [],
      "source": [
        "a = 500\n",
        "if a < 100:\n",
        "    print (a)"
      ]
    },
    {
      "cell_type": "code",
      "execution_count": null,
      "id": "0557ec19",
      "metadata": {
        "id": "0557ec19",
        "outputId": "6be3827e-b693-4c26-e08e-7c253ac2eb07"
      },
      "outputs": [
        {
          "name": "stdout",
          "output_type": "stream",
          "text": [
            "500\n",
            "500\n",
            "A greater than = b\n",
            "500\n",
            "500\n",
            "A less than = b\n",
            "500\n",
            "500\n",
            "A == b\n"
          ]
        }
      ],
      "source": [
        "a = 500\n",
        "b =500\n",
        "if a>=b:\n",
        "    print (a)\n",
        "    print (b)\n",
        "    print ('A greater than = b')\n",
        "if a<=b:\n",
        "    print (a)\n",
        "    print (b)\n",
        "    print ('A less than = b')\n",
        "if a == b:\n",
        "    print (a)\n",
        "    print (b)\n",
        "    print ('A == b')"
      ]
    },
    {
      "cell_type": "code",
      "execution_count": null,
      "id": "f7be02ff",
      "metadata": {
        "id": "f7be02ff",
        "outputId": "b8dfd53a-3681-4310-ada0-5277896218a5"
      },
      "outputs": [
        {
          "name": "stdout",
          "output_type": "stream",
          "text": [
            "500\n",
            "500\n",
            "A greater than = b\n"
          ]
        }
      ],
      "source": [
        "a = 500\n",
        "b =500\n",
        "if a>=b:\n",
        "    print (a)\n",
        "    print (b)\n",
        "    print ('A greater than = b')\n",
        "elif a<=b:\n",
        "    print (a)\n",
        "    print (b)\n",
        "    print ('A less than = b')\n",
        "elif a == b:\n",
        "    print (a)\n",
        "    print (b)\n",
        "    print ('A == b')"
      ]
    },
    {
      "cell_type": "code",
      "execution_count": null,
      "id": "058636ef",
      "metadata": {
        "id": "058636ef",
        "outputId": "5585f1fa-0b86-4f14-e935-90993fcc8e82"
      },
      "outputs": [
        {
          "name": "stdout",
          "output_type": "stream",
          "text": [
            "500\n",
            "500\n",
            "A less than = b\n"
          ]
        }
      ],
      "source": [
        "a = 500\n",
        "b =500\n",
        "if a>b:\n",
        "    print (a)\n",
        "    print (b)\n",
        "    print ('A greater than  b')\n",
        "elif a<=b:\n",
        "    print (a)\n",
        "    print (b)\n",
        "    print ('A less than = b')\n",
        "elif a == b:\n",
        "    print (a)\n",
        "    print (b)\n",
        "    print ('A == b')"
      ]
    },
    {
      "cell_type": "code",
      "execution_count": null,
      "id": "7a759a58",
      "metadata": {
        "id": "7a759a58",
        "outputId": "a5854efc-551f-40f7-c19b-a5260df1ceb1"
      },
      "outputs": [
        {
          "name": "stdout",
          "output_type": "stream",
          "text": [
            "500\n",
            "500\n",
            "A less than = b\n"
          ]
        }
      ],
      "source": [
        "a = 500\n",
        "b =500\n",
        "if a>b:\n",
        "    print (a)\n",
        "    print (b)\n",
        "    print ('A greater than  b')\n",
        "elif a<=b:\n",
        "    print (a)\n",
        "    print (b)\n",
        "    print ('A less than = b')\n",
        "elif a == b:\n",
        "    print (a)\n",
        "    print (b)\n",
        "    print ('A == b')"
      ]
    },
    {
      "cell_type": "code",
      "execution_count": null,
      "id": "b925951b",
      "metadata": {
        "id": "b925951b",
        "outputId": "8a3af9ea-5d6a-4974-d293-a162393b502c"
      },
      "outputs": [
        {
          "name": "stdout",
          "output_type": "stream",
          "text": [
            "100 and  100 are equal\n"
          ]
        }
      ],
      "source": [
        "a =100\n",
        "b = 100\n",
        "if a>b:\n",
        "    print (a,'Greater than ', b)\n",
        "elif b>a:\n",
        "    print (b,'Greater than',a)\n",
        "else:\n",
        "    print (a,'and ',b ,'are equal')\n"
      ]
    },
    {
      "cell_type": "code",
      "execution_count": null,
      "id": "d26e3715",
      "metadata": {
        "id": "d26e3715",
        "outputId": "0bde90d7-42d7-4eea-a50c-b477cb167704"
      },
      "outputs": [
        {
          "name": "stdout",
          "output_type": "stream",
          "text": [
            "300 Greater than 200\n"
          ]
        }
      ],
      "source": [
        "a =300\n",
        "if a <100:\n",
        "    print (a,'Less than 100')\n",
        "elif (100<= a <=200):\n",
        "    print (a,'is between 100 and 200')\n",
        "else:\n",
        "    print (a,'Greater than 200')\n"
      ]
    },
    {
      "cell_type": "code",
      "execution_count": null,
      "id": "0033b3f3",
      "metadata": {
        "id": "0033b3f3",
        "outputId": "47c79560-f7e1-4071-8a7f-c83a580cd1e9"
      },
      "outputs": [
        {
          "name": "stdout",
          "output_type": "stream",
          "text": [
            "40 Less than 100\n",
            "40 is between 20 and 50\n"
          ]
        }
      ],
      "source": [
        "a =40\n",
        "if a <100:\n",
        "    print (a,'Less than 100')\n",
        "    if (50<= a <=100):\n",
        "        print (a,'is between 50 and 100')\n",
        "    elif (20<= a <=50):\n",
        "        print (a,'is between 20 and 50')\n",
        "    else:\n",
        "        print (a,'is less than 20')\n",
        "\n",
        "elif (20<= a <=200):\n",
        "    print (a,'is between 50 and 200')\n",
        "else:\n",
        "    print (a,'Greater than 200')\n"
      ]
    },
    {
      "cell_type": "code",
      "execution_count": null,
      "id": "b1ed394f",
      "metadata": {
        "id": "b1ed394f",
        "outputId": "62219382-0509-4334-c07e-07449d44794c"
      },
      "outputs": [
        {
          "name": "stdout",
          "output_type": "stream",
          "text": [
            "150 is smaller than 200\n"
          ]
        }
      ],
      "source": [
        "a = 150\n",
        "b = 200\n",
        "if a<b:\n",
        "    print (a,'is smaller than',b)\n",
        "    if 10 <= a <=100:\n",
        "        print (a,'is between 10 and 100')\n",
        "    elif a<10:\n",
        "        print (a,'is less than 10')\n",
        "\n",
        "else:\n",
        "    print (a,'is bigger number than',b)\n"
      ]
    },
    {
      "cell_type": "code",
      "execution_count": null,
      "id": "ab454932",
      "metadata": {
        "id": "ab454932",
        "outputId": "159489e4-a7e0-4a06-e251-9ae343795622"
      },
      "outputs": [
        {
          "name": "stdout",
          "output_type": "stream",
          "text": [
            "40 is smaller than 200\n",
            "40 is between 10 and 100\n"
          ]
        }
      ],
      "source": [
        "a = 40\n",
        "b = 200\n",
        "if a<b:\n",
        "    print (a,'is smaller than',b)\n",
        "    if 10 <= a <=100:\n",
        "        print (a,'is between 10 and 100')\n",
        "    elif a<10:\n",
        "        print (a,'is less than 10')\n",
        "\n",
        "else:\n",
        "    print (a,'is bigger number than',b)\n"
      ]
    },
    {
      "cell_type": "code",
      "execution_count": null,
      "id": "4302e546",
      "metadata": {
        "id": "4302e546"
      },
      "outputs": [],
      "source": [
        "#While loop - Execution is based on condition - Add numbers still sum reaches 100\n",
        "# For Loop - Fixed number of times - Add five numbers\n"
      ]
    },
    {
      "cell_type": "code",
      "execution_count": null,
      "id": "90caebb2",
      "metadata": {
        "id": "90caebb2",
        "outputId": "18ed8cfa-b983-4a0f-e739-ec464f7087cd"
      },
      "outputs": [
        {
          "name": "stdout",
          "output_type": "stream",
          "text": [
            "Enter First Number 60\n",
            "Enter Second Number 40\n",
            "Sum of two numbers  6040\n"
          ]
        }
      ],
      "source": [
        "no1 = input ('Enter First Number ')\n",
        "no2 = input ('Enter Second Number ')\n",
        "total = no1+no2\n",
        "print ('Sum of two numbers ', total)"
      ]
    },
    {
      "cell_type": "code",
      "execution_count": null,
      "id": "5a3accf0",
      "metadata": {
        "id": "5a3accf0",
        "outputId": "61edafc9-632f-4d65-e79e-607e9f684976"
      },
      "outputs": [
        {
          "name": "stdout",
          "output_type": "stream",
          "text": [
            "Enter First Number 50\n",
            "Enter Second Number 60\n",
            "Sum of two numbers  110\n"
          ]
        }
      ],
      "source": [
        "no1 = input ('Enter First Number ')\n",
        "no2 = input ('Enter Second Number ')\n",
        "total = int (no1)+int (no2)\n",
        "print ('Sum of two numbers ', total)"
      ]
    },
    {
      "cell_type": "code",
      "execution_count": null,
      "id": "9939fe3c",
      "metadata": {
        "id": "9939fe3c",
        "outputId": "daf442ed-ee33-4240-915b-6ec7b5eed44b"
      },
      "outputs": [
        {
          "name": "stdout",
          "output_type": "stream",
          "text": [
            "0\n",
            "1\n",
            "2\n",
            "3\n",
            "4\n"
          ]
        }
      ],
      "source": [
        "total = 0\n",
        "for i in range (5):\n",
        "    print (i)"
      ]
    },
    {
      "cell_type": "code",
      "execution_count": null,
      "id": "d18b324c",
      "metadata": {
        "id": "d18b324c"
      },
      "outputs": [],
      "source": []
    },
    {
      "cell_type": "code",
      "execution_count": null,
      "id": "2a2df039",
      "metadata": {
        "id": "2a2df039",
        "outputId": "98d5159f-28ce-4620-a6a6-b5a813798515"
      },
      "outputs": [
        {
          "name": "stdout",
          "output_type": "stream",
          "text": [
            "Enter the Number 50\n",
            "Enter the Number 30\n",
            "Enter the Number 60\n",
            "Enter the Number 10\n",
            "Enter the Number 50\n",
            "Sum of Five Numbers 200\n"
          ]
        }
      ],
      "source": [
        "total = 0\n",
        "for i in range (5):\n",
        "    no = input ('Enter the Number ')\n",
        "    total = total+ int (no)\n",
        "print ('Sum of Five Numbers', total)"
      ]
    },
    {
      "cell_type": "code",
      "execution_count": null,
      "id": "5a26947d",
      "metadata": {
        "id": "5a26947d"
      },
      "outputs": [],
      "source": [
        "total = 500"
      ]
    },
    {
      "cell_type": "code",
      "execution_count": null,
      "id": "a03c7655",
      "metadata": {
        "id": "a03c7655",
        "outputId": "7fd05a5e-185b-4657-97c1-ae331340c496"
      },
      "outputs": [
        {
          "name": "stdout",
          "output_type": "stream",
          "text": [
            "Enter the Number 10\n",
            "Enter the Number 50\n",
            "Enter the Number 30\n",
            "Enter the Number 20\n",
            "Enter the Number 20\n",
            "Sum of Five Numbers 630\n"
          ]
        }
      ],
      "source": [
        "for i in range (5):\n",
        "    no = input ('Enter the Number ')\n",
        "    total = total+ int (no)\n",
        "print ('Sum of Five Numbers', total)"
      ]
    },
    {
      "cell_type": "code",
      "execution_count": null,
      "id": "46a4c02c",
      "metadata": {
        "id": "46a4c02c",
        "outputId": "b8acc3f3-e6b3-45ce-980b-f106765d7c3a"
      },
      "outputs": [
        {
          "name": "stdout",
          "output_type": "stream",
          "text": [
            "Enter the Number 50\n",
            "Enter the Number 30\n",
            "Enter the Number 30\n",
            "Enter the Number 20\n",
            "Enter the Number 50\n",
            "Sum of Five Numbers 180\n"
          ]
        }
      ],
      "source": [
        "total = 0\n",
        "for i in range (5):\n",
        "    no = input ('Enter the Number ')\n",
        "    total = total+ int (no)\n",
        "print ('Sum of Five Numbers', total)"
      ]
    },
    {
      "cell_type": "code",
      "execution_count": null,
      "id": "f70ea7e4",
      "metadata": {
        "id": "f70ea7e4",
        "outputId": "e236b3d0-4344-4a36-908f-22b831d880f5"
      },
      "outputs": [
        {
          "name": "stdout",
          "output_type": "stream",
          "text": [
            "Enter the Number 60\n",
            "Enter the Number 40\n",
            "Sum of Numbers 100\n"
          ]
        }
      ],
      "source": [
        "total = 0\n",
        "while total <100:\n",
        "    no = input ('Enter the Number ')\n",
        "    total = total+ int (no)\n",
        "print ('Sum of Numbers', total)"
      ]
    },
    {
      "cell_type": "code",
      "execution_count": null,
      "id": "bd9278da",
      "metadata": {
        "id": "bd9278da",
        "outputId": "73598a08-7737-45b5-8814-44c186145042"
      },
      "outputs": [
        {
          "name": "stdout",
          "output_type": "stream",
          "text": [
            "Enter the Number 10\n",
            "Enter the Number 20\n",
            "Enter the Number 10\n",
            "Enter the Number 15\n",
            "Enter the Number 10\n",
            "Enter the Number 12\n",
            "Enter the Number 10\n",
            "Enter the Number 20\n",
            "Sum of Numbers 107\n"
          ]
        }
      ],
      "source": [
        "total = 0\n",
        "while total <100:\n",
        "    no = input ('Enter the Number ')\n",
        "    total = total+ int (no)\n",
        "print ('Sum of Numbers', total)"
      ]
    },
    {
      "cell_type": "code",
      "execution_count": null,
      "id": "8813c570",
      "metadata": {
        "id": "8813c570",
        "outputId": "03c5b1af-b51d-4da0-e31b-949b3c72658d"
      },
      "outputs": [
        {
          "name": "stdout",
          "output_type": "stream",
          "text": [
            "The number is  1\n",
            "The number is  2\n",
            "The number is  3\n",
            "The number is  4\n",
            "Program end\n"
          ]
        }
      ],
      "source": [
        "a =1\n",
        "while a <5:\n",
        "    print ( 'The number is ',a)\n",
        "    a+=1\n",
        "print ('Program end')\n"
      ]
    },
    {
      "cell_type": "code",
      "execution_count": null,
      "id": "48e937e9",
      "metadata": {
        "id": "48e937e9",
        "outputId": "fac199cd-2156-480c-8a68-afbdcf37b600"
      },
      "outputs": [
        {
          "name": "stdout",
          "output_type": "stream",
          "text": [
            "The number is  1\n",
            "The number is  3\n",
            "Program end\n"
          ]
        }
      ],
      "source": [
        "a =1\n",
        "while a <5:\n",
        "    print ( 'The number is ',a)\n",
        "    a+=2\n",
        "print ('Program end')"
      ]
    },
    {
      "cell_type": "code",
      "execution_count": null,
      "id": "975b66f2",
      "metadata": {
        "id": "975b66f2",
        "outputId": "f7b223a6-3232-4497-e0f0-5a142029f1f8"
      },
      "outputs": [
        {
          "name": "stdout",
          "output_type": "stream",
          "text": [
            "Loop Start\n",
            "2\n",
            "3\n",
            "4\n",
            "5\n",
            "6\n",
            "7\n",
            "8\n",
            "9\n",
            "Loop End \n"
          ]
        }
      ],
      "source": [
        "x = 2\n",
        "print ('Loop Start')\n",
        "while x < 10:\n",
        "    print (x)\n",
        "    x +=1\n",
        "print ('Loop End ')\n"
      ]
    },
    {
      "cell_type": "code",
      "execution_count": null,
      "id": "e5e0cfb9",
      "metadata": {
        "id": "e5e0cfb9",
        "outputId": "a625d2d0-8b96-4e61-bcd3-51acc63af194"
      },
      "outputs": [
        {
          "name": "stdout",
          "output_type": "stream",
          "text": [
            "0\n",
            "1\n",
            "2\n",
            "3\n",
            "Good Day\n"
          ]
        }
      ],
      "source": [
        "A = [10,15,20,25]\n",
        "for i in range (len(A)):\n",
        "    print (i)\n",
        "print ('Good Day')\n"
      ]
    },
    {
      "cell_type": "code",
      "execution_count": null,
      "id": "112a9d73",
      "metadata": {
        "id": "112a9d73",
        "outputId": "038c70a3-c601-4da5-e7ac-b34c7ad01b16"
      },
      "outputs": [
        {
          "name": "stdout",
          "output_type": "stream",
          "text": [
            "10\n",
            "15\n",
            "20\n",
            "25\n",
            "Good Day\n"
          ]
        }
      ],
      "source": [
        "A = [10,15,20,25]\n",
        "for i in A:\n",
        "    print (i)\n",
        "print ('Good Day')\n"
      ]
    },
    {
      "cell_type": "code",
      "execution_count": null,
      "id": "11def061",
      "metadata": {
        "id": "11def061",
        "outputId": "677de6e4-35a2-43cb-dade-05bd6e5a1a44"
      },
      "outputs": [
        {
          "name": "stdout",
          "output_type": "stream",
          "text": [
            "0\n",
            "1\n",
            "2\n",
            "3\n",
            "Good Day\n"
          ]
        }
      ],
      "source": [
        "A = [10,15,20,25]\n",
        "for i in range (len(A)):\n",
        "    print (i)\n",
        "print ('Good Day')"
      ]
    },
    {
      "cell_type": "code",
      "execution_count": null,
      "id": "9f3d8c98",
      "metadata": {
        "id": "9f3d8c98",
        "outputId": "7eeb89e2-c2a3-4644-ccf4-636fb918023f"
      },
      "outputs": [
        {
          "name": "stdout",
          "output_type": "stream",
          "text": [
            "0\n",
            "1\n",
            "2\n",
            "3\n",
            "4\n",
            "5\n",
            "6\n",
            "7\n",
            "8\n",
            "9\n",
            "Good Day\n"
          ]
        }
      ],
      "source": [
        "A = [10,15,20,25]\n",
        "for i in range (10):\n",
        "    print (i)\n",
        "print ('Good Day')"
      ]
    },
    {
      "cell_type": "code",
      "execution_count": null,
      "id": "7e3be40d",
      "metadata": {
        "id": "7e3be40d",
        "outputId": "811d7171-ec0a-4889-f10e-d4b90d129339"
      },
      "outputs": [
        {
          "name": "stdout",
          "output_type": "stream",
          "text": [
            "10\n",
            "12\n",
            "14\n",
            "16\n",
            "18\n",
            "Good Day\n"
          ]
        }
      ],
      "source": [
        "A = [10,15,20,25]\n",
        "for i in range (10,20,2):\n",
        "    print (i)\n",
        "print ('Good Day')"
      ]
    },
    {
      "cell_type": "code",
      "execution_count": null,
      "id": "45a5e20f",
      "metadata": {
        "id": "45a5e20f",
        "outputId": "e5064dc8-7f79-4d79-bfd0-05cfa27911fa"
      },
      "outputs": [
        {
          "name": "stdout",
          "output_type": "stream",
          "text": [
            "10\n",
            "12\n",
            "14\n",
            "16\n",
            "18\n",
            "Good Day\n"
          ]
        }
      ],
      "source": [
        "A = [10,15,20,25]\n",
        "for i in range (10,20,2):\n",
        "    print (i)\n",
        "print ('Good Day')"
      ]
    },
    {
      "cell_type": "code",
      "execution_count": null,
      "id": "d7cfd6d7",
      "metadata": {
        "id": "d7cfd6d7",
        "outputId": "506fa1f6-2d77-4d85-d6b4-262320ab1cde"
      },
      "outputs": [
        {
          "name": "stdout",
          "output_type": "stream",
          "text": [
            "0\n",
            "2\n",
            "Good Day\n"
          ]
        }
      ],
      "source": [
        "A = [10,15,20,25]\n",
        "for i in range (0,len(A),2):\n",
        "    print (i)\n",
        "print ('Good Day')"
      ]
    },
    {
      "cell_type": "code",
      "execution_count": null,
      "id": "090c4163",
      "metadata": {
        "id": "090c4163",
        "outputId": "b3154323-a6cb-48fc-ccec-ecd36bcf780f"
      },
      "outputs": [
        {
          "name": "stdout",
          "output_type": "stream",
          "text": [
            "0\n",
            "1\n",
            "2\n",
            "3\n",
            "4\n",
            "5\n",
            "6\n",
            "7\n",
            "8\n",
            "9\n"
          ]
        }
      ],
      "source": [
        "for i in range (10):\n",
        "    print (i)"
      ]
    },
    {
      "cell_type": "code",
      "execution_count": null,
      "id": "6d45af06",
      "metadata": {
        "id": "6d45af06",
        "outputId": "91e5ef45-8407-4d7a-9901-c8ad8547b794"
      },
      "outputs": [
        {
          "data": {
            "text/plain": [
              "'SatSatSat'"
            ]
          },
          "execution_count": 104,
          "metadata": {},
          "output_type": "execute_result"
        }
      ],
      "source": [
        "'Sat'*3"
      ]
    },
    {
      "cell_type": "code",
      "execution_count": null,
      "id": "305f705f",
      "metadata": {
        "id": "305f705f",
        "outputId": "bef3f478-5d2b-46ad-86a6-c07dde7ead56"
      },
      "outputs": [
        {
          "data": {
            "text/plain": [
              "'4444'"
            ]
          },
          "execution_count": 105,
          "metadata": {},
          "output_type": "execute_result"
        }
      ],
      "source": [
        "str(4)*4"
      ]
    },
    {
      "cell_type": "code",
      "execution_count": null,
      "id": "d888cada",
      "metadata": {
        "id": "d888cada",
        "outputId": "69f41cd6-ae23-4034-e023-ef207f6bfda2"
      },
      "outputs": [
        {
          "data": {
            "text/plain": [
              "16"
            ]
          },
          "execution_count": 106,
          "metadata": {},
          "output_type": "execute_result"
        }
      ],
      "source": [
        "4*4"
      ]
    },
    {
      "cell_type": "code",
      "execution_count": null,
      "id": "e86382fd",
      "metadata": {
        "id": "e86382fd",
        "outputId": "3d5b8008-e202-4554-e28e-b8a29d89fb21"
      },
      "outputs": [
        {
          "data": {
            "text/plain": [
              "''"
            ]
          },
          "execution_count": 109,
          "metadata": {},
          "output_type": "execute_result"
        }
      ],
      "source": [
        "str(0)*0"
      ]
    },
    {
      "cell_type": "code",
      "execution_count": null,
      "id": "5dea635f",
      "metadata": {
        "id": "5dea635f",
        "outputId": "3991f187-df0d-46b4-faf5-78798ce686ce"
      },
      "outputs": [
        {
          "name": "stdout",
          "output_type": "stream",
          "text": [
            "\n",
            "1\n",
            "22\n",
            "333\n",
            "4444\n",
            "55555\n",
            "666666\n",
            "7777777\n",
            "88888888\n",
            "999999999\n",
            "Good Day\n"
          ]
        }
      ],
      "source": [
        "for i in range (10):\n",
        "    print (str(i)*i)\n",
        "\n",
        "print ('Good Day')\n"
      ]
    },
    {
      "cell_type": "code",
      "execution_count": null,
      "id": "fe5faae5",
      "metadata": {
        "id": "fe5faae5",
        "outputId": "e4a38c5a-5398-438a-8db3-4e3869c522fb"
      },
      "outputs": [
        {
          "name": "stdout",
          "output_type": "stream",
          "text": [
            "0\n",
            "1\n",
            "4\n",
            "9\n",
            "16\n",
            "25\n",
            "36\n",
            "49\n",
            "64\n",
            "81\n",
            "Good Day\n"
          ]
        }
      ],
      "source": [
        "for i in range (10):\n",
        "    print ((i)*i)\n",
        "\n",
        "print ('Good Day')\n"
      ]
    },
    {
      "cell_type": "code",
      "execution_count": null,
      "id": "35a96d23",
      "metadata": {
        "id": "35a96d23",
        "outputId": "31aeda73-c8d5-4d45-e4eb-e8ad667a8b3e"
      },
      "outputs": [
        {
          "name": "stdout",
          "output_type": "stream",
          "text": [
            "Pen\n",
            "    School\n",
            "    College\n",
            "Pencil\n",
            "    School\n",
            "    College\n",
            "Book\n",
            "    School\n",
            "    College\n",
            "Toy\n",
            "    School\n",
            "    College\n"
          ]
        }
      ],
      "source": [
        "A =  ['Pen','Pencil','Book','Toy']\n",
        "B = ['School', 'College']\n",
        "for i in A:\n",
        "    print (i)\n",
        "    for j in B:\n",
        "        print('   ',j)\n"
      ]
    },
    {
      "cell_type": "code",
      "execution_count": null,
      "id": "b819d72b",
      "metadata": {
        "id": "b819d72b",
        "outputId": "be2da5e8-88b5-4bcc-d128-c864f50bdeae"
      },
      "outputs": [
        {
          "name": "stdout",
          "output_type": "stream",
          "text": [
            "Pen\n",
            "    School\n",
            "    School\n",
            "    College\n",
            "    College\n",
            "Pencil\n",
            "    School\n",
            "    School\n",
            "    College\n",
            "    College\n",
            "Book\n",
            "    School\n",
            "    School\n",
            "    College\n",
            "    College\n",
            "Toy\n",
            "    School\n",
            "    School\n",
            "    College\n",
            "    College\n"
          ]
        }
      ],
      "source": [
        "A =  ['Pen','Pencil','Book','Toy']\n",
        "B = ['School', 'College']\n",
        "for i in A:\n",
        "    print (i)\n",
        "    for j in B:\n",
        "        print('   ',j)\n",
        "        print('   ',j)"
      ]
    },
    {
      "cell_type": "code",
      "execution_count": null,
      "id": "51b80cd5",
      "metadata": {
        "id": "51b80cd5",
        "outputId": "8e1e5679-6977-4a16-f609-d8246f4d38c6"
      },
      "outputs": [
        {
          "name": "stdout",
          "output_type": "stream",
          "text": [
            "Pen\n",
            "    School\n",
            "    College\n",
            "Pencil\n",
            "    School\n",
            "    College\n",
            "Book\n",
            "    School\n",
            "    College\n",
            "Toy\n",
            "    School\n",
            "    College\n"
          ]
        }
      ],
      "source": [
        "A =  ['Pen','Pencil','Book','Toy']\n",
        "B = ['School', 'College']\n",
        "for i in A:\n",
        "    print (i)\n",
        "    for j in B:\n",
        "        print('   ',j)\n",
        "        continue\n",
        "        print('   ',j)"
      ]
    },
    {
      "cell_type": "code",
      "execution_count": null,
      "id": "db203d6e",
      "metadata": {
        "id": "db203d6e",
        "outputId": "432edb4c-da88-4f97-f829-9da73fc5809f"
      },
      "outputs": [
        {
          "name": "stdout",
          "output_type": "stream",
          "text": [
            "Pen\n",
            "    School\n",
            "Pencil\n",
            "    School\n",
            "Book\n",
            "    School\n",
            "Toy\n",
            "    School\n"
          ]
        }
      ],
      "source": [
        "A =  ['Pen','Pencil','Book','Toy']\n",
        "B = ['School', 'College']\n",
        "for i in A:\n",
        "    print (i)\n",
        "    for j in B:\n",
        "        print('   ',j)\n",
        "        break\n",
        "        print('   ',j)"
      ]
    },
    {
      "cell_type": "code",
      "execution_count": null,
      "id": "29a77f9d",
      "metadata": {
        "id": "29a77f9d",
        "outputId": "3b2bc4ba-98af-433d-ea0d-e77d06c77f57"
      },
      "outputs": [
        {
          "name": "stdout",
          "output_type": "stream",
          "text": [
            "Pen\n",
            "Pencil\n",
            "Book\n",
            "Toy\n"
          ]
        }
      ],
      "source": [
        "A =  ['Pen','Pencil','Book','Toy']\n",
        "B = ['School', 'College']\n",
        "for i in A:\n",
        "    print (i)\n",
        "    continue\n",
        "    for j in B:\n",
        "        print('   ',j)\n",
        "        print('   ',j)"
      ]
    },
    {
      "cell_type": "code",
      "execution_count": null,
      "id": "b4383819",
      "metadata": {
        "id": "b4383819",
        "outputId": "fdabe721-2bd8-406b-8fac-61fa9c37318e"
      },
      "outputs": [
        {
          "name": "stdout",
          "output_type": "stream",
          "text": [
            "Pen\n"
          ]
        }
      ],
      "source": [
        "A =  ['Pen','Pencil','Book','Toy']\n",
        "B = ['School', 'College']\n",
        "for i in A:\n",
        "    print (i)\n",
        "    break\n",
        "    for j in B:\n",
        "        print('   ',j)\n",
        "        print('   ',j)"
      ]
    },
    {
      "cell_type": "code",
      "execution_count": null,
      "id": "772cd26d",
      "metadata": {
        "id": "772cd26d"
      },
      "outputs": [],
      "source": [
        "for  i in range (5):\n",
        "    pass\n"
      ]
    },
    {
      "cell_type": "code",
      "execution_count": null,
      "id": "e6703308",
      "metadata": {
        "id": "e6703308"
      },
      "outputs": [],
      "source": [
        "def sales ():\n",
        "    price = 50\n",
        "    qty = 10\n",
        "    amt =price *qty\n",
        "    print (amt)"
      ]
    },
    {
      "cell_type": "code",
      "execution_count": null,
      "id": "ffcadf60",
      "metadata": {
        "id": "ffcadf60",
        "outputId": "5f72824c-dd6b-4e2f-d2f5-10163172090a"
      },
      "outputs": [
        {
          "name": "stdout",
          "output_type": "stream",
          "text": [
            "500\n"
          ]
        }
      ],
      "source": [
        "sales()"
      ]
    },
    {
      "cell_type": "code",
      "execution_count": null,
      "id": "253ae8ea",
      "metadata": {
        "id": "253ae8ea",
        "outputId": "faeadad1-39a3-45bc-8c85-913d1adc5151"
      },
      "outputs": [
        {
          "name": "stdout",
          "output_type": "stream",
          "text": [
            "500\n"
          ]
        }
      ],
      "source": [
        "sales ()"
      ]
    },
    {
      "cell_type": "code",
      "execution_count": null,
      "id": "ddd38daa",
      "metadata": {
        "id": "ddd38daa",
        "outputId": "578bde07-6795-49f7-8d6f-b90225331847"
      },
      "outputs": [
        {
          "name": "stdout",
          "output_type": "stream",
          "text": [
            "500\n"
          ]
        }
      ],
      "source": [
        "sales ()"
      ]
    },
    {
      "cell_type": "code",
      "execution_count": null,
      "id": "8fecd60a",
      "metadata": {
        "id": "8fecd60a"
      },
      "outputs": [],
      "source": [
        "def sales (qty):\n",
        "    price = 50\n",
        "    amt =price *qty\n",
        "    print (amt)"
      ]
    },
    {
      "cell_type": "code",
      "execution_count": null,
      "id": "4f8d6076",
      "metadata": {
        "id": "4f8d6076",
        "outputId": "91bfe593-b2cf-4619-c1b4-e6fe0eb5ab9c"
      },
      "outputs": [
        {
          "ename": "TypeError",
          "evalue": "sales() missing 1 required positional argument: 'qty'",
          "output_type": "error",
          "traceback": [
            "\u001b[1;31m---------------------------------------------------------------------------\u001b[0m",
            "\u001b[1;31mTypeError\u001b[0m                                 Traceback (most recent call last)",
            "Cell \u001b[1;32mIn [128], line 1\u001b[0m\n\u001b[1;32m----> 1\u001b[0m \u001b[43msales\u001b[49m\u001b[43m \u001b[49m\u001b[43m(\u001b[49m\u001b[43m)\u001b[49m\n",
            "\u001b[1;31mTypeError\u001b[0m: sales() missing 1 required positional argument: 'qty'"
          ]
        }
      ],
      "source": [
        "sales ()"
      ]
    },
    {
      "cell_type": "code",
      "execution_count": null,
      "id": "e1e449ad",
      "metadata": {
        "id": "e1e449ad",
        "outputId": "71329b66-694b-4209-859d-a5ad6855703b"
      },
      "outputs": [
        {
          "name": "stdout",
          "output_type": "stream",
          "text": [
            "250\n"
          ]
        }
      ],
      "source": [
        "sales (5)"
      ]
    },
    {
      "cell_type": "code",
      "execution_count": null,
      "id": "b989ed27",
      "metadata": {
        "id": "b989ed27",
        "outputId": "0f628983-313c-4edd-898f-40d95fdf3a20"
      },
      "outputs": [
        {
          "name": "stdout",
          "output_type": "stream",
          "text": [
            "750\n"
          ]
        }
      ],
      "source": [
        "sales (15)"
      ]
    },
    {
      "cell_type": "code",
      "execution_count": null,
      "id": "89dd3fa5",
      "metadata": {
        "id": "89dd3fa5"
      },
      "outputs": [],
      "source": [
        "def sales (qty,price):\n",
        "    amt =price *qty\n",
        "    print (amt)"
      ]
    },
    {
      "cell_type": "code",
      "execution_count": null,
      "id": "3635555a",
      "metadata": {
        "id": "3635555a",
        "outputId": "330cb601-26ce-4726-c377-f2fd8b1afd78"
      },
      "outputs": [
        {
          "ename": "TypeError",
          "evalue": "sales() missing 2 required positional arguments: 'qty' and 'price'",
          "output_type": "error",
          "traceback": [
            "\u001b[1;31m---------------------------------------------------------------------------\u001b[0m",
            "\u001b[1;31mTypeError\u001b[0m                                 Traceback (most recent call last)",
            "Cell \u001b[1;32mIn [134], line 1\u001b[0m\n\u001b[1;32m----> 1\u001b[0m \u001b[43msales\u001b[49m\u001b[43m(\u001b[49m\u001b[43m)\u001b[49m\n",
            "\u001b[1;31mTypeError\u001b[0m: sales() missing 2 required positional arguments: 'qty' and 'price'"
          ]
        }
      ],
      "source": [
        "sales()"
      ]
    },
    {
      "cell_type": "code",
      "execution_count": null,
      "id": "73e93834",
      "metadata": {
        "id": "73e93834",
        "outputId": "4557a5d0-244e-4c06-e1d5-868ebdb17e33"
      },
      "outputs": [
        {
          "name": "stdout",
          "output_type": "stream",
          "text": [
            "150\n"
          ]
        }
      ],
      "source": [
        "sales (5,30)"
      ]
    },
    {
      "cell_type": "code",
      "execution_count": null,
      "id": "a77970d5",
      "metadata": {
        "id": "a77970d5"
      },
      "outputs": [],
      "source": [
        "def sales (qty,price):\n",
        "    amt =price *qty\n",
        "    print (amt)"
      ]
    },
    {
      "cell_type": "code",
      "execution_count": null,
      "id": "e4324f41",
      "metadata": {
        "id": "e4324f41",
        "outputId": "90c6164a-3310-4d82-bf0f-5f86ae51cb59"
      },
      "outputs": [
        {
          "name": "stdout",
          "output_type": "stream",
          "text": [
            "750\n"
          ]
        }
      ],
      "source": [
        "sales (30,25)"
      ]
    },
    {
      "cell_type": "code",
      "execution_count": null,
      "id": "29f59da0",
      "metadata": {
        "id": "29f59da0"
      },
      "outputs": [],
      "source": [
        "def sales (qty =10,price =50):\n",
        "    amt =price *qty\n",
        "    print (amt)"
      ]
    },
    {
      "cell_type": "code",
      "execution_count": null,
      "id": "331a0bd3",
      "metadata": {
        "id": "331a0bd3",
        "outputId": "5406d265-3136-49df-e830-07f8978bbdb6"
      },
      "outputs": [
        {
          "name": "stdout",
          "output_type": "stream",
          "text": [
            "500\n"
          ]
        }
      ],
      "source": [
        "sales ()"
      ]
    },
    {
      "cell_type": "code",
      "execution_count": null,
      "id": "087a81c3",
      "metadata": {
        "id": "087a81c3",
        "outputId": "73a348e4-235b-4aba-e9e2-c0218bd222cd"
      },
      "outputs": [
        {
          "name": "stdout",
          "output_type": "stream",
          "text": [
            "1000\n"
          ]
        }
      ],
      "source": [
        "sales (20)"
      ]
    },
    {
      "cell_type": "code",
      "execution_count": null,
      "id": "b50be41a",
      "metadata": {
        "id": "b50be41a",
        "outputId": "f9b92839-e8d3-436a-ea35-b58050649fcb"
      },
      "outputs": [
        {
          "name": "stdout",
          "output_type": "stream",
          "text": [
            "900\n"
          ]
        }
      ],
      "source": [
        "sales (15,60)"
      ]
    },
    {
      "cell_type": "code",
      "execution_count": null,
      "id": "25d6cba9",
      "metadata": {
        "id": "25d6cba9"
      },
      "outputs": [],
      "source": [
        "def sales (qty =10,price =50):\n",
        "    amt =price *qty\n",
        "    print (amt)"
      ]
    },
    {
      "cell_type": "code",
      "execution_count": null,
      "id": "86b220c1",
      "metadata": {
        "id": "86b220c1",
        "outputId": "7f6df250-d8d8-4b7a-9f63-c716c4f1763d"
      },
      "outputs": [
        {
          "name": "stdout",
          "output_type": "stream",
          "text": [
            "1500\n"
          ]
        }
      ],
      "source": [
        "sales (30)"
      ]
    },
    {
      "cell_type": "code",
      "execution_count": null,
      "id": "81a050fc",
      "metadata": {
        "id": "81a050fc",
        "outputId": "9f778fff-bc4b-4160-9137-46444e103ebf"
      },
      "outputs": [
        {
          "name": "stdout",
          "output_type": "stream",
          "text": [
            "300\n"
          ]
        }
      ],
      "source": [
        "sales (price =30)"
      ]
    },
    {
      "cell_type": "code",
      "execution_count": null,
      "id": "67066987",
      "metadata": {
        "id": "67066987"
      },
      "outputs": [],
      "source": [
        "def sales (qty =10,price =50):\n",
        "    amt =price *qty\n",
        "    print (amt)"
      ]
    },
    {
      "cell_type": "code",
      "execution_count": null,
      "id": "85c864d7",
      "metadata": {
        "id": "85c864d7",
        "outputId": "891ba252-2ff1-4be2-d970-e4247a3c0596"
      },
      "outputs": [
        {
          "name": "stdout",
          "output_type": "stream",
          "text": [
            "500\n"
          ]
        }
      ],
      "source": [
        "sales()"
      ]
    },
    {
      "cell_type": "code",
      "execution_count": null,
      "id": "a064b98e",
      "metadata": {
        "id": "a064b98e",
        "outputId": "b48c5562-a03e-412b-a001-8cbb9783b8af"
      },
      "outputs": [
        {
          "name": "stdout",
          "output_type": "stream",
          "text": [
            "250\n"
          ]
        }
      ],
      "source": [
        "sales (5)"
      ]
    },
    {
      "cell_type": "code",
      "execution_count": null,
      "id": "585dcfdf",
      "metadata": {
        "id": "585dcfdf",
        "outputId": "cf2dd4ff-e4a9-4a7c-b8bb-f17dc2dcd45b"
      },
      "outputs": [
        {
          "name": "stdout",
          "output_type": "stream",
          "text": [
            "250\n",
            "None\n"
          ]
        }
      ],
      "source": [
        "s1= sales (5)\n",
        "print (s1)"
      ]
    },
    {
      "cell_type": "code",
      "execution_count": null,
      "id": "0dcee058",
      "metadata": {
        "id": "0dcee058"
      },
      "outputs": [],
      "source": [
        "s1"
      ]
    },
    {
      "cell_type": "code",
      "execution_count": null,
      "id": "cbd80c13",
      "metadata": {
        "id": "cbd80c13"
      },
      "outputs": [],
      "source": [
        "def sales (qty =10,price =50):\n",
        "    amt =price *qty\n",
        "    print (amt)\n",
        "    return(amt)"
      ]
    },
    {
      "cell_type": "code",
      "execution_count": null,
      "id": "c87123cd",
      "metadata": {
        "id": "c87123cd",
        "outputId": "58a19701-30a9-4a62-dc5f-60b647f1e5ce"
      },
      "outputs": [
        {
          "name": "stdout",
          "output_type": "stream",
          "text": [
            "250\n",
            "250\n"
          ]
        }
      ],
      "source": [
        "s1= sales (5)\n",
        "print (s1)"
      ]
    },
    {
      "cell_type": "code",
      "execution_count": null,
      "id": "d1eba1a2",
      "metadata": {
        "id": "d1eba1a2",
        "outputId": "91ce54a2-f9e0-47ba-b4f3-57411db3e9aa"
      },
      "outputs": [
        {
          "name": "stdout",
          "output_type": "stream",
          "text": [
            "500\n",
            "500\n"
          ]
        }
      ],
      "source": [
        "s2= sales ()\n",
        "print (s2)"
      ]
    },
    {
      "cell_type": "code",
      "execution_count": null,
      "id": "932c1848",
      "metadata": {
        "id": "932c1848",
        "outputId": "03dc7760-bda2-4849-afb5-9196528e979e"
      },
      "outputs": [
        {
          "name": "stdout",
          "output_type": "stream",
          "text": [
            "250\n"
          ]
        }
      ],
      "source": [
        "print (s1)"
      ]
    },
    {
      "cell_type": "code",
      "execution_count": null,
      "id": "23e161c5",
      "metadata": {
        "id": "23e161c5"
      },
      "outputs": [],
      "source": [
        "def sales (qty =10,price =50):\n",
        "    amt =price *qty\n",
        "    print (amt)\n",
        "    return(amt)"
      ]
    },
    {
      "cell_type": "code",
      "execution_count": null,
      "id": "143aa55b",
      "metadata": {
        "id": "143aa55b",
        "outputId": "5cac4baa-d79a-448a-fa21-9778e9aec8fc"
      },
      "outputs": [
        {
          "name": "stdout",
          "output_type": "stream",
          "text": [
            "500\n"
          ]
        },
        {
          "data": {
            "text/plain": [
              "[500]"
            ]
          },
          "execution_count": 158,
          "metadata": {},
          "output_type": "execute_result"
        }
      ],
      "source": [
        "sls = []\n",
        "sls.append (sales())\n",
        "sls"
      ]
    },
    {
      "cell_type": "code",
      "execution_count": null,
      "id": "f32a28ab",
      "metadata": {
        "id": "f32a28ab",
        "outputId": "319a7d4c-ac18-4782-bec6-8f179b847204"
      },
      "outputs": [
        {
          "name": "stdout",
          "output_type": "stream",
          "text": [
            "400\n"
          ]
        },
        {
          "data": {
            "text/plain": [
              "[500, 400]"
            ]
          },
          "execution_count": 159,
          "metadata": {},
          "output_type": "execute_result"
        }
      ],
      "source": [
        "sls.append (sales(8))\n",
        "sls"
      ]
    },
    {
      "cell_type": "code",
      "execution_count": null,
      "id": "abad0ebe",
      "metadata": {
        "id": "abad0ebe",
        "outputId": "3df41eba-68df-45b2-e944-c2fd7bffabbc"
      },
      "outputs": [
        {
          "name": "stdout",
          "output_type": "stream",
          "text": [
            "500\n"
          ]
        },
        {
          "data": {
            "text/plain": [
              "[500, 400, 500]"
            ]
          },
          "execution_count": 160,
          "metadata": {},
          "output_type": "execute_result"
        }
      ],
      "source": [
        "sls.append (sales(5,100))\n",
        "sls"
      ]
    },
    {
      "cell_type": "code",
      "execution_count": null,
      "id": "0d71d8a2",
      "metadata": {
        "id": "0d71d8a2"
      },
      "outputs": [],
      "source": [
        "\n",
        "def financials (revenue,expenses):\n",
        "    \"\"\" This function is used to calculate profit and profit ratio\"\"\"\n",
        "    profit = revenue -expenses\n",
        "    profit_ratio = profit/revenue\n",
        "    new_financials = (profit ,profit_ratio)\n",
        "    return (new_financials)\n"
      ]
    },
    {
      "cell_type": "code",
      "execution_count": null,
      "id": "20d23601",
      "metadata": {
        "id": "20d23601",
        "outputId": "e52645e8-821b-4c07-cfb8-506a26bd223d"
      },
      "outputs": [
        {
          "data": {
            "text/plain": [
              "(100, 0.1)"
            ]
          },
          "execution_count": 164,
          "metadata": {},
          "output_type": "execute_result"
        }
      ],
      "source": [
        "financials (1000,900)"
      ]
    },
    {
      "cell_type": "code",
      "execution_count": null,
      "id": "394e3f63",
      "metadata": {
        "id": "394e3f63",
        "outputId": "742f4885-6194-4d82-d27a-5b30a9da181c"
      },
      "outputs": [
        {
          "data": {
            "text/plain": [
              "(100, 0.1)"
            ]
          },
          "execution_count": 165,
          "metadata": {},
          "output_type": "execute_result"
        }
      ],
      "source": [
        "x = financials (1000,900)\n",
        "x"
      ]
    },
    {
      "cell_type": "code",
      "execution_count": null,
      "id": "93ac2003",
      "metadata": {
        "id": "93ac2003",
        "outputId": "33362b75-fe90-4c5e-80e2-b7a87ad22212"
      },
      "outputs": [
        {
          "name": "stdout",
          "output_type": "stream",
          "text": [
            "Profit  100\n",
            "Profit Ratio  0.1\n"
          ]
        }
      ],
      "source": [
        "x = financials (1000,900)\n",
        "print ('Profit ', x[0] )\n",
        "print ('Profit Ratio ', x[1] )\n"
      ]
    },
    {
      "cell_type": "code",
      "execution_count": null,
      "id": "c4ebf2af",
      "metadata": {
        "id": "c4ebf2af"
      },
      "outputs": [],
      "source": [
        "def convertto (deg):\n",
        "    F= (deg*9/5)+32\n",
        "    return (F)\n"
      ]
    },
    {
      "cell_type": "code",
      "execution_count": null,
      "id": "6a48279c",
      "metadata": {
        "id": "6a48279c",
        "outputId": "1dbdd88e-2f46-4274-dab6-eaa531b2d39c"
      },
      "outputs": [
        {
          "data": {
            "text/plain": [
              "68.0"
            ]
          },
          "execution_count": 168,
          "metadata": {},
          "output_type": "execute_result"
        }
      ],
      "source": [
        "convertto (20)"
      ]
    },
    {
      "cell_type": "code",
      "execution_count": null,
      "id": "8fcb3765",
      "metadata": {
        "id": "8fcb3765",
        "outputId": "ca4d7f9c-62f4-4907-84fb-4bca595a091f"
      },
      "outputs": [
        {
          "data": {
            "text/plain": [
              "86.0"
            ]
          },
          "execution_count": 169,
          "metadata": {},
          "output_type": "execute_result"
        }
      ],
      "source": [
        "convertto (30)"
      ]
    },
    {
      "cell_type": "code",
      "execution_count": null,
      "id": "c79014ce",
      "metadata": {
        "id": "c79014ce",
        "outputId": "87350048-1196-4ae6-acf3-b3db14cad506"
      },
      "outputs": [
        {
          "name": "stdout",
          "output_type": "stream",
          "text": [
            "100.4\n"
          ]
        }
      ],
      "source": [
        "temp = 38\n",
        "temp= convertto (temp)\n",
        "print (temp)\n"
      ]
    },
    {
      "cell_type": "code",
      "execution_count": null,
      "id": "1b9ebd11",
      "metadata": {
        "id": "1b9ebd11"
      },
      "outputs": [],
      "source": []
    }
  ],
  "metadata": {
    "kernelspec": {
      "display_name": "Python 3 (ipykernel)",
      "language": "python",
      "name": "python3"
    },
    "language_info": {
      "codemirror_mode": {
        "name": "ipython",
        "version": 3
      },
      "file_extension": ".py",
      "mimetype": "text/x-python",
      "name": "python",
      "nbconvert_exporter": "python",
      "pygments_lexer": "ipython3",
      "version": "3.9.15"
    },
    "colab": {
      "provenance": [],
      "include_colab_link": true
    }
  },
  "nbformat": 4,
  "nbformat_minor": 5
}
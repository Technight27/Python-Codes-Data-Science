{
  "cells": [
    {
      "cell_type": "markdown",
      "metadata": {
        "id": "view-in-github",
        "colab_type": "text"
      },
      "source": [
        "<a href=\"https://colab.research.google.com/github/Technight27/Python-Codes/blob/main/Aug_23_ML_Day_2_Python_Operators_Conditions_.ipynb\" target=\"_parent\"><img src=\"https://colab.research.google.com/assets/colab-badge.svg\" alt=\"Open In Colab\"/></a>"
      ]
    },
    {
      "cell_type": "code",
      "execution_count": null,
      "id": "feea42d8",
      "metadata": {
        "id": "feea42d8",
        "outputId": "175dc140-358b-472d-b321-8c73ef0e034c"
      },
      "outputs": [
        {
          "name": "stdout",
          "output_type": "stream",
          "text": [
            "50.6\n",
            "<class 'float'>\n"
          ]
        }
      ],
      "source": [
        "a  =50.6\n",
        "print (a)\n",
        "print  (type (a))"
      ]
    },
    {
      "cell_type": "code",
      "execution_count": null,
      "id": "178c4f3a",
      "metadata": {
        "id": "178c4f3a",
        "outputId": "f5e7249d-8f0b-40ec-a4ff-bd8a76a0ca36"
      },
      "outputs": [
        {
          "name": "stdout",
          "output_type": "stream",
          "text": [
            "50\n",
            "<class 'int'>\n"
          ]
        }
      ],
      "source": [
        "a  =50\n",
        "print (a)\n",
        "print  (type (a))"
      ]
    },
    {
      "cell_type": "code",
      "execution_count": null,
      "id": "6901856d",
      "metadata": {
        "id": "6901856d",
        "outputId": "8a1a148b-0855-4a54-faa6-22a7a38c20ea"
      },
      "outputs": [
        {
          "name": "stdout",
          "output_type": "stream",
          "text": [
            "50.6\n",
            "<class 'float'>\n"
          ]
        }
      ],
      "source": [
        "a  =50.6\n",
        "print (a)\n",
        "print  (type (a))"
      ]
    },
    {
      "cell_type": "code",
      "execution_count": null,
      "id": "79dbca7d",
      "metadata": {
        "id": "79dbca7d",
        "outputId": "0c9545ef-2fe9-44ed-b538-adcafb3c2839"
      },
      "outputs": [
        {
          "name": "stdout",
          "output_type": "stream",
          "text": [
            "Sunday\n",
            "<class 'str'>\n"
          ]
        }
      ],
      "source": [
        "a  ='Sunday'\n",
        "print (a)\n",
        "print  (type (a))"
      ]
    },
    {
      "cell_type": "code",
      "execution_count": null,
      "id": "ed491e8d",
      "metadata": {
        "id": "ed491e8d",
        "outputId": "71715bb0-7580-4fd0-f955-c609c96eeeab"
      },
      "outputs": [
        {
          "name": "stdout",
          "output_type": "stream",
          "text": [
            "True\n",
            "<class 'bool'>\n"
          ]
        }
      ],
      "source": [
        "a  =True\n",
        "print (a)\n",
        "print  (type (a))"
      ]
    },
    {
      "cell_type": "code",
      "execution_count": null,
      "id": "5c34257e",
      "metadata": {
        "id": "5c34257e",
        "outputId": "f71b70da-9253-42fd-83bf-6a0021c41ab2"
      },
      "outputs": [
        {
          "name": "stdout",
          "output_type": "stream",
          "text": [
            "False\n",
            "<class 'bool'>\n"
          ]
        }
      ],
      "source": [
        "a = False\n",
        "print (a)\n",
        "print  (type (a))"
      ]
    },
    {
      "cell_type": "code",
      "execution_count": null,
      "id": "be9f18b0",
      "metadata": {
        "id": "be9f18b0",
        "outputId": "b804ab36-cc79-4a1d-bd5c-642b99a94c8d"
      },
      "outputs": [
        {
          "name": "stdout",
          "output_type": "stream",
          "text": [
            "(5+10j)\n",
            "<class 'complex'>\n"
          ]
        }
      ],
      "source": [
        "a = 5+10J\n",
        "print (a)\n",
        "print (type (a))"
      ]
    },
    {
      "cell_type": "code",
      "execution_count": null,
      "id": "453e9817",
      "metadata": {
        "id": "453e9817",
        "outputId": "3589254c-33a1-4e94-d981-742135d59031"
      },
      "outputs": [
        {
          "name": "stdout",
          "output_type": "stream",
          "text": [
            "(5+10j)\n",
            "<class 'complex'>\n"
          ]
        }
      ],
      "source": [
        "b= 5+10J\n",
        "print (b)\n",
        "print (type (b))"
      ]
    },
    {
      "cell_type": "code",
      "execution_count": null,
      "id": "759c17b4",
      "metadata": {
        "id": "759c17b4",
        "outputId": "b8e08842-d3a8-465a-a0e7-777fec056384"
      },
      "outputs": [
        {
          "data": {
            "text/plain": [
              "(10+20j)"
            ]
          },
          "execution_count": 13,
          "metadata": {},
          "output_type": "execute_result"
        }
      ],
      "source": [
        "a+b"
      ]
    },
    {
      "cell_type": "code",
      "execution_count": null,
      "id": "5d01762d",
      "metadata": {
        "id": "5d01762d",
        "outputId": "bc923e7f-dea5-4a7c-e8b9-19e4a872db7d"
      },
      "outputs": [
        {
          "data": {
            "text/plain": [
              "[65, 78, 55, 48]"
            ]
          },
          "execution_count": 14,
          "metadata": {},
          "output_type": "execute_result"
        }
      ],
      "source": [
        "marks = [65,78,55,48]\n",
        "marks"
      ]
    },
    {
      "cell_type": "code",
      "execution_count": null,
      "id": "185fe0f5",
      "metadata": {
        "id": "185fe0f5",
        "outputId": "6ba1cccb-a642-41df-b8fe-2b0a10ad9d21"
      },
      "outputs": [
        {
          "data": {
            "text/plain": [
              "78"
            ]
          },
          "execution_count": 15,
          "metadata": {},
          "output_type": "execute_result"
        }
      ],
      "source": [
        "marks [1]"
      ]
    },
    {
      "cell_type": "code",
      "execution_count": null,
      "id": "6b7a2070",
      "metadata": {
        "id": "6b7a2070",
        "outputId": "14e379b4-7d90-45f2-d6bb-d7bded946762"
      },
      "outputs": [
        {
          "data": {
            "text/plain": [
              "78"
            ]
          },
          "execution_count": 16,
          "metadata": {},
          "output_type": "execute_result"
        }
      ],
      "source": [
        "marks [-3]"
      ]
    },
    {
      "cell_type": "code",
      "execution_count": null,
      "id": "f42aa25d",
      "metadata": {
        "id": "f42aa25d",
        "outputId": "e984bdf9-2878-4669-e3ba-bce32bf0e65d"
      },
      "outputs": [
        {
          "data": {
            "text/plain": [
              "[65, 78, 55, 48]"
            ]
          },
          "execution_count": 17,
          "metadata": {},
          "output_type": "execute_result"
        }
      ],
      "source": [
        "marks = [65,78,55,48]\n",
        "marks"
      ]
    },
    {
      "cell_type": "code",
      "execution_count": null,
      "id": "6606ad05",
      "metadata": {
        "id": "6606ad05",
        "outputId": "8a60a658-2f45-46bb-d9f0-cfc2a6b6692f"
      },
      "outputs": [
        {
          "name": "stdout",
          "output_type": "stream",
          "text": [
            "[65, 78, 55, 48, 4.5, True, [20, 21, 22]]\n"
          ]
        }
      ],
      "source": [
        "marks = [65,78,55,48, 4.5, True , [20,21,22]]\n",
        "print (marks)"
      ]
    },
    {
      "cell_type": "code",
      "execution_count": null,
      "id": "08bea424",
      "metadata": {
        "id": "08bea424"
      },
      "outputs": [],
      "source": [
        "List  =  []\n",
        "Tuple =()"
      ]
    },
    {
      "cell_type": "code",
      "execution_count": null,
      "id": "14b34600",
      "metadata": {
        "id": "14b34600",
        "outputId": "2f08f0f9-675c-4761-bc34-572ec24c9c1b"
      },
      "outputs": [
        {
          "name": "stdout",
          "output_type": "stream",
          "text": [
            "[10, 20, 30, 30, 40]\n",
            "<class 'list'>\n"
          ]
        }
      ],
      "source": [
        "l1 = [10,20,30,30,40]\n",
        "print (l1)\n",
        "print (type (l1))"
      ]
    },
    {
      "cell_type": "code",
      "execution_count": null,
      "id": "b6c6159a",
      "metadata": {
        "id": "b6c6159a",
        "outputId": "6b775507-f4c1-4756-e1b4-8f2295e76f44"
      },
      "outputs": [
        {
          "name": "stdout",
          "output_type": "stream",
          "text": [
            "(10, 20, 30, 30, 40)\n",
            "<class 'tuple'>\n"
          ]
        }
      ],
      "source": [
        "t1 = (10,20,30,30,40)\n",
        "print (t1)\n",
        "print (type (t1))"
      ]
    },
    {
      "cell_type": "code",
      "execution_count": null,
      "id": "009e5150",
      "metadata": {
        "id": "009e5150",
        "outputId": "cf2ade33-8c81-45bd-a873-6574135dcfc7"
      },
      "outputs": [
        {
          "data": {
            "text/plain": [
              "[10, 20, 30, 30, 40]"
            ]
          },
          "execution_count": 25,
          "metadata": {},
          "output_type": "execute_result"
        }
      ],
      "source": [
        "l1"
      ]
    },
    {
      "cell_type": "code",
      "execution_count": null,
      "id": "8ed32477",
      "metadata": {
        "id": "8ed32477",
        "outputId": "dcc845d6-b4c9-4b78-a044-42fa986345d0"
      },
      "outputs": [
        {
          "name": "stdout",
          "output_type": "stream",
          "text": [
            "[10, 20, 35, 30, 40]\n"
          ]
        }
      ],
      "source": [
        "l1[2] =35\n",
        "print (l1)"
      ]
    },
    {
      "cell_type": "code",
      "execution_count": null,
      "id": "c0128fb1",
      "metadata": {
        "id": "c0128fb1",
        "outputId": "09a3fda1-97cc-4a64-b16c-dc8d39075e15"
      },
      "outputs": [
        {
          "data": {
            "text/plain": [
              "(10, 20, 30, 30, 40)"
            ]
          },
          "execution_count": 28,
          "metadata": {},
          "output_type": "execute_result"
        }
      ],
      "source": [
        "t1"
      ]
    },
    {
      "cell_type": "code",
      "execution_count": null,
      "id": "71f19e56",
      "metadata": {
        "id": "71f19e56",
        "outputId": "883f5e9d-0df6-44c3-cc2a-dcf557237662"
      },
      "outputs": [
        {
          "data": {
            "text/plain": [
              "30"
            ]
          },
          "execution_count": 29,
          "metadata": {},
          "output_type": "execute_result"
        }
      ],
      "source": [
        "t1[2]"
      ]
    },
    {
      "cell_type": "code",
      "execution_count": null,
      "id": "70040e2b",
      "metadata": {
        "id": "70040e2b",
        "outputId": "8445a454-4add-46bf-ca5f-949bfa97d37d"
      },
      "outputs": [
        {
          "ename": "TypeError",
          "evalue": "'tuple' object does not support item assignment",
          "output_type": "error",
          "traceback": [
            "\u001b[1;31m---------------------------------------------------------------------------\u001b[0m",
            "\u001b[1;31mTypeError\u001b[0m                                 Traceback (most recent call last)",
            "Cell \u001b[1;32mIn [30], line 1\u001b[0m\n\u001b[1;32m----> 1\u001b[0m t1[\u001b[38;5;241m2\u001b[39m] \u001b[38;5;241m=\u001b[39m\u001b[38;5;241m35\u001b[39m\n",
            "\u001b[1;31mTypeError\u001b[0m: 'tuple' object does not support item assignment"
          ]
        }
      ],
      "source": [
        "t1[2] =35"
      ]
    },
    {
      "cell_type": "code",
      "execution_count": null,
      "id": "9d3e8b3c",
      "metadata": {
        "id": "9d3e8b3c",
        "outputId": "06dd67e6-71ea-4b24-932c-8bb12f79f6ad"
      },
      "outputs": [
        {
          "data": {
            "text/plain": [
              "[10, 20, 35, 30, 40]"
            ]
          },
          "execution_count": 31,
          "metadata": {},
          "output_type": "execute_result"
        }
      ],
      "source": [
        "l1"
      ]
    },
    {
      "cell_type": "code",
      "execution_count": null,
      "id": "67d84325",
      "metadata": {
        "id": "67d84325",
        "outputId": "f496a7a7-c423-465b-8b07-49035b964f1b"
      },
      "outputs": [
        {
          "data": {
            "text/plain": [
              "[10, 20, 35, 30, 40, 35]"
            ]
          },
          "execution_count": 33,
          "metadata": {},
          "output_type": "execute_result"
        }
      ],
      "source": [
        "l1.append (35)\n",
        "l1"
      ]
    },
    {
      "cell_type": "code",
      "execution_count": null,
      "id": "1099829d",
      "metadata": {
        "id": "1099829d",
        "outputId": "299046b0-e06c-4b5b-8d99-3887c46af863"
      },
      "outputs": [
        {
          "data": {
            "text/plain": [
              "(10, 20, 30, 30, 40)"
            ]
          },
          "execution_count": 34,
          "metadata": {},
          "output_type": "execute_result"
        }
      ],
      "source": [
        "t1"
      ]
    },
    {
      "cell_type": "code",
      "execution_count": null,
      "id": "e90ed44d",
      "metadata": {
        "id": "e90ed44d",
        "outputId": "9434a4e9-3218-4a04-b87e-c02ca12b2da1"
      },
      "outputs": [
        {
          "ename": "AttributeError",
          "evalue": "'tuple' object has no attribute 'append'",
          "output_type": "error",
          "traceback": [
            "\u001b[1;31m---------------------------------------------------------------------------\u001b[0m",
            "\u001b[1;31mAttributeError\u001b[0m                            Traceback (most recent call last)",
            "Cell \u001b[1;32mIn [35], line 1\u001b[0m\n\u001b[1;32m----> 1\u001b[0m \u001b[43mt1\u001b[49m\u001b[38;5;241;43m.\u001b[39;49m\u001b[43mappend\u001b[49m (\u001b[38;5;241m35\u001b[39m)\n",
            "\u001b[1;31mAttributeError\u001b[0m: 'tuple' object has no attribute 'append'"
          ]
        }
      ],
      "source": [
        "t1.append (35)"
      ]
    },
    {
      "cell_type": "code",
      "execution_count": null,
      "id": "1dad90c9",
      "metadata": {
        "id": "1dad90c9",
        "outputId": "1618ec24-e944-4b6d-88ca-e8dce7e26b2e"
      },
      "outputs": [
        {
          "data": {
            "text/plain": [
              "range(20, 30, 2)"
            ]
          },
          "execution_count": 36,
          "metadata": {},
          "output_type": "execute_result"
        }
      ],
      "source": [
        "range (20,30,2)"
      ]
    },
    {
      "cell_type": "code",
      "execution_count": null,
      "id": "0899e541",
      "metadata": {
        "id": "0899e541",
        "outputId": "2bc00350-6159-45dd-b6b2-da29b1f7bf74"
      },
      "outputs": [
        {
          "data": {
            "text/plain": [
              "array([20, 22, 24, 26, 28])"
            ]
          },
          "execution_count": 37,
          "metadata": {},
          "output_type": "execute_result"
        }
      ],
      "source": [
        "import numpy as np\n",
        "np.arange (20,30,2)"
      ]
    },
    {
      "cell_type": "code",
      "execution_count": null,
      "id": "2b0e2847",
      "metadata": {
        "id": "2b0e2847",
        "outputId": "6a2df673-d38c-4498-9603-946bb2de1730"
      },
      "outputs": [
        {
          "data": {
            "text/plain": [
              "array([0, 1, 2, 3, 4, 5, 6, 7, 8, 9])"
            ]
          },
          "execution_count": 38,
          "metadata": {},
          "output_type": "execute_result"
        }
      ],
      "source": [
        "np.arange (10)"
      ]
    },
    {
      "cell_type": "code",
      "execution_count": null,
      "id": "c9a67ddb",
      "metadata": {
        "id": "c9a67ddb",
        "outputId": "040226a3-d4d9-4a69-93c3-593c2238823d"
      },
      "outputs": [
        {
          "data": {
            "text/plain": [
              "array([10, 11, 12, 13, 14, 15, 16, 17, 18, 19])"
            ]
          },
          "execution_count": 39,
          "metadata": {},
          "output_type": "execute_result"
        }
      ],
      "source": [
        "np.arange (10,20)"
      ]
    },
    {
      "cell_type": "code",
      "execution_count": null,
      "id": "f705ba36",
      "metadata": {
        "id": "f705ba36",
        "outputId": "21d143ce-7f8e-469b-86c7-60c739e8231a"
      },
      "outputs": [
        {
          "name": "stdout",
          "output_type": "stream",
          "text": [
            "0\n",
            "1\n",
            "2\n",
            "3\n",
            "4\n"
          ]
        }
      ],
      "source": [
        "for i in range (5):\n",
        "    print (i)"
      ]
    },
    {
      "cell_type": "code",
      "execution_count": null,
      "id": "4ac3117e",
      "metadata": {
        "id": "4ac3117e",
        "outputId": "f0309c34-cba6-4968-9beb-123959be7d1a"
      },
      "outputs": [
        {
          "name": "stdout",
          "output_type": "stream",
          "text": [
            "0\n",
            "1\n",
            "2\n",
            "3\n",
            "4\n",
            "5\n",
            "6\n",
            "7\n",
            "8\n",
            "9\n",
            "10\n",
            "11\n",
            "12\n",
            "13\n",
            "14\n",
            "15\n",
            "16\n",
            "17\n",
            "18\n",
            "19\n"
          ]
        }
      ],
      "source": [
        "for i in range (20):\n",
        "    print (i)"
      ]
    },
    {
      "cell_type": "code",
      "execution_count": null,
      "id": "2ebaf533",
      "metadata": {
        "id": "2ebaf533",
        "outputId": "0eb78ab0-ef4b-43ca-cc71-0f73700fb3eb"
      },
      "outputs": [
        {
          "name": "stdout",
          "output_type": "stream",
          "text": [
            "15\n",
            "16\n",
            "17\n",
            "18\n",
            "19\n"
          ]
        }
      ],
      "source": [
        "for i in range (15,20):\n",
        "    print (i)"
      ]
    },
    {
      "cell_type": "code",
      "execution_count": null,
      "id": "6f1ac399",
      "metadata": {
        "id": "6f1ac399",
        "outputId": "f80f5c4e-0049-4555-e941-c84d741b8f08"
      },
      "outputs": [
        {
          "name": "stdout",
          "output_type": "stream",
          "text": [
            "10\n",
            "20\n",
            "30\n",
            "40\n",
            "50\n",
            "60\n",
            "70\n",
            "80\n",
            "90\n"
          ]
        }
      ],
      "source": [
        "for i in range (10,100,10):\n",
        "    print (i)"
      ]
    },
    {
      "cell_type": "code",
      "execution_count": null,
      "id": "a1ba173c",
      "metadata": {
        "id": "a1ba173c",
        "outputId": "d081b743-20d1-4292-c99d-bc6657ce2c1b"
      },
      "outputs": [
        {
          "name": "stdout",
          "output_type": "stream",
          "text": [
            "50\n",
            "40\n",
            "30\n",
            "20\n",
            "10\n",
            "0\n",
            "-10\n",
            "-20\n",
            "-30\n",
            "-40\n"
          ]
        }
      ],
      "source": [
        "for i in range (50,-50,-10):\n",
        "    print (i)"
      ]
    },
    {
      "cell_type": "code",
      "execution_count": null,
      "id": "8f5c8f1e",
      "metadata": {
        "id": "8f5c8f1e",
        "outputId": "12d01149-e85e-46de-e125-6074c8d00db6"
      },
      "outputs": [
        {
          "name": "stdout",
          "output_type": "stream",
          "text": [
            "50\n",
            "40\n",
            "30\n",
            "20\n",
            "10\n",
            "0\n",
            "-10\n",
            "-20\n",
            "-30\n",
            "-40\n",
            "-50\n"
          ]
        }
      ],
      "source": [
        "for i in range (50,-51,-10):\n",
        "    print (i)"
      ]
    },
    {
      "cell_type": "code",
      "execution_count": null,
      "id": "a96dc749",
      "metadata": {
        "id": "a96dc749",
        "outputId": "ece330d7-7a5b-4ebc-a31e-125fafc35b02"
      },
      "outputs": [
        {
          "name": "stdout",
          "output_type": "stream",
          "text": [
            "1\n",
            "2\n",
            "3\n",
            "4\n",
            "5\n",
            "6\n",
            "7\n",
            "8\n",
            "9\n"
          ]
        }
      ],
      "source": [
        "for i in range (1,10):\n",
        "    print (i)"
      ]
    },
    {
      "cell_type": "code",
      "execution_count": null,
      "id": "e7aae4d0",
      "metadata": {
        "id": "e7aae4d0",
        "outputId": "54b8c2fe-b989-4c96-a50c-88e350622f4f"
      },
      "outputs": [
        {
          "name": "stdout",
          "output_type": "stream",
          "text": [
            "{'Roll No': 100, 'Name': 'Sam'}\n",
            "<class 'dict'>\n"
          ]
        }
      ],
      "source": [
        "student = {'Roll No': 100, 'Name':'Sam'}\n",
        "print (student)\n",
        "print (type (student))"
      ]
    },
    {
      "cell_type": "code",
      "execution_count": null,
      "id": "342b75ea",
      "metadata": {
        "id": "342b75ea",
        "outputId": "7b56563e-c6b2-4183-a8df-645320490a11"
      },
      "outputs": [
        {
          "data": {
            "text/plain": [
              "100"
            ]
          },
          "execution_count": 49,
          "metadata": {},
          "output_type": "execute_result"
        }
      ],
      "source": [
        "student['Roll No']"
      ]
    },
    {
      "cell_type": "code",
      "execution_count": null,
      "id": "b3bd0184",
      "metadata": {
        "id": "b3bd0184",
        "outputId": "8f4cde31-9777-4cd0-f47d-014298c5dfb0"
      },
      "outputs": [
        {
          "data": {
            "text/plain": [
              "'Sam'"
            ]
          },
          "execution_count": 50,
          "metadata": {},
          "output_type": "execute_result"
        }
      ],
      "source": [
        "student['Name']"
      ]
    },
    {
      "cell_type": "code",
      "execution_count": null,
      "id": "d14cd80a",
      "metadata": {
        "id": "d14cd80a",
        "outputId": "4f4769b9-dce7-4fd5-a244-65b1444a6677"
      },
      "outputs": [
        {
          "name": "stdout",
          "output_type": "stream",
          "text": [
            "{'Roll No': [100, 101, 102], 'Name': ['Sam', 'Ann']}\n",
            "<class 'dict'>\n"
          ]
        }
      ],
      "source": [
        "student = {'Roll No': [100,101,102] ,'Name':['Sam','Ann']}\n",
        "print (student)\n",
        "print (type (student))"
      ]
    },
    {
      "cell_type": "code",
      "execution_count": null,
      "id": "e29aed38",
      "metadata": {
        "id": "e29aed38",
        "outputId": "6b13180f-4c1d-4523-d008-beb8cafb2efc"
      },
      "outputs": [
        {
          "data": {
            "text/plain": [
              "[100, 101, 102]"
            ]
          },
          "execution_count": 55,
          "metadata": {},
          "output_type": "execute_result"
        }
      ],
      "source": [
        "student ['Roll No']"
      ]
    },
    {
      "cell_type": "code",
      "execution_count": null,
      "id": "3125c443",
      "metadata": {
        "id": "3125c443",
        "outputId": "7d8a8aa8-cb40-4b8f-ab63-7dcba7d85b65"
      },
      "outputs": [
        {
          "data": {
            "text/plain": [
              "101"
            ]
          },
          "execution_count": 56,
          "metadata": {},
          "output_type": "execute_result"
        }
      ],
      "source": [
        "student ['Roll No'][1]"
      ]
    },
    {
      "cell_type": "code",
      "execution_count": null,
      "id": "1811af59",
      "metadata": {
        "id": "1811af59"
      },
      "outputs": [],
      "source": [
        "List  = []\n",
        "Tuple = ()\n",
        "Set = {}\n",
        "Dict = {'Key': 'Value'}"
      ]
    },
    {
      "cell_type": "code",
      "execution_count": null,
      "id": "8ca1a118",
      "metadata": {
        "id": "8ca1a118",
        "outputId": "387bf8d8-a129-4fde-a15c-11b73b2c2d6e"
      },
      "outputs": [
        {
          "name": "stdout",
          "output_type": "stream",
          "text": [
            "{10, 20, 30}\n"
          ]
        }
      ],
      "source": [
        "s1 = {10,20,30,20,30}\n",
        "print (s1)"
      ]
    },
    {
      "cell_type": "code",
      "execution_count": null,
      "id": "54b3725b",
      "metadata": {
        "id": "54b3725b",
        "outputId": "c7a9fcc2-9777-4337-e815-7827e835a1ea"
      },
      "outputs": [
        {
          "name": "stdout",
          "output_type": "stream",
          "text": [
            "{10, 20, 30}\n",
            "{40, 10, 20, 30}\n"
          ]
        }
      ],
      "source": [
        "\n",
        "print (s1)\n",
        "s1.add (40)\n",
        "print (s1)"
      ]
    },
    {
      "cell_type": "code",
      "execution_count": null,
      "id": "dd1d1912",
      "metadata": {
        "id": "dd1d1912",
        "outputId": "c70146f0-d239-42d1-890d-a0b9ad049975"
      },
      "outputs": [
        {
          "name": "stdout",
          "output_type": "stream",
          "text": [
            "<class 'frozenset'>\n",
            "frozenset({10, 20, 30})\n"
          ]
        }
      ],
      "source": [
        "fs1 = frozenset ({10,20,30,20,30})\n",
        "print (type (fs1))\n",
        "print (fs1)"
      ]
    },
    {
      "cell_type": "code",
      "execution_count": null,
      "id": "28043008",
      "metadata": {
        "id": "28043008",
        "outputId": "116b1be4-cefe-4b76-8850-9a2564132713"
      },
      "outputs": [
        {
          "ename": "AttributeError",
          "evalue": "'frozenset' object has no attribute 'add'",
          "output_type": "error",
          "traceback": [
            "\u001b[1;31m---------------------------------------------------------------------------\u001b[0m",
            "\u001b[1;31mAttributeError\u001b[0m                            Traceback (most recent call last)",
            "Cell \u001b[1;32mIn [64], line 1\u001b[0m\n\u001b[1;32m----> 1\u001b[0m \u001b[43mfs1\u001b[49m\u001b[38;5;241;43m.\u001b[39;49m\u001b[43madd\u001b[49m (\u001b[38;5;241m40\u001b[39m)\n",
            "\u001b[1;31mAttributeError\u001b[0m: 'frozenset' object has no attribute 'add'"
          ]
        }
      ],
      "source": [
        "fs1.add (40)"
      ]
    },
    {
      "cell_type": "code",
      "execution_count": null,
      "id": "9c3d5167",
      "metadata": {
        "id": "9c3d5167",
        "outputId": "1d7dc271-2bdc-40de-e8dc-685aced38dc9"
      },
      "outputs": [
        {
          "data": {
            "text/plain": [
              "True"
            ]
          },
          "execution_count": 65,
          "metadata": {},
          "output_type": "execute_result"
        }
      ],
      "source": [
        "True"
      ]
    },
    {
      "cell_type": "code",
      "execution_count": null,
      "id": "cdf84c1a",
      "metadata": {
        "id": "cdf84c1a",
        "outputId": "4b13525d-3dab-4b54-ff77-06a07fead9b5"
      },
      "outputs": [
        {
          "data": {
            "text/plain": [
              "False"
            ]
          },
          "execution_count": 66,
          "metadata": {},
          "output_type": "execute_result"
        }
      ],
      "source": [
        "False"
      ]
    },
    {
      "cell_type": "code",
      "execution_count": null,
      "id": "ede1da19",
      "metadata": {
        "id": "ede1da19",
        "outputId": "6eac8a4f-8aa4-471f-bd02-e0263ea1732a"
      },
      "outputs": [
        {
          "name": "stdout",
          "output_type": "stream",
          "text": [
            "<class 'float'>\n"
          ]
        }
      ],
      "source": [
        "a = 50.6\n",
        "print (type (a))"
      ]
    },
    {
      "cell_type": "code",
      "execution_count": null,
      "id": "2d0be111",
      "metadata": {
        "id": "2d0be111",
        "outputId": "4d924569-2594-4cb9-b9e8-12658e1bc827"
      },
      "outputs": [
        {
          "name": "stdout",
          "output_type": "stream",
          "text": [
            "<class 'float'>\n"
          ]
        },
        {
          "data": {
            "text/plain": [
              "50"
            ]
          },
          "execution_count": 68,
          "metadata": {},
          "output_type": "execute_result"
        }
      ],
      "source": [
        "a = 50.6\n",
        "print (type (a))\n",
        "int (a)"
      ]
    },
    {
      "cell_type": "code",
      "execution_count": null,
      "id": "bb49c531",
      "metadata": {
        "id": "bb49c531",
        "outputId": "9ed0f882-0a5d-4119-8ba5-1134af79de99"
      },
      "outputs": [
        {
          "name": "stdout",
          "output_type": "stream",
          "text": [
            "<class 'float'>\n"
          ]
        },
        {
          "data": {
            "text/plain": [
              "'50.6'"
            ]
          },
          "execution_count": 69,
          "metadata": {},
          "output_type": "execute_result"
        }
      ],
      "source": [
        "a = 50.6\n",
        "print (type (a))\n",
        "str (a)"
      ]
    },
    {
      "cell_type": "code",
      "execution_count": null,
      "id": "b9929270",
      "metadata": {
        "id": "b9929270",
        "outputId": "43af3152-7a47-4ef1-caf0-918741a1fc26"
      },
      "outputs": [
        {
          "data": {
            "text/plain": [
              "(10, 20, 30)"
            ]
          },
          "execution_count": 70,
          "metadata": {},
          "output_type": "execute_result"
        }
      ],
      "source": [
        "l1 = [10,20,30]\n",
        "tuple (l1)"
      ]
    },
    {
      "cell_type": "code",
      "execution_count": null,
      "id": "e492d975",
      "metadata": {
        "id": "e492d975"
      },
      "outputs": [],
      "source": [
        "# 0 will be False\n",
        "# Non Zero will be True"
      ]
    },
    {
      "cell_type": "code",
      "execution_count": null,
      "id": "862725d7",
      "metadata": {
        "id": "862725d7",
        "outputId": "883badc4-91ba-48c7-8af5-12b5ffec9b31"
      },
      "outputs": [
        {
          "data": {
            "text/plain": [
              "False"
            ]
          },
          "execution_count": 72,
          "metadata": {},
          "output_type": "execute_result"
        }
      ],
      "source": [
        "bool (0)"
      ]
    },
    {
      "cell_type": "code",
      "execution_count": null,
      "id": "c53f3d6f",
      "metadata": {
        "id": "c53f3d6f",
        "outputId": "fc97e332-7340-4a43-93ed-d2e4b5dac61a"
      },
      "outputs": [
        {
          "data": {
            "text/plain": [
              "True"
            ]
          },
          "execution_count": 73,
          "metadata": {},
          "output_type": "execute_result"
        }
      ],
      "source": [
        "bool (56112)"
      ]
    },
    {
      "cell_type": "code",
      "execution_count": null,
      "id": "4d804351",
      "metadata": {
        "id": "4d804351",
        "outputId": "4d965980-c585-4196-b8bc-503a47c3512d"
      },
      "outputs": [
        {
          "data": {
            "text/plain": [
              "True"
            ]
          },
          "execution_count": 74,
          "metadata": {},
          "output_type": "execute_result"
        }
      ],
      "source": [
        "bool (0.0000000000001)"
      ]
    },
    {
      "cell_type": "code",
      "execution_count": null,
      "id": "1f903341",
      "metadata": {
        "id": "1f903341",
        "outputId": "1a51b1da-e865-4e11-9b02-047221200b22"
      },
      "outputs": [
        {
          "data": {
            "text/plain": [
              "0"
            ]
          },
          "execution_count": 75,
          "metadata": {},
          "output_type": "execute_result"
        }
      ],
      "source": [
        "int (False)"
      ]
    },
    {
      "cell_type": "code",
      "execution_count": null,
      "id": "72ada253",
      "metadata": {
        "id": "72ada253",
        "outputId": "eba72a7e-2ab3-42ca-fe65-7e99118f20ee"
      },
      "outputs": [
        {
          "data": {
            "text/plain": [
              "1"
            ]
          },
          "execution_count": 76,
          "metadata": {},
          "output_type": "execute_result"
        }
      ],
      "source": [
        "int (True)"
      ]
    },
    {
      "cell_type": "code",
      "execution_count": null,
      "id": "7707e53f",
      "metadata": {
        "id": "7707e53f",
        "outputId": "88b77afe-2a25-417f-8f92-dcdafb0247c0"
      },
      "outputs": [
        {
          "name": "stdout",
          "output_type": "stream",
          "text": [
            "False\n",
            "<class 'str'>\n"
          ]
        }
      ],
      "source": [
        "x = str (False)\n",
        "print (x)\n",
        "print (type (x))"
      ]
    },
    {
      "cell_type": "code",
      "execution_count": null,
      "id": "daaba0ba",
      "metadata": {
        "id": "daaba0ba",
        "outputId": "71210c0c-807d-4078-d705-c73a11bb47ef"
      },
      "outputs": [
        {
          "data": {
            "text/plain": [
              "[10, 20, 30]"
            ]
          },
          "execution_count": 80,
          "metadata": {},
          "output_type": "execute_result"
        }
      ],
      "source": [
        "l1"
      ]
    },
    {
      "cell_type": "code",
      "execution_count": null,
      "id": "a455eb15",
      "metadata": {
        "id": "a455eb15",
        "outputId": "c23e5a2b-3b1d-43f6-cc94-fd150885ff05"
      },
      "outputs": [
        {
          "data": {
            "text/plain": [
              "{10, 20, 30}"
            ]
          },
          "execution_count": 82,
          "metadata": {},
          "output_type": "execute_result"
        }
      ],
      "source": [
        "l1 = [10,20,30,20,30]\n",
        "set(l1)"
      ]
    },
    {
      "cell_type": "code",
      "execution_count": null,
      "id": "1d676f77",
      "metadata": {
        "id": "1d676f77",
        "outputId": "af0cc838-de26-4c6a-be59-615077f791bd"
      },
      "outputs": [
        {
          "data": {
            "text/plain": [
              "frozenset({10, 20, 30})"
            ]
          },
          "execution_count": 83,
          "metadata": {},
          "output_type": "execute_result"
        }
      ],
      "source": [
        "frozenset(l1)"
      ]
    },
    {
      "cell_type": "code",
      "execution_count": null,
      "id": "1134cb50",
      "metadata": {
        "id": "1134cb50",
        "outputId": "5dfebd98-c8e6-4748-d0b0-742f880a767f"
      },
      "outputs": [
        {
          "data": {
            "text/plain": [
              "'True'"
            ]
          },
          "execution_count": 84,
          "metadata": {},
          "output_type": "execute_result"
        }
      ],
      "source": [
        "b1 = True\n",
        "str (b1)"
      ]
    },
    {
      "cell_type": "code",
      "execution_count": null,
      "id": "2a3f4791",
      "metadata": {
        "id": "2a3f4791",
        "outputId": "f371334f-c52d-4b0e-faed-a1614e2a7ef6"
      },
      "outputs": [
        {
          "name": "stdout",
          "output_type": "stream",
          "text": [
            "<class 'bool'>\n"
          ]
        }
      ],
      "source": [
        "m = bool ('True')\n",
        "print (type (m))"
      ]
    },
    {
      "cell_type": "code",
      "execution_count": null,
      "id": "841c90c0",
      "metadata": {
        "id": "841c90c0",
        "outputId": "3cad4484-77b8-4064-b92f-290cefc07d11"
      },
      "outputs": [
        {
          "name": "stdout",
          "output_type": "stream",
          "text": [
            "<class 'bool'>\n",
            "True\n"
          ]
        }
      ],
      "source": [
        "m = bool ('Sunday')\n",
        "print (type (m))\n",
        "print (m)"
      ]
    },
    {
      "cell_type": "code",
      "execution_count": null,
      "id": "ed46fb57",
      "metadata": {
        "id": "ed46fb57",
        "outputId": "9c9a2329-4d03-401d-e7b2-81ad9eae2319"
      },
      "outputs": [
        {
          "name": "stdout",
          "output_type": "stream",
          "text": [
            "70\n"
          ]
        }
      ],
      "source": [
        "a = 50\n",
        "b = 20\n",
        "c = a+b\n",
        "print (c)"
      ]
    },
    {
      "cell_type": "code",
      "execution_count": null,
      "id": "30bc32d0",
      "metadata": {
        "id": "30bc32d0",
        "outputId": "14531f54-e0db-4eff-b88f-054b97832d65"
      },
      "outputs": [
        {
          "name": "stdout",
          "output_type": "stream",
          "text": [
            "30\n"
          ]
        }
      ],
      "source": [
        "a = 50\n",
        "b = 20\n",
        "c = a-b\n",
        "print (c)"
      ]
    },
    {
      "cell_type": "code",
      "execution_count": null,
      "id": "790b1ab1",
      "metadata": {
        "id": "790b1ab1",
        "outputId": "abaed93a-292d-45b1-b6a5-84dc111e1cfd"
      },
      "outputs": [
        {
          "name": "stdout",
          "output_type": "stream",
          "text": [
            "1000\n"
          ]
        }
      ],
      "source": [
        "a = 50\n",
        "b = 20\n",
        "c = a*b\n",
        "print (c)"
      ]
    },
    {
      "cell_type": "code",
      "execution_count": null,
      "id": "fb0a80a4",
      "metadata": {
        "id": "fb0a80a4",
        "outputId": "1e428074-839a-4828-cf7a-ca51916b17ad"
      },
      "outputs": [
        {
          "name": "stdout",
          "output_type": "stream",
          "text": [
            "2.5\n"
          ]
        }
      ],
      "source": [
        "a = 50\n",
        "b = 20\n",
        "c = a/b\n",
        "print (c)"
      ]
    },
    {
      "cell_type": "code",
      "execution_count": null,
      "id": "c972c5d9",
      "metadata": {
        "id": "c972c5d9",
        "outputId": "6a9d9bbe-c857-4b49-e126-ba96c590691f"
      },
      "outputs": [
        {
          "name": "stdout",
          "output_type": "stream",
          "text": [
            "10\n"
          ]
        }
      ],
      "source": [
        "a = 50\n",
        "b = 20\n",
        "c = a %b\n",
        "print (c)"
      ]
    },
    {
      "cell_type": "code",
      "execution_count": null,
      "id": "7fc04b20",
      "metadata": {
        "id": "7fc04b20",
        "outputId": "bf367c85-84fb-4094-d8bb-81fa51aa6e00"
      },
      "outputs": [
        {
          "name": "stdout",
          "output_type": "stream",
          "text": [
            "2\n"
          ]
        }
      ],
      "source": [
        "a = 50\n",
        "b = 20\n",
        "c = a //b\n",
        "print (c)"
      ]
    },
    {
      "cell_type": "code",
      "execution_count": null,
      "id": "b93d4ad2",
      "metadata": {
        "id": "b93d4ad2",
        "outputId": "c06d4dbc-67e5-4118-dad7-bbed523cc67c"
      },
      "outputs": [
        {
          "name": "stdout",
          "output_type": "stream",
          "text": [
            "6\n"
          ]
        }
      ],
      "source": [
        "a = 46\n",
        "b =8\n",
        "c = a %b\n",
        "print (c)"
      ]
    },
    {
      "cell_type": "code",
      "execution_count": null,
      "id": "7612e277",
      "metadata": {
        "id": "7612e277",
        "outputId": "7636d585-c6f2-4ce1-dd73-70fbdf19ba91"
      },
      "outputs": [
        {
          "name": "stdout",
          "output_type": "stream",
          "text": [
            "5\n"
          ]
        }
      ],
      "source": [
        "a = 46\n",
        "b =8\n",
        "c = a //b\n",
        "print (c)"
      ]
    },
    {
      "cell_type": "code",
      "execution_count": null,
      "id": "cce3f568",
      "metadata": {
        "id": "cce3f568",
        "outputId": "23b3005f-e77f-4a6d-dc0b-fa9774c496c8"
      },
      "outputs": [
        {
          "name": "stdout",
          "output_type": "stream",
          "text": [
            "5.75\n"
          ]
        }
      ],
      "source": [
        "a = 46\n",
        "b =8\n",
        "c = a /b\n",
        "print (c)"
      ]
    },
    {
      "cell_type": "code",
      "execution_count": null,
      "id": "156b6de8",
      "metadata": {
        "id": "156b6de8",
        "outputId": "10285e80-7156-4e61-91e0-6abc5ae580bb"
      },
      "outputs": [
        {
          "data": {
            "text/plain": [
              "125"
            ]
          },
          "execution_count": 98,
          "metadata": {},
          "output_type": "execute_result"
        }
      ],
      "source": [
        "5 ** 3"
      ]
    },
    {
      "cell_type": "code",
      "execution_count": null,
      "id": "0bc393f0",
      "metadata": {
        "id": "0bc393f0",
        "outputId": "100b2c1f-5922-43dd-899f-409e0d1407c4"
      },
      "outputs": [
        {
          "data": {
            "text/plain": [
              "125"
            ]
          },
          "execution_count": 99,
          "metadata": {},
          "output_type": "execute_result"
        }
      ],
      "source": [
        "5 *5*5"
      ]
    },
    {
      "cell_type": "code",
      "execution_count": null,
      "id": "56fb82fb",
      "metadata": {
        "id": "56fb82fb",
        "outputId": "e8757a43-35cd-48ee-8823-18136c40213f"
      },
      "outputs": [
        {
          "data": {
            "text/plain": [
              "1024"
            ]
          },
          "execution_count": 100,
          "metadata": {},
          "output_type": "execute_result"
        }
      ],
      "source": [
        "2 * 2*2*2 * 2*2*2*2*2*2"
      ]
    },
    {
      "cell_type": "code",
      "execution_count": null,
      "id": "86e5d020",
      "metadata": {
        "id": "86e5d020",
        "outputId": "27201fd4-b09f-4033-c7bd-53943e64911c"
      },
      "outputs": [
        {
          "data": {
            "text/plain": [
              "1024"
            ]
          },
          "execution_count": 101,
          "metadata": {},
          "output_type": "execute_result"
        }
      ],
      "source": [
        "2 **10"
      ]
    },
    {
      "cell_type": "code",
      "execution_count": null,
      "id": "0ce0e39e",
      "metadata": {
        "id": "0ce0e39e",
        "outputId": "95fdf557-cf47-48bb-988e-fc862f5f57e3"
      },
      "outputs": [
        {
          "name": "stdout",
          "output_type": "stream",
          "text": [
            "20047612231936\n"
          ]
        }
      ],
      "source": [
        "a = 46\n",
        "b =8\n",
        "c = a **b\n",
        "print (c)\n"
      ]
    },
    {
      "cell_type": "code",
      "execution_count": null,
      "id": "392084d7",
      "metadata": {
        "id": "392084d7",
        "outputId": "11cf9125-c914-4016-8bdd-06312a703a02"
      },
      "outputs": [
        {
          "data": {
            "text/plain": [
              "20047612231936"
            ]
          },
          "execution_count": 103,
          "metadata": {},
          "output_type": "execute_result"
        }
      ],
      "source": [
        "46 *46 *46 *46 *46 *46 *46 *46"
      ]
    },
    {
      "cell_type": "code",
      "execution_count": null,
      "id": "8e98529a",
      "metadata": {
        "id": "8e98529a",
        "outputId": "fa52e669-a9e1-4bf9-b8a1-ab5689f41dab"
      },
      "outputs": [
        {
          "name": "stdout",
          "output_type": "stream",
          "text": [
            "70\n"
          ]
        }
      ],
      "source": [
        "a = 50\n",
        "b = 20\n",
        "a= a+b\n",
        "print (a)"
      ]
    },
    {
      "cell_type": "code",
      "execution_count": null,
      "id": "4b660271",
      "metadata": {
        "id": "4b660271",
        "outputId": "ec53df06-fb3a-48d2-9e92-5c8d736624da"
      },
      "outputs": [
        {
          "name": "stdout",
          "output_type": "stream",
          "text": [
            "70\n"
          ]
        }
      ],
      "source": [
        "a = 50\n",
        "b = 20\n",
        "a +=b\n",
        "print (a)"
      ]
    },
    {
      "cell_type": "code",
      "execution_count": null,
      "id": "e341925c",
      "metadata": {
        "id": "e341925c",
        "outputId": "8462d12b-e133-46db-f020-51280ef6a8b2"
      },
      "outputs": [
        {
          "name": "stdout",
          "output_type": "stream",
          "text": [
            "70\n"
          ]
        }
      ],
      "source": [
        "a = 50\n",
        "b = 20\n",
        "b+=a  # b = b+a\n",
        "print (b)"
      ]
    },
    {
      "cell_type": "code",
      "execution_count": null,
      "id": "cf1811e7",
      "metadata": {
        "id": "cf1811e7",
        "outputId": "bacf9abe-138e-43f3-d6e1-03acc21d1044"
      },
      "outputs": [
        {
          "name": "stdout",
          "output_type": "stream",
          "text": [
            "30\n"
          ]
        }
      ],
      "source": [
        "a = 50\n",
        "b = 20\n",
        "a -=b\n",
        "print (a)"
      ]
    },
    {
      "cell_type": "code",
      "execution_count": null,
      "id": "621b3357",
      "metadata": {
        "id": "621b3357",
        "outputId": "acac443a-a957-4580-acbc-7cf1d8e3f374"
      },
      "outputs": [
        {
          "name": "stdout",
          "output_type": "stream",
          "text": [
            "30\n"
          ]
        }
      ],
      "source": [
        "'''\n",
        "a = 50\n",
        "b = 20\n",
        "b+=a  # b = b+a\n",
        "print (b)\n",
        "'''\n",
        "print (a)"
      ]
    },
    {
      "cell_type": "code",
      "execution_count": null,
      "id": "4ce00a74",
      "metadata": {
        "id": "4ce00a74",
        "outputId": "5330e31c-3f58-4719-e15f-58e0192c2617"
      },
      "outputs": [
        {
          "name": "stdout",
          "output_type": "stream",
          "text": [
            "1000\n"
          ]
        }
      ],
      "source": [
        "a = 50\n",
        "b = 20\n",
        "a *=b\n",
        "print (a)"
      ]
    },
    {
      "cell_type": "code",
      "execution_count": null,
      "id": "55206179",
      "metadata": {
        "id": "55206179",
        "outputId": "93c63a2f-b2c6-4224-e5fb-afacf8515086"
      },
      "outputs": [
        {
          "name": "stdout",
          "output_type": "stream",
          "text": [
            "2.5\n"
          ]
        }
      ],
      "source": [
        "a = 50\n",
        "b = 20\n",
        "a /=b\n",
        "print (a)"
      ]
    },
    {
      "cell_type": "code",
      "execution_count": null,
      "id": "7409f7c2",
      "metadata": {
        "id": "7409f7c2",
        "outputId": "5e88d614-d34e-4fea-d954-bc5d53dfa858"
      },
      "outputs": [
        {
          "name": "stdout",
          "output_type": "stream",
          "text": [
            "0.4\n"
          ]
        }
      ],
      "source": [
        "a = 50\n",
        "b = 20\n",
        "b/=a\n",
        "print (b)"
      ]
    },
    {
      "cell_type": "code",
      "execution_count": null,
      "id": "b340528d",
      "metadata": {
        "id": "b340528d",
        "outputId": "55f7e534-b1fe-4216-a5e7-55b7493b78cd"
      },
      "outputs": [
        {
          "name": "stdout",
          "output_type": "stream",
          "text": [
            "10\n"
          ]
        }
      ],
      "source": [
        "a = 50\n",
        "b = 20\n",
        "a %=b\n",
        "print (a)"
      ]
    },
    {
      "cell_type": "code",
      "execution_count": null,
      "id": "0b6c5138",
      "metadata": {
        "id": "0b6c5138",
        "outputId": "a46a482d-3566-4348-da6a-30bf283d5236"
      },
      "outputs": [
        {
          "name": "stdout",
          "output_type": "stream",
          "text": [
            "2\n"
          ]
        }
      ],
      "source": [
        "a = 50\n",
        "b = 20\n",
        "a //=b\n",
        "print (a)"
      ]
    },
    {
      "cell_type": "code",
      "execution_count": null,
      "id": "4944054d",
      "metadata": {
        "id": "4944054d",
        "outputId": "80f34b4c-1417-43d6-9f8d-dff21e93e77e"
      },
      "outputs": [
        {
          "name": "stdout",
          "output_type": "stream",
          "text": [
            "9536743164062500000000000000000000\n"
          ]
        }
      ],
      "source": [
        "a = 50\n",
        "b = 20\n",
        "a **=b\n",
        "print (a)"
      ]
    },
    {
      "cell_type": "code",
      "execution_count": null,
      "id": "485aa32e",
      "metadata": {
        "id": "485aa32e",
        "outputId": "1e86c746-41ff-42f6-c3d4-7d7e316d45c6"
      },
      "outputs": [
        {
          "name": "stdout",
          "output_type": "stream",
          "text": [
            "False\n"
          ]
        }
      ],
      "source": [
        "a = 100\n",
        "b = 200\n",
        "print ( a >b)"
      ]
    },
    {
      "cell_type": "code",
      "execution_count": null,
      "id": "0befc397",
      "metadata": {
        "id": "0befc397",
        "outputId": "977a0ecd-7881-46af-b3e8-22777cadc5c6"
      },
      "outputs": [
        {
          "name": "stdout",
          "output_type": "stream",
          "text": [
            "True\n"
          ]
        }
      ],
      "source": [
        "a = 100\n",
        "b = 200\n",
        "print ( a <b)"
      ]
    },
    {
      "cell_type": "code",
      "execution_count": null,
      "id": "41c6ba00",
      "metadata": {
        "id": "41c6ba00",
        "outputId": "9af97f98-1818-43d4-c5bd-1ff35da057db"
      },
      "outputs": [
        {
          "name": "stdout",
          "output_type": "stream",
          "text": [
            "False\n"
          ]
        }
      ],
      "source": [
        "a = 200\n",
        "b = 200\n",
        "print ( a <b)"
      ]
    },
    {
      "cell_type": "code",
      "execution_count": null,
      "id": "3512d55e",
      "metadata": {
        "id": "3512d55e",
        "outputId": "117f6a6d-42ee-4ad6-dd41-0b2f64543b0a"
      },
      "outputs": [
        {
          "name": "stdout",
          "output_type": "stream",
          "text": [
            "True\n"
          ]
        }
      ],
      "source": [
        "a = 200\n",
        "b = 200\n",
        "print ( a <=b)"
      ]
    },
    {
      "cell_type": "code",
      "execution_count": null,
      "id": "dda965ce",
      "metadata": {
        "id": "dda965ce",
        "outputId": "3f976c8e-ce78-43df-fe77-acecd9645419"
      },
      "outputs": [
        {
          "name": "stdout",
          "output_type": "stream",
          "text": [
            "True\n"
          ]
        }
      ],
      "source": [
        "a = 200\n",
        "b = 200\n",
        "print ( a ==b)"
      ]
    },
    {
      "cell_type": "code",
      "execution_count": null,
      "id": "e7a3080a",
      "metadata": {
        "id": "e7a3080a",
        "outputId": "0319e827-36f6-411d-945e-52799adb1e69"
      },
      "outputs": [
        {
          "name": "stdout",
          "output_type": "stream",
          "text": [
            "False\n"
          ]
        }
      ],
      "source": [
        "a = 200\n",
        "b = 200\n",
        "print ( a !=b)"
      ]
    },
    {
      "cell_type": "code",
      "execution_count": null,
      "id": "00018b67",
      "metadata": {
        "id": "00018b67",
        "outputId": "8fb40d16-05b8-4c2b-bc13-07ad572cf3be"
      },
      "outputs": [
        {
          "name": "stdout",
          "output_type": "stream",
          "text": [
            "Input the radius of the circle : 5\n",
            "The area of the circle with radius 5.0 is: 78.53981633974483\n"
          ]
        }
      ],
      "source": [
        "from math import pi\n",
        "r = float(input (\"Input the radius of the circle : \"))\n",
        "print (\"The area of the circle with radius \" + str(r) + \" is: \" + str(pi * r**2))\n"
      ]
    },
    {
      "cell_type": "code",
      "execution_count": null,
      "id": "4a765fd4",
      "metadata": {
        "id": "4a765fd4"
      },
      "outputs": [],
      "source": [
        "3.1415"
      ]
    },
    {
      "cell_type": "code",
      "execution_count": null,
      "id": "2166c981",
      "metadata": {
        "id": "2166c981",
        "outputId": "4ed68373-0f55-4996-8f94-f808823fabee"
      },
      "outputs": [
        {
          "name": "stdout",
          "output_type": "stream",
          "text": [
            "Python version\n",
            "3.9.15 (main, Nov 24 2022, 14:39:17) [MSC v.1916 64 bit (AMD64)]\n",
            "Version info.\n",
            "sys.version_info(major=3, minor=9, micro=15, releaselevel='final', serial=0)\n"
          ]
        }
      ],
      "source": [
        "import sys\n",
        "print(\"Python version\")\n",
        "print (sys.version)\n",
        "print(\"Version info.\")\n",
        "print (sys.version_info)\n"
      ]
    },
    {
      "cell_type": "code",
      "execution_count": null,
      "id": "00c511ee",
      "metadata": {
        "id": "00c511ee",
        "outputId": "35d153b7-d18f-4bba-a7af-1074868c351e"
      },
      "outputs": [
        {
          "data": {
            "text/plain": [
              "['__breakpointhook__',\n",
              " '__displayhook__',\n",
              " '__doc__',\n",
              " '__excepthook__',\n",
              " '__interactivehook__',\n",
              " '__loader__',\n",
              " '__name__',\n",
              " '__package__',\n",
              " '__spec__',\n",
              " '__stderr__',\n",
              " '__stdin__',\n",
              " '__stdout__',\n",
              " '__unraisablehook__',\n",
              " '_base_executable',\n",
              " '_clear_type_cache',\n",
              " '_current_frames',\n",
              " '_debugmallocstats',\n",
              " '_enablelegacywindowsfsencoding',\n",
              " '_framework',\n",
              " '_getframe',\n",
              " '_git',\n",
              " '_home',\n",
              " '_xoptions',\n",
              " 'addaudithook',\n",
              " 'api_version',\n",
              " 'argv',\n",
              " 'audit',\n",
              " 'base_exec_prefix',\n",
              " 'base_prefix',\n",
              " 'breakpointhook',\n",
              " 'builtin_module_names',\n",
              " 'byteorder',\n",
              " 'call_tracing',\n",
              " 'copyright',\n",
              " 'displayhook',\n",
              " 'dllhandle',\n",
              " 'dont_write_bytecode',\n",
              " 'exc_info',\n",
              " 'excepthook',\n",
              " 'exec_prefix',\n",
              " 'executable',\n",
              " 'exit',\n",
              " 'flags',\n",
              " 'float_info',\n",
              " 'float_repr_style',\n",
              " 'get_asyncgen_hooks',\n",
              " 'get_coroutine_origin_tracking_depth',\n",
              " 'get_int_max_str_digits',\n",
              " 'getallocatedblocks',\n",
              " 'getdefaultencoding',\n",
              " 'getfilesystemencodeerrors',\n",
              " 'getfilesystemencoding',\n",
              " 'getprofile',\n",
              " 'getrecursionlimit',\n",
              " 'getrefcount',\n",
              " 'getsizeof',\n",
              " 'getswitchinterval',\n",
              " 'gettrace',\n",
              " 'getwindowsversion',\n",
              " 'hash_info',\n",
              " 'hexversion',\n",
              " 'implementation',\n",
              " 'int_info',\n",
              " 'intern',\n",
              " 'is_finalizing',\n",
              " 'last_traceback',\n",
              " 'last_type',\n",
              " 'last_value',\n",
              " 'maxsize',\n",
              " 'maxunicode',\n",
              " 'meta_path',\n",
              " 'modules',\n",
              " 'path',\n",
              " 'path_hooks',\n",
              " 'path_importer_cache',\n",
              " 'platform',\n",
              " 'platlibdir',\n",
              " 'prefix',\n",
              " 'ps1',\n",
              " 'ps2',\n",
              " 'ps3',\n",
              " 'pycache_prefix',\n",
              " 'set_asyncgen_hooks',\n",
              " 'set_coroutine_origin_tracking_depth',\n",
              " 'set_int_max_str_digits',\n",
              " 'setprofile',\n",
              " 'setrecursionlimit',\n",
              " 'setswitchinterval',\n",
              " 'settrace',\n",
              " 'stderr',\n",
              " 'stdin',\n",
              " 'stdout',\n",
              " 'thread_info',\n",
              " 'unraisablehook',\n",
              " 'version',\n",
              " 'version_info',\n",
              " 'warnoptions',\n",
              " 'winver']"
            ]
          },
          "execution_count": 125,
          "metadata": {},
          "output_type": "execute_result"
        }
      ],
      "source": [
        "dir (sys)"
      ]
    },
    {
      "cell_type": "code",
      "execution_count": null,
      "id": "07a5a7dd",
      "metadata": {
        "id": "07a5a7dd"
      },
      "outputs": [],
      "source": []
    },
    {
      "cell_type": "code",
      "execution_count": null,
      "id": "68bf66d4",
      "metadata": {
        "id": "68bf66d4"
      },
      "outputs": [],
      "source": []
    }
  ],
  "metadata": {
    "kernelspec": {
      "display_name": "Python 3 (ipykernel)",
      "language": "python",
      "name": "python3"
    },
    "language_info": {
      "codemirror_mode": {
        "name": "ipython",
        "version": 3
      },
      "file_extension": ".py",
      "mimetype": "text/x-python",
      "name": "python",
      "nbconvert_exporter": "python",
      "pygments_lexer": "ipython3",
      "version": "3.9.15"
    },
    "colab": {
      "provenance": [],
      "include_colab_link": true
    }
  },
  "nbformat": 4,
  "nbformat_minor": 5
}
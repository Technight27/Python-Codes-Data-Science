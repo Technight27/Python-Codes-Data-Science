{
  "cells": [
    {
      "cell_type": "markdown",
      "metadata": {
        "id": "view-in-github",
        "colab_type": "text"
      },
      "source": [
        "<a href=\"https://colab.research.google.com/github/Technight27/Python-Codes/blob/main/Aug_23_DS_Day_5_Numpy.ipynb\" target=\"_parent\"><img src=\"https://colab.research.google.com/assets/colab-badge.svg\" alt=\"Open In Colab\"/></a>"
      ]
    },
    {
      "cell_type": "code",
      "execution_count": null,
      "id": "9af3d52d",
      "metadata": {
        "id": "9af3d52d"
      },
      "outputs": [],
      "source": [
        "import numpy as np"
      ]
    },
    {
      "cell_type": "code",
      "execution_count": null,
      "id": "a1eb45ce",
      "metadata": {
        "id": "a1eb45ce",
        "outputId": "55299763-72a2-4035-bb9a-c562720ab962"
      },
      "outputs": [
        {
          "data": {
            "text/plain": [
              "array([], dtype=float64)"
            ]
          },
          "execution_count": 3,
          "metadata": {},
          "output_type": "execute_result"
        }
      ],
      "source": [
        "np.array ([])"
      ]
    },
    {
      "cell_type": "code",
      "execution_count": null,
      "id": "33a91921",
      "metadata": {
        "id": "33a91921",
        "outputId": "4450d98a-8322-4c9a-919a-56e9212d78a2"
      },
      "outputs": [
        {
          "data": {
            "text/plain": [
              "array([10, 20, 30])"
            ]
          },
          "execution_count": 4,
          "metadata": {},
          "output_type": "execute_result"
        }
      ],
      "source": [
        "np.array ([10,20,30])"
      ]
    },
    {
      "cell_type": "code",
      "execution_count": null,
      "id": "da2c6a9d",
      "metadata": {
        "id": "da2c6a9d",
        "outputId": "89524902-9040-477a-c06c-c2ac86e8b481"
      },
      "outputs": [
        {
          "data": {
            "text/plain": [
              "[10, 20, 30, 'Sat', True]"
            ]
          },
          "execution_count": 7,
          "metadata": {},
          "output_type": "execute_result"
        }
      ],
      "source": [
        "l1 =  [ 10,20,30,'Sat', True]\n",
        "l1"
      ]
    },
    {
      "cell_type": "code",
      "execution_count": null,
      "id": "c649b241",
      "metadata": {
        "id": "c649b241",
        "outputId": "c5d05b6d-6173-4036-9d1d-b9b59e1e8e89"
      },
      "outputs": [
        {
          "data": {
            "text/plain": [
              "array(['10', '20', '30', 'Sat', 'True'], dtype='<U11')"
            ]
          },
          "execution_count": 8,
          "metadata": {},
          "output_type": "execute_result"
        }
      ],
      "source": [
        "np.array ([10,20,30,'Sat', True])"
      ]
    },
    {
      "cell_type": "code",
      "execution_count": null,
      "id": "716b8924",
      "metadata": {
        "id": "716b8924",
        "outputId": "6c618b8a-2a34-49a7-be0e-6e60faad1665"
      },
      "outputs": [
        {
          "data": {
            "text/plain": [
              "[10, 20, 30, True]"
            ]
          },
          "execution_count": 9,
          "metadata": {},
          "output_type": "execute_result"
        }
      ],
      "source": [
        "l1 =  [ 10,20,30, True]\n",
        "l1"
      ]
    },
    {
      "cell_type": "code",
      "execution_count": null,
      "id": "7a646ad4",
      "metadata": {
        "id": "7a646ad4",
        "outputId": "efed4272-0e03-4e94-f760-9607367597e9"
      },
      "outputs": [
        {
          "data": {
            "text/plain": [
              "array([10, 20, 30,  1])"
            ]
          },
          "execution_count": 10,
          "metadata": {},
          "output_type": "execute_result"
        }
      ],
      "source": [
        "np.array ([10,20,30,True])"
      ]
    },
    {
      "cell_type": "code",
      "execution_count": null,
      "id": "8bdb9c3a",
      "metadata": {
        "id": "8bdb9c3a",
        "outputId": "586f43f6-a660-407a-c29e-c62137a76571"
      },
      "outputs": [
        {
          "data": {
            "text/plain": [
              "array([10, 20, 30])"
            ]
          },
          "execution_count": 11,
          "metadata": {},
          "output_type": "execute_result"
        }
      ],
      "source": [
        "np.array ([10,20,30])"
      ]
    },
    {
      "cell_type": "code",
      "execution_count": null,
      "id": "8f707af5",
      "metadata": {
        "id": "8f707af5",
        "outputId": "fd46c02e-ed8f-4a0e-866d-108097bbbd2f"
      },
      "outputs": [
        {
          "data": {
            "text/plain": [
              "array([[10, 20, 30],\n",
              "       [50, 51, 52]])"
            ]
          },
          "execution_count": 13,
          "metadata": {},
          "output_type": "execute_result"
        }
      ],
      "source": [
        "ar1 = np.array ([[10,20,30],[50,51,52]])\n",
        "ar1"
      ]
    },
    {
      "cell_type": "code",
      "execution_count": null,
      "id": "dd09cb26",
      "metadata": {
        "id": "dd09cb26",
        "outputId": "8b2ba916-af91-47ec-cd74-6702d97e2d23"
      },
      "outputs": [
        {
          "data": {
            "text/plain": [
              "2"
            ]
          },
          "execution_count": 15,
          "metadata": {},
          "output_type": "execute_result"
        }
      ],
      "source": [
        "ar1.ndim"
      ]
    },
    {
      "cell_type": "code",
      "execution_count": null,
      "id": "833a29c6",
      "metadata": {
        "id": "833a29c6",
        "outputId": "2b8e629e-902a-47c6-8a2b-75b3ef33a1df"
      },
      "outputs": [
        {
          "data": {
            "text/plain": [
              "(2, 3)"
            ]
          },
          "execution_count": 16,
          "metadata": {},
          "output_type": "execute_result"
        }
      ],
      "source": [
        "ar1.shape"
      ]
    },
    {
      "cell_type": "code",
      "execution_count": null,
      "id": "ebfeca8d",
      "metadata": {
        "id": "ebfeca8d",
        "outputId": "7ad762f3-5aff-4284-a2bc-05a005889137"
      },
      "outputs": [
        {
          "data": {
            "text/plain": [
              "[[10, 20, 30], [50, 60, 70]]"
            ]
          },
          "execution_count": 17,
          "metadata": {},
          "output_type": "execute_result"
        }
      ],
      "source": [
        "list1 = [[10,20,30],[50,60,70]]\n",
        "list1"
      ]
    },
    {
      "cell_type": "code",
      "execution_count": null,
      "id": "addc2a7b",
      "metadata": {
        "id": "addc2a7b",
        "outputId": "b9cc4e76-3948-4e1a-a7e1-c8a3a617a200"
      },
      "outputs": [
        {
          "data": {
            "text/plain": [
              "array([[10, 20, 30],\n",
              "       [50, 60, 70]])"
            ]
          },
          "execution_count": 18,
          "metadata": {},
          "output_type": "execute_result"
        }
      ],
      "source": [
        "np.array (list1 )"
      ]
    },
    {
      "cell_type": "code",
      "execution_count": null,
      "id": "86fafc9b",
      "metadata": {
        "id": "86fafc9b",
        "outputId": "28379e69-1a86-4efc-e699-bce1e513f081"
      },
      "outputs": [
        {
          "data": {
            "text/plain": [
              "array([[10, 20, 30],\n",
              "       [50, 51, 52]])"
            ]
          },
          "execution_count": 19,
          "metadata": {},
          "output_type": "execute_result"
        }
      ],
      "source": [
        "ar1 = np.array ([[10,20,30],[50,51,52]])\n",
        "ar1"
      ]
    },
    {
      "cell_type": "code",
      "execution_count": null,
      "id": "50e6d787",
      "metadata": {
        "id": "50e6d787",
        "outputId": "84ccf158-7d27-4ee6-8077-a085b3ad2eeb"
      },
      "outputs": [
        {
          "name": "stderr",
          "output_type": "stream",
          "text": [
            "C:\\Users\\noble\\AppData\\Local\\Temp\\ipykernel_21596\\1048052131.py:1: VisibleDeprecationWarning: Creating an ndarray from ragged nested sequences (which is a list-or-tuple of lists-or-tuples-or ndarrays with different lengths or shapes) is deprecated. If you meant to do this, you must specify 'dtype=object' when creating the ndarray.\n",
            "  ar1 = np.array ([[10,20,30],[50,52]])\n"
          ]
        },
        {
          "data": {
            "text/plain": [
              "array([list([10, 20, 30]), list([50, 52])], dtype=object)"
            ]
          },
          "execution_count": 20,
          "metadata": {},
          "output_type": "execute_result"
        }
      ],
      "source": [
        "ar1 = np.array ([[10,20,30],[50,52]])\n",
        "ar1"
      ]
    },
    {
      "cell_type": "code",
      "execution_count": null,
      "id": "c3de2aa0",
      "metadata": {
        "id": "c3de2aa0",
        "outputId": "c6d54bd3-27ed-4730-e53b-2993074faf09"
      },
      "outputs": [
        {
          "data": {
            "text/plain": [
              "array([[10, 20, 30],\n",
              "       [50,  0, 52]])"
            ]
          },
          "execution_count": 21,
          "metadata": {},
          "output_type": "execute_result"
        }
      ],
      "source": [
        "ar1 = np.array ([[10,20,30],[50,0,52]])\n",
        "ar1"
      ]
    },
    {
      "cell_type": "code",
      "execution_count": null,
      "id": "3fc77cc0",
      "metadata": {
        "id": "3fc77cc0",
        "outputId": "31bdfe14-a74b-4744-ebf4-0962f212a9b9"
      },
      "outputs": [
        {
          "data": {
            "text/plain": [
              "array([[10., 20., 30.],\n",
              "       [50., nan, 52.]])"
            ]
          },
          "execution_count": 22,
          "metadata": {},
          "output_type": "execute_result"
        }
      ],
      "source": [
        "ar1 = np.array ([[10,20,30],[50,np.nan,52]])\n",
        "ar1"
      ]
    },
    {
      "cell_type": "code",
      "execution_count": null,
      "id": "1b1c5983",
      "metadata": {
        "id": "1b1c5983",
        "outputId": "caac6cca-d9c8-4ab2-bfb5-62fe63004c76"
      },
      "outputs": [
        {
          "data": {
            "text/plain": [
              "array([10, 20, 30, 40, 50, 60, 45])"
            ]
          },
          "execution_count": 24,
          "metadata": {},
          "output_type": "execute_result"
        }
      ],
      "source": [
        "a1 = np.array ([10,20,30,40,50,60,45])\n",
        "a1"
      ]
    },
    {
      "cell_type": "code",
      "execution_count": null,
      "id": "0e70cdd1",
      "metadata": {
        "id": "0e70cdd1",
        "outputId": "7cbf9e02-5f62-415f-e1dd-cc34b3931f0b"
      },
      "outputs": [
        {
          "data": {
            "text/plain": [
              "array([30, 40, 50])"
            ]
          },
          "execution_count": 25,
          "metadata": {},
          "output_type": "execute_result"
        }
      ],
      "source": [
        "a2 = a1[2:5]\n",
        "a2"
      ]
    },
    {
      "cell_type": "code",
      "execution_count": null,
      "id": "dd33db47",
      "metadata": {
        "id": "dd33db47",
        "outputId": "2ac64f03-3283-4449-c898-f92a5172b856"
      },
      "outputs": [
        {
          "data": {
            "text/plain": [
              "array([ 30, 444,  50])"
            ]
          },
          "execution_count": 28,
          "metadata": {},
          "output_type": "execute_result"
        }
      ],
      "source": [
        "a2[1] = 444\n",
        "a2"
      ]
    },
    {
      "cell_type": "code",
      "execution_count": null,
      "id": "8f363943",
      "metadata": {
        "id": "8f363943",
        "outputId": "296a9680-37d2-4f25-9d34-fb7cd81d3162"
      },
      "outputs": [
        {
          "data": {
            "text/plain": [
              "array([ 10,  20,  30, 444,  50,  60,  45])"
            ]
          },
          "execution_count": 29,
          "metadata": {},
          "output_type": "execute_result"
        }
      ],
      "source": [
        "a1"
      ]
    },
    {
      "cell_type": "code",
      "execution_count": null,
      "id": "4c383af0",
      "metadata": {
        "id": "4c383af0"
      },
      "outputs": [],
      "source": []
    },
    {
      "cell_type": "code",
      "execution_count": null,
      "id": "acc3c4f4",
      "metadata": {
        "id": "acc3c4f4"
      },
      "outputs": [],
      "source": []
    },
    {
      "cell_type": "code",
      "execution_count": null,
      "id": "acc2ef07",
      "metadata": {
        "id": "acc2ef07",
        "outputId": "a8b3e505-afe7-4c23-a7cf-cfb94a294b89"
      },
      "outputs": [
        {
          "data": {
            "text/plain": [
              "array([10, 20, 30, 40, 50, 60, 45])"
            ]
          },
          "execution_count": 30,
          "metadata": {},
          "output_type": "execute_result"
        }
      ],
      "source": [
        "a1 = np.array ([10,20,30,40,50,60,45])\n",
        "a1"
      ]
    },
    {
      "cell_type": "code",
      "execution_count": null,
      "id": "fa70efbf",
      "metadata": {
        "id": "fa70efbf",
        "outputId": "821315f6-b719-485d-8884-f6bd817b9e86"
      },
      "outputs": [
        {
          "data": {
            "text/plain": [
              "array([30, 40, 50])"
            ]
          },
          "execution_count": 31,
          "metadata": {},
          "output_type": "execute_result"
        }
      ],
      "source": [
        "a2 = a1[2:5].copy()\n",
        "a2"
      ]
    },
    {
      "cell_type": "code",
      "execution_count": null,
      "id": "17ba0d38",
      "metadata": {
        "id": "17ba0d38",
        "outputId": "61b775a4-3a55-49b0-a5db-0dbf0acd3613"
      },
      "outputs": [
        {
          "data": {
            "text/plain": [
              "array([ 30, 444,  50])"
            ]
          },
          "execution_count": 32,
          "metadata": {},
          "output_type": "execute_result"
        }
      ],
      "source": [
        "a2[1] = 444\n",
        "a2"
      ]
    },
    {
      "cell_type": "code",
      "execution_count": null,
      "id": "97be6016",
      "metadata": {
        "id": "97be6016",
        "outputId": "b7cd300f-0d88-4be6-dada-f29ae604a813"
      },
      "outputs": [
        {
          "data": {
            "text/plain": [
              "array([10, 20, 30, 40, 50, 60, 45])"
            ]
          },
          "execution_count": 33,
          "metadata": {},
          "output_type": "execute_result"
        }
      ],
      "source": [
        "a1"
      ]
    },
    {
      "cell_type": "code",
      "execution_count": null,
      "id": "cba825c2",
      "metadata": {
        "id": "cba825c2",
        "outputId": "59250389-d0d3-46ce-855a-c7df12623e44"
      },
      "outputs": [
        {
          "data": {
            "text/plain": [
              "array([0, 1, 2, 3, 4, 5, 6, 7, 8])"
            ]
          },
          "execution_count": 34,
          "metadata": {},
          "output_type": "execute_result"
        }
      ],
      "source": [
        "a = np.arange(9)\n",
        "a"
      ]
    },
    {
      "cell_type": "code",
      "execution_count": null,
      "id": "1d0bd65a",
      "metadata": {
        "id": "1d0bd65a",
        "outputId": "a8c9c731-b898-4e76-a6c4-fbf3716c8289"
      },
      "outputs": [
        {
          "data": {
            "text/plain": [
              "array([10, 11, 12, 13, 14, 15, 16, 17, 18, 19])"
            ]
          },
          "execution_count": 35,
          "metadata": {},
          "output_type": "execute_result"
        }
      ],
      "source": [
        "a = np.arange(10,20)\n",
        "a"
      ]
    },
    {
      "cell_type": "code",
      "execution_count": null,
      "id": "70868f13",
      "metadata": {
        "id": "70868f13",
        "outputId": "9644074f-2a44-4141-c064-7b2f5daaf0b9"
      },
      "outputs": [
        {
          "data": {
            "text/plain": [
              "array([10, 12, 14, 16, 18])"
            ]
          },
          "execution_count": 36,
          "metadata": {},
          "output_type": "execute_result"
        }
      ],
      "source": [
        "a = np.arange(10,20)\n",
        "a"
      ]
    },
    {
      "cell_type": "code",
      "execution_count": null,
      "id": "de48e515",
      "metadata": {
        "id": "de48e515"
      },
      "outputs": [],
      "source": []
    },
    {
      "cell_type": "code",
      "execution_count": null,
      "id": "d04e7a14",
      "metadata": {
        "id": "d04e7a14",
        "outputId": "620314af-7e25-41e4-8944-a7be9db4ab85"
      },
      "outputs": [
        {
          "data": {
            "text/plain": [
              "array([10, 20, 30, 40, 50, 60, 45])"
            ]
          },
          "execution_count": 24,
          "metadata": {},
          "output_type": "execute_result"
        }
      ],
      "source": [
        "a1 = np.array ([10,20,30,40,50,60,45])\n",
        "a1"
      ]
    },
    {
      "cell_type": "code",
      "execution_count": null,
      "id": "4ca9bfe4",
      "metadata": {
        "id": "4ca9bfe4",
        "outputId": "a4bb5866-7166-48b2-fc3a-62dfda39484f"
      },
      "outputs": [
        {
          "data": {
            "text/plain": [
              "array([30, 40, 50])"
            ]
          },
          "execution_count": 25,
          "metadata": {},
          "output_type": "execute_result"
        }
      ],
      "source": [
        "a2 = a1[2:5]\n",
        "a2"
      ]
    },
    {
      "cell_type": "code",
      "execution_count": null,
      "id": "41200645",
      "metadata": {
        "id": "41200645",
        "outputId": "d3b259d7-ad05-419b-c3fc-2e4a492737a3"
      },
      "outputs": [
        {
          "data": {
            "text/plain": [
              "array([ 30, 444,  50])"
            ]
          },
          "execution_count": 28,
          "metadata": {},
          "output_type": "execute_result"
        }
      ],
      "source": [
        "a2[1] = 444\n",
        "a2"
      ]
    },
    {
      "cell_type": "code",
      "execution_count": null,
      "id": "3537fbe0",
      "metadata": {
        "id": "3537fbe0",
        "outputId": "a5b46437-f27d-4eea-c8ea-27ed524a20c5"
      },
      "outputs": [
        {
          "data": {
            "text/plain": [
              "array([ 10,  20,  30, 444,  50,  60,  45])"
            ]
          },
          "execution_count": 29,
          "metadata": {},
          "output_type": "execute_result"
        }
      ],
      "source": [
        "a1"
      ]
    },
    {
      "cell_type": "code",
      "execution_count": null,
      "id": "4d860345",
      "metadata": {
        "id": "4d860345"
      },
      "outputs": [],
      "source": []
    },
    {
      "cell_type": "code",
      "execution_count": null,
      "id": "997b9dbf",
      "metadata": {
        "id": "997b9dbf",
        "outputId": "af0559b4-1b95-4580-c196-723f4322b852"
      },
      "outputs": [
        {
          "data": {
            "text/plain": [
              "array([10, 20, 30, 40, 50, 60, 45])"
            ]
          },
          "execution_count": 24,
          "metadata": {},
          "output_type": "execute_result"
        }
      ],
      "source": [
        "a1 = np.array ([10,20,30,40,50,60,45])\n",
        "a1"
      ]
    },
    {
      "cell_type": "code",
      "execution_count": null,
      "id": "598fa216",
      "metadata": {
        "id": "598fa216",
        "outputId": "8dd19949-4d9f-4c17-acdc-5ffbbd9c56ee"
      },
      "outputs": [
        {
          "data": {
            "text/plain": [
              "array([30, 40, 50])"
            ]
          },
          "execution_count": 25,
          "metadata": {},
          "output_type": "execute_result"
        }
      ],
      "source": [
        "a2 = a1[2:5]\n",
        "a2"
      ]
    },
    {
      "cell_type": "code",
      "execution_count": null,
      "id": "d317d259",
      "metadata": {
        "id": "d317d259",
        "outputId": "56b6823f-c2f8-4268-a508-b318f2dc5c10"
      },
      "outputs": [
        {
          "data": {
            "text/plain": [
              "array([ 30, 444,  50])"
            ]
          },
          "execution_count": 28,
          "metadata": {},
          "output_type": "execute_result"
        }
      ],
      "source": [
        "a2[1] = 444\n",
        "a2"
      ]
    },
    {
      "cell_type": "code",
      "execution_count": null,
      "id": "d36f4e09",
      "metadata": {
        "id": "d36f4e09",
        "outputId": "0ac51bea-819a-4ed1-ae26-490b55e048f5"
      },
      "outputs": [
        {
          "data": {
            "text/plain": [
              "array([ 10,  20,  30, 444,  50,  60,  45])"
            ]
          },
          "execution_count": 29,
          "metadata": {},
          "output_type": "execute_result"
        }
      ],
      "source": [
        "a1"
      ]
    },
    {
      "cell_type": "code",
      "execution_count": null,
      "id": "986e1596",
      "metadata": {
        "id": "986e1596",
        "outputId": "78a4a46e-e3d6-49c6-c9d6-e330ceaa090b"
      },
      "outputs": [
        {
          "data": {
            "text/plain": [
              "array([0, 1, 2, 3, 4, 5, 6, 7, 8])"
            ]
          },
          "execution_count": 38,
          "metadata": {},
          "output_type": "execute_result"
        }
      ],
      "source": [
        "a = np.arange (9)\n",
        "a"
      ]
    },
    {
      "cell_type": "code",
      "execution_count": null,
      "id": "42f7e2bf",
      "metadata": {
        "id": "42f7e2bf",
        "outputId": "32dd0b38-3a47-48a2-dd6a-f9ea9c67781a"
      },
      "outputs": [
        {
          "data": {
            "text/plain": [
              "array([10, 11, 12, 13, 14, 15, 16, 17, 18, 19])"
            ]
          },
          "execution_count": 39,
          "metadata": {},
          "output_type": "execute_result"
        }
      ],
      "source": [
        "a = np.arange (10,20)\n",
        "a"
      ]
    },
    {
      "cell_type": "code",
      "execution_count": null,
      "id": "eb6e306c",
      "metadata": {
        "id": "eb6e306c",
        "outputId": "e7ede8cf-c8a4-4027-a6df-afb59100ee7d"
      },
      "outputs": [
        {
          "data": {
            "text/plain": [
              "array([10, 20, 30, 40, 50, 60, 70, 80, 90])"
            ]
          },
          "execution_count": 40,
          "metadata": {},
          "output_type": "execute_result"
        }
      ],
      "source": [
        "a = np.arange (10,100,10)\n",
        "a"
      ]
    },
    {
      "cell_type": "code",
      "execution_count": null,
      "id": "34ddba5e",
      "metadata": {
        "id": "34ddba5e",
        "outputId": "607b8582-d374-4253-95e5-40a4e1b88f0b"
      },
      "outputs": [
        {
          "data": {
            "text/plain": [
              "array([100,  90,  80,  70,  60,  50,  40,  30,  20])"
            ]
          },
          "execution_count": 41,
          "metadata": {},
          "output_type": "execute_result"
        }
      ],
      "source": [
        "a = np.arange (100,10, -10)\n",
        "a"
      ]
    },
    {
      "cell_type": "code",
      "execution_count": null,
      "id": "95c1681b",
      "metadata": {
        "id": "95c1681b",
        "outputId": "0db62599-a3d2-4fcd-c346-f6e688a46725"
      },
      "outputs": [
        {
          "data": {
            "text/plain": [
              "array([0, 1, 2, 3, 4, 5, 6, 7, 8])"
            ]
          },
          "execution_count": 43,
          "metadata": {},
          "output_type": "execute_result"
        }
      ],
      "source": [
        "\n",
        "import numpy as np\n",
        "a = np.arange(9)\n",
        "a\n"
      ]
    },
    {
      "cell_type": "code",
      "execution_count": null,
      "id": "ced62d50",
      "metadata": {
        "id": "ced62d50",
        "outputId": "c622e96b-33c9-40a5-92db-fb6fa29def1f"
      },
      "outputs": [
        {
          "data": {
            "text/plain": [
              "array([[0, 1, 2],\n",
              "       [3, 4, 5],\n",
              "       [6, 7, 8]])"
            ]
          },
          "execution_count": 44,
          "metadata": {},
          "output_type": "execute_result"
        }
      ],
      "source": [
        "a.reshape (3,3)"
      ]
    },
    {
      "cell_type": "code",
      "execution_count": null,
      "id": "2fe7b5b8",
      "metadata": {
        "id": "2fe7b5b8",
        "outputId": "b86e368c-0bfd-4dcd-cf4d-b2e525e60c25"
      },
      "outputs": [
        {
          "ename": "ValueError",
          "evalue": "cannot reshape array of size 9 into shape (4,2)",
          "output_type": "error",
          "traceback": [
            "\u001b[1;31m---------------------------------------------------------------------------\u001b[0m",
            "\u001b[1;31mValueError\u001b[0m                                Traceback (most recent call last)",
            "Cell \u001b[1;32mIn [45], line 1\u001b[0m\n\u001b[1;32m----> 1\u001b[0m \u001b[43ma\u001b[49m\u001b[38;5;241;43m.\u001b[39;49m\u001b[43mreshape\u001b[49m\u001b[43m \u001b[49m\u001b[43m(\u001b[49m\u001b[38;5;241;43m4\u001b[39;49m\u001b[43m,\u001b[49m\u001b[38;5;241;43m2\u001b[39;49m\u001b[43m)\u001b[49m\n",
            "\u001b[1;31mValueError\u001b[0m: cannot reshape array of size 9 into shape (4,2)"
          ]
        }
      ],
      "source": [
        "a.reshape (4,2)"
      ]
    },
    {
      "cell_type": "code",
      "execution_count": null,
      "id": "b52c597e",
      "metadata": {
        "id": "b52c597e",
        "outputId": "ca5aa798-196c-4e10-c2bc-f6672f9df477"
      },
      "outputs": [
        {
          "data": {
            "text/plain": [
              "array([ 0,  1,  2,  3,  4,  5,  6,  7,  8,  9, 10, 11, 12, 13, 14, 15, 16,\n",
              "       17, 18, 19, 20, 21, 22, 23, 24, 25, 26, 27, 28, 29])"
            ]
          },
          "execution_count": 46,
          "metadata": {},
          "output_type": "execute_result"
        }
      ],
      "source": [
        "a = np.arange (30)\n",
        "a"
      ]
    },
    {
      "cell_type": "code",
      "execution_count": null,
      "id": "21d1cf24",
      "metadata": {
        "id": "21d1cf24",
        "outputId": "8032aa53-babc-4c0c-df13-77cb6f6ba5a3"
      },
      "outputs": [
        {
          "data": {
            "text/plain": [
              "array([[ 0,  1,  2,  3,  4],\n",
              "       [ 5,  6,  7,  8,  9],\n",
              "       [10, 11, 12, 13, 14],\n",
              "       [15, 16, 17, 18, 19],\n",
              "       [20, 21, 22, 23, 24],\n",
              "       [25, 26, 27, 28, 29]])"
            ]
          },
          "execution_count": 47,
          "metadata": {},
          "output_type": "execute_result"
        }
      ],
      "source": [
        "a.reshape (6,5)"
      ]
    },
    {
      "cell_type": "code",
      "execution_count": null,
      "id": "6ac3a24e",
      "metadata": {
        "id": "6ac3a24e",
        "outputId": "50a9eaf0-72ca-459f-a80b-db811530f6e6"
      },
      "outputs": [
        {
          "data": {
            "text/plain": [
              "array([[ 0,  1,  2,  3,  4,  5,  6,  7,  8,  9],\n",
              "       [10, 11, 12, 13, 14, 15, 16, 17, 18, 19],\n",
              "       [20, 21, 22, 23, 24, 25, 26, 27, 28, 29]])"
            ]
          },
          "execution_count": 49,
          "metadata": {},
          "output_type": "execute_result"
        }
      ],
      "source": [
        "a.reshape (3,10)"
      ]
    },
    {
      "cell_type": "code",
      "execution_count": null,
      "id": "7784d784",
      "metadata": {
        "id": "7784d784",
        "outputId": "294f03fa-e590-46cb-ebcd-61b290bb6602"
      },
      "outputs": [
        {
          "data": {
            "text/plain": [
              "array([[ 0,  1,  2,  3,  4,  5,  6,  7,  8,  9, 10, 11, 12, 13, 14],\n",
              "       [15, 16, 17, 18, 19, 20, 21, 22, 23, 24, 25, 26, 27, 28, 29]])"
            ]
          },
          "execution_count": 50,
          "metadata": {},
          "output_type": "execute_result"
        }
      ],
      "source": [
        "a.reshape (2,15)"
      ]
    },
    {
      "cell_type": "code",
      "execution_count": null,
      "id": "4b9db825",
      "metadata": {
        "id": "4b9db825",
        "outputId": "d550faca-a246-4905-ddcc-eb23cc36e705"
      },
      "outputs": [
        {
          "data": {
            "text/plain": [
              "array([[[ 0,  1,  2,  3,  4],\n",
              "        [ 5,  6,  7,  8,  9],\n",
              "        [10, 11, 12, 13, 14]],\n",
              "\n",
              "       [[15, 16, 17, 18, 19],\n",
              "        [20, 21, 22, 23, 24],\n",
              "        [25, 26, 27, 28, 29]]])"
            ]
          },
          "execution_count": 51,
          "metadata": {},
          "output_type": "execute_result"
        }
      ],
      "source": [
        "a.reshape (2,3,5)"
      ]
    },
    {
      "cell_type": "code",
      "execution_count": null,
      "id": "888bb29e",
      "metadata": {
        "id": "888bb29e",
        "outputId": "dac9fc48-24cf-4e89-b78e-5535f8be98ce"
      },
      "outputs": [
        {
          "data": {
            "text/plain": [
              "array([[0., 0., 0., 0., 0.],\n",
              "       [0., 0., 0., 0., 0.],\n",
              "       [0., 0., 0., 0., 0.],\n",
              "       [0., 0., 0., 0., 0.],\n",
              "       [0., 0., 0., 0., 0.]])"
            ]
          },
          "execution_count": 52,
          "metadata": {},
          "output_type": "execute_result"
        }
      ],
      "source": [
        "b = np.zeros((5,5))\n",
        "b"
      ]
    },
    {
      "cell_type": "code",
      "execution_count": null,
      "id": "392704d2",
      "metadata": {
        "id": "392704d2",
        "outputId": "68d8761d-047d-4f5d-a864-5ba5c0b66041"
      },
      "outputs": [
        {
          "data": {
            "text/plain": [
              "array([[1., 1., 1., 1., 1.],\n",
              "       [1., 1., 1., 1., 1.],\n",
              "       [1., 1., 1., 1., 1.],\n",
              "       [1., 1., 1., 1., 1.],\n",
              "       [1., 1., 1., 1., 1.]])"
            ]
          },
          "execution_count": 53,
          "metadata": {},
          "output_type": "execute_result"
        }
      ],
      "source": [
        "b = np.ones((5,5))\n",
        "b"
      ]
    },
    {
      "cell_type": "code",
      "execution_count": null,
      "id": "5352200e",
      "metadata": {
        "id": "5352200e",
        "outputId": "1620ca28-2255-4179-d784-ec0955975dc4"
      },
      "outputs": [
        {
          "data": {
            "text/plain": [
              "array([[5., 5., 5., 5., 5.],\n",
              "       [5., 5., 5., 5., 5.],\n",
              "       [5., 5., 5., 5., 5.],\n",
              "       [5., 5., 5., 5., 5.],\n",
              "       [5., 5., 5., 5., 5.]])"
            ]
          },
          "execution_count": 54,
          "metadata": {},
          "output_type": "execute_result"
        }
      ],
      "source": [
        "b *5"
      ]
    },
    {
      "cell_type": "code",
      "execution_count": null,
      "id": "0420e132",
      "metadata": {
        "id": "0420e132",
        "outputId": "a169d704-53c6-437c-e1d3-b94e26fd80e1"
      },
      "outputs": [
        {
          "data": {
            "text/plain": [
              "array([ 0,  1,  2,  3,  4,  5,  6,  7,  8,  9, 10, 11, 12, 13, 14, 15, 16,\n",
              "       17, 18, 19, 20, 21, 22, 23, 24, 25, 26, 27, 28, 29])"
            ]
          },
          "execution_count": 62,
          "metadata": {},
          "output_type": "execute_result"
        }
      ],
      "source": [
        "mat1 = np.arange (0,30)\n",
        "mat1"
      ]
    },
    {
      "cell_type": "code",
      "execution_count": null,
      "id": "55d83117",
      "metadata": {
        "id": "55d83117",
        "outputId": "cf9e47f1-baeb-4678-df14-d3d2264da29e"
      },
      "outputs": [
        {
          "name": "stdout",
          "output_type": "stream",
          "text": [
            "[[ 0  6 12 18 24]\n",
            " [ 1  7 13 19 25]\n",
            " [ 2  8 14 20 26]\n",
            " [ 3  9 15 21 27]\n",
            " [ 4 10 16 22 28]\n",
            " [ 5 11 17 23 29]]\n"
          ]
        }
      ],
      "source": [
        "mat2 =np.reshape (mat1,(6,5),'F')\n",
        "print (mat2)"
      ]
    },
    {
      "cell_type": "code",
      "execution_count": null,
      "id": "18905cef",
      "metadata": {
        "id": "18905cef",
        "outputId": "66896363-c0d7-4c0c-8e62-623f6d7fc653"
      },
      "outputs": [
        {
          "name": "stdout",
          "output_type": "stream",
          "text": [
            "[[ 0  1  2  3  4]\n",
            " [ 5  6  7  8  9]\n",
            " [10 11 12 13 14]\n",
            " [15 16 17 18 19]\n",
            " [20 21 22 23 24]\n",
            " [25 26 27 28 29]]\n"
          ]
        }
      ],
      "source": [
        "mat2 =np.reshape (mat1,(6,5),'C')\n",
        "print (mat2)"
      ]
    },
    {
      "cell_type": "code",
      "execution_count": null,
      "id": "561d27d4",
      "metadata": {
        "id": "561d27d4",
        "outputId": "64caaba1-c7dd-487a-c0fa-70486a6a52ad"
      },
      "outputs": [
        {
          "name": "stdout",
          "output_type": "stream",
          "text": [
            "[[ 0  1  2  3  4]\n",
            " [ 5  6  7  8  9]\n",
            " [10 11 12 13 14]\n",
            " [15 16 17 18 19]\n",
            " [20 21 22 23 24]\n",
            " [25 26 27 28 29]]\n"
          ]
        }
      ],
      "source": [
        "mat2 =np.reshape (mat1,(6,5))\n",
        "print (mat2)"
      ]
    },
    {
      "cell_type": "code",
      "execution_count": null,
      "id": "46cef9ab",
      "metadata": {
        "id": "46cef9ab",
        "outputId": "ce152ead-cb6f-4d1b-f1fe-883d003a537b"
      },
      "outputs": [
        {
          "data": {
            "text/plain": [
              "array([[ 0,  1,  2,  3,  4],\n",
              "       [ 5,  6,  7,  8,  9],\n",
              "       [10, 11, 12, 13, 14],\n",
              "       [15, 16, 17, 18, 19],\n",
              "       [20, 21, 22, 23, 24],\n",
              "       [25, 26, 27, 28, 29]])"
            ]
          },
          "execution_count": 64,
          "metadata": {},
          "output_type": "execute_result"
        }
      ],
      "source": [
        "mat1.reshape (6,5)"
      ]
    },
    {
      "cell_type": "code",
      "execution_count": null,
      "id": "cf07e9a2",
      "metadata": {
        "id": "cf07e9a2",
        "outputId": "59f05382-5ee8-4ccb-8791-4cdc0197ddc3"
      },
      "outputs": [
        {
          "data": {
            "text/plain": [
              "array([[ 0,  1,  2,  3,  4],\n",
              "       [ 5,  6,  7,  8,  9],\n",
              "       [10, 11, 12, 13, 14],\n",
              "       [15, 16, 17, 18, 19],\n",
              "       [20, 21, 22, 23, 24],\n",
              "       [25, 26, 27, 28, 29]])"
            ]
          },
          "execution_count": 65,
          "metadata": {},
          "output_type": "execute_result"
        }
      ],
      "source": [
        "mat2"
      ]
    },
    {
      "cell_type": "code",
      "execution_count": null,
      "id": "0d54aece",
      "metadata": {
        "id": "0d54aece",
        "outputId": "ba453289-1cfa-44a2-a863-b9e1ae31052e"
      },
      "outputs": [
        {
          "data": {
            "text/plain": [
              "array([[ 0,  5, 10, 15, 20, 25],\n",
              "       [ 1,  6, 11, 16, 21, 26],\n",
              "       [ 2,  7, 12, 17, 22, 27],\n",
              "       [ 3,  8, 13, 18, 23, 28],\n",
              "       [ 4,  9, 14, 19, 24, 29]])"
            ]
          },
          "execution_count": 66,
          "metadata": {},
          "output_type": "execute_result"
        }
      ],
      "source": [
        "mat2.T"
      ]
    },
    {
      "cell_type": "code",
      "execution_count": null,
      "id": "a6d77c9c",
      "metadata": {
        "id": "a6d77c9c",
        "outputId": "dce0b42f-49d4-4c2e-f941-2384d955b962"
      },
      "outputs": [
        {
          "data": {
            "text/plain": [
              "array([[0, 1, 2],\n",
              "       [3, 4, 5],\n",
              "       [6, 7, 8]])"
            ]
          },
          "execution_count": 68,
          "metadata": {},
          "output_type": "execute_result"
        }
      ],
      "source": [
        "a = np.arange (9)\n",
        "b = a.reshape (3,3)\n",
        "b"
      ]
    },
    {
      "cell_type": "code",
      "execution_count": null,
      "id": "e7520532",
      "metadata": {
        "id": "e7520532",
        "outputId": "cf559de6-bd16-454f-938f-010c6067e1a9"
      },
      "outputs": [
        {
          "data": {
            "text/plain": [
              "array([[ 2,  3,  4],\n",
              "       [ 5,  6,  7],\n",
              "       [ 8,  9, 10]])"
            ]
          },
          "execution_count": 69,
          "metadata": {},
          "output_type": "execute_result"
        }
      ],
      "source": [
        "a = np.arange (2,11)\n",
        "c = a.reshape (3,3)\n",
        "c"
      ]
    },
    {
      "cell_type": "code",
      "execution_count": null,
      "id": "5782c844",
      "metadata": {
        "id": "5782c844",
        "outputId": "e793208a-01ed-47ff-a6d7-ebacb0ac44e7"
      },
      "outputs": [
        {
          "name": "stdout",
          "output_type": "stream",
          "text": [
            "[[0 1 2]\n",
            " [3 4 5]\n",
            " [6 7 8]]\n",
            "[[ 2  3  4]\n",
            " [ 5  6  7]\n",
            " [ 8  9 10]]\n"
          ]
        }
      ],
      "source": [
        "print (b)\n",
        "print (c)"
      ]
    },
    {
      "cell_type": "code",
      "execution_count": null,
      "id": "3dc95d81",
      "metadata": {
        "id": "3dc95d81",
        "outputId": "b2abaf16-ad88-4775-e076-bbaf91de156e"
      },
      "outputs": [
        {
          "data": {
            "text/plain": [
              "array([[ 2,  4,  6],\n",
              "       [ 8, 10, 12],\n",
              "       [14, 16, 18]])"
            ]
          },
          "execution_count": 71,
          "metadata": {},
          "output_type": "execute_result"
        }
      ],
      "source": [
        "b+c"
      ]
    },
    {
      "cell_type": "code",
      "execution_count": null,
      "id": "6e20c6df",
      "metadata": {
        "id": "6e20c6df",
        "outputId": "54f99bf0-006e-4fc3-e3e0-59e8094e5e8c"
      },
      "outputs": [
        {
          "data": {
            "text/plain": [
              "array([[2, 2, 2],\n",
              "       [2, 2, 2],\n",
              "       [2, 2, 2]])"
            ]
          },
          "execution_count": 72,
          "metadata": {},
          "output_type": "execute_result"
        }
      ],
      "source": [
        "c-b"
      ]
    },
    {
      "cell_type": "code",
      "execution_count": null,
      "id": "c714ba6f",
      "metadata": {
        "id": "c714ba6f",
        "outputId": "f78b87f5-ab47-4c58-cef7-6e1f61b23a99"
      },
      "outputs": [
        {
          "data": {
            "text/plain": [
              "array([[ 0,  3,  8],\n",
              "       [15, 24, 35],\n",
              "       [48, 63, 80]])"
            ]
          },
          "execution_count": 73,
          "metadata": {},
          "output_type": "execute_result"
        }
      ],
      "source": [
        "c*b"
      ]
    },
    {
      "cell_type": "code",
      "execution_count": null,
      "id": "a6e15afc",
      "metadata": {
        "id": "a6e15afc",
        "outputId": "c9fd45d6-a21d-434a-9aa8-2f8e73c0c355"
      },
      "outputs": [
        {
          "name": "stdout",
          "output_type": "stream",
          "text": [
            "[[0 1 2]\n",
            " [3 4 5]\n",
            " [6 7 8]]\n",
            "[[ 2  3  4]\n",
            " [ 5  6  7]\n",
            " [ 8  9 10]]\n"
          ]
        }
      ],
      "source": [
        "print (b)\n",
        "print (c)"
      ]
    },
    {
      "cell_type": "code",
      "execution_count": null,
      "id": "a73c8b0d",
      "metadata": {
        "id": "a73c8b0d",
        "outputId": "9b5f5488-c3c8-4a3c-cc19-e51326869dc3"
      },
      "outputs": [
        {
          "data": {
            "text/plain": [
              "array([[ 21,  24,  27],\n",
              "       [ 66,  78,  90],\n",
              "       [111, 132, 153]])"
            ]
          },
          "execution_count": 75,
          "metadata": {},
          "output_type": "execute_result"
        }
      ],
      "source": [
        "b@c"
      ]
    },
    {
      "cell_type": "code",
      "execution_count": null,
      "id": "22f8acad",
      "metadata": {
        "id": "22f8acad",
        "outputId": "928b55ea-d2fa-4f81-98ce-1e3f25938f05"
      },
      "outputs": [
        {
          "data": {
            "text/plain": [
              "66"
            ]
          },
          "execution_count": 76,
          "metadata": {},
          "output_type": "execute_result"
        }
      ],
      "source": [
        "6+20+40"
      ]
    },
    {
      "cell_type": "code",
      "execution_count": null,
      "id": "a2eaa65f",
      "metadata": {
        "id": "a2eaa65f",
        "outputId": "b710fc9f-5d23-4586-ed5b-c0a8e1187c69"
      },
      "outputs": [
        {
          "data": {
            "text/plain": [
              "array([[0.        , 0.33333333, 0.5       ],\n",
              "       [0.6       , 0.66666667, 0.71428571],\n",
              "       [0.75      , 0.77777778, 0.8       ]])"
            ]
          },
          "execution_count": 77,
          "metadata": {},
          "output_type": "execute_result"
        }
      ],
      "source": [
        "b/c"
      ]
    },
    {
      "cell_type": "code",
      "execution_count": null,
      "id": "812a69df",
      "metadata": {
        "id": "812a69df",
        "outputId": "66237b8b-1233-4fcf-e944-b6b7935876ac"
      },
      "outputs": [
        {
          "data": {
            "text/plain": [
              "array([[0, 1, 2],\n",
              "       [3, 4, 5],\n",
              "       [6, 7, 8]])"
            ]
          },
          "execution_count": 78,
          "metadata": {},
          "output_type": "execute_result"
        }
      ],
      "source": [
        "b%c"
      ]
    },
    {
      "cell_type": "code",
      "execution_count": null,
      "id": "50d1eda8",
      "metadata": {
        "id": "50d1eda8",
        "outputId": "0924ab90-4161-47bf-cca5-063ba53ffde6"
      },
      "outputs": [
        {
          "name": "stderr",
          "output_type": "stream",
          "text": [
            "C:\\Users\\noble\\AppData\\Local\\Temp\\ipykernel_21596\\1784681195.py:1: RuntimeWarning: divide by zero encountered in remainder\n",
            "  c%b\n"
          ]
        },
        {
          "data": {
            "text/plain": [
              "array([[0, 0, 0],\n",
              "       [2, 2, 2],\n",
              "       [2, 2, 2]])"
            ]
          },
          "execution_count": 79,
          "metadata": {},
          "output_type": "execute_result"
        }
      ],
      "source": [
        "c%b"
      ]
    },
    {
      "cell_type": "code",
      "execution_count": null,
      "id": "8ade75da",
      "metadata": {
        "id": "8ade75da",
        "outputId": "127add42-c098-4745-aaac-4a9732cf65d3"
      },
      "outputs": [
        {
          "name": "stderr",
          "output_type": "stream",
          "text": [
            "C:\\Users\\noble\\AppData\\Local\\Temp\\ipykernel_21596\\3639078968.py:1: RuntimeWarning: divide by zero encountered in floor_divide\n",
            "  c//b\n"
          ]
        },
        {
          "data": {
            "text/plain": [
              "array([[0, 3, 2],\n",
              "       [1, 1, 1],\n",
              "       [1, 1, 1]])"
            ]
          },
          "execution_count": 80,
          "metadata": {},
          "output_type": "execute_result"
        }
      ],
      "source": [
        "c//b"
      ]
    },
    {
      "cell_type": "code",
      "execution_count": null,
      "id": "dd955424",
      "metadata": {
        "id": "dd955424",
        "outputId": "11db4141-ed36-4be9-be30-90356bdfd40a"
      },
      "outputs": [
        {
          "name": "stdout",
          "output_type": "stream",
          "text": [
            "[ 0  1  2  3  4  5  6  7  8  9 10 11 12 13 14 15 16 17 18 19 20 21 22 23\n",
            " 24 25 26 27 28 29]\n"
          ]
        }
      ],
      "source": [
        "print (mat2.ravel())"
      ]
    },
    {
      "cell_type": "code",
      "execution_count": null,
      "id": "4d8b99a7",
      "metadata": {
        "id": "4d8b99a7",
        "outputId": "acae0813-ec11-43c5-cb29-7f33d7a95ddd"
      },
      "outputs": [
        {
          "data": {
            "text/plain": [
              "array([[ 0,  1,  2,  3,  4],\n",
              "       [ 5,  6,  7,  8,  9],\n",
              "       [10, 11, 12, 13, 14],\n",
              "       [15, 16, 17, 18, 19],\n",
              "       [20, 21, 22, 23, 24],\n",
              "       [25, 26, 27, 28, 29]])"
            ]
          },
          "execution_count": 82,
          "metadata": {},
          "output_type": "execute_result"
        }
      ],
      "source": [
        "mat2"
      ]
    },
    {
      "cell_type": "code",
      "execution_count": null,
      "id": "6917fa52",
      "metadata": {
        "id": "6917fa52",
        "outputId": "86cd6240-d250-449c-bd74-52dc7d78e16e"
      },
      "outputs": [
        {
          "name": "stdout",
          "output_type": "stream",
          "text": [
            "[ 0.  3.  6.  9. 12. 15. 18. 21. 24. 27. 30.]\n"
          ]
        }
      ],
      "source": [
        "vector = np.linspace(0,30,11)\n",
        "print (vector)\n"
      ]
    },
    {
      "cell_type": "code",
      "execution_count": null,
      "id": "155ec890",
      "metadata": {
        "id": "155ec890",
        "outputId": "6e8dc5f3-0ad0-47b4-a418-3b820c59bddf"
      },
      "outputs": [
        {
          "name": "stdout",
          "output_type": "stream",
          "text": [
            "[20.         23.33333333 26.66666667 30.         33.33333333 36.66666667\n",
            " 40.        ]\n"
          ]
        }
      ],
      "source": [
        "vector = np.linspace(20,40,7)\n",
        "print (vector)"
      ]
    },
    {
      "cell_type": "code",
      "execution_count": null,
      "id": "09f60049",
      "metadata": {
        "id": "09f60049"
      },
      "outputs": [],
      "source": [
        "EU_Sales = [1002, 4523,4123,3584]\n",
        "APAC_Sales = [7854,9654,4582,8543]\n",
        "US_Sales = [7845,4512,3652,7452]\n"
      ]
    },
    {
      "cell_type": "code",
      "execution_count": null,
      "id": "794e4972",
      "metadata": {
        "id": "794e4972",
        "outputId": "1794b7d7-7942-4bd9-c873-3aea99e9c6a8"
      },
      "outputs": [
        {
          "name": "stdout",
          "output_type": "stream",
          "text": [
            "[[1002 4523 4123 3584]\n",
            " [7854 9654 4582 8543]\n",
            " [7845 4512 3652 7452]]\n"
          ]
        }
      ],
      "source": [
        "Sales = np.array ([EU_Sales, APAC_Sales,US_Sales])\n",
        "print (Sales)\n"
      ]
    },
    {
      "cell_type": "code",
      "execution_count": null,
      "id": "c0e7c0fc",
      "metadata": {
        "id": "c0e7c0fc",
        "outputId": "c2bcd6e8-c21e-46f9-e628-c506a9809718"
      },
      "outputs": [
        {
          "data": {
            "text/plain": [
              "4582"
            ]
          },
          "execution_count": 89,
          "metadata": {},
          "output_type": "execute_result"
        }
      ],
      "source": [
        "Sales[1][2]"
      ]
    },
    {
      "cell_type": "code",
      "execution_count": null,
      "id": "9de7b3b4",
      "metadata": {
        "id": "9de7b3b4"
      },
      "outputs": [],
      "source": [
        "r= {'EU':0,'APAC':1,'US':2}\n",
        "q={'Q1':0,'Q2':1,'Q3':2,'Q4':3}\n"
      ]
    },
    {
      "cell_type": "code",
      "execution_count": null,
      "id": "25055e2d",
      "metadata": {
        "id": "25055e2d",
        "outputId": "f603a7f6-62b5-40f7-cc9d-cfb5a5418b75"
      },
      "outputs": [
        {
          "data": {
            "text/plain": [
              "1"
            ]
          },
          "execution_count": 91,
          "metadata": {},
          "output_type": "execute_result"
        }
      ],
      "source": [
        "r['APAC']"
      ]
    },
    {
      "cell_type": "code",
      "execution_count": null,
      "id": "8dac69ba",
      "metadata": {
        "id": "8dac69ba",
        "outputId": "8f8346b9-351c-4bdc-b5ef-f4ed54624cc9"
      },
      "outputs": [
        {
          "data": {
            "text/plain": [
              "4582"
            ]
          },
          "execution_count": 94,
          "metadata": {},
          "output_type": "execute_result"
        }
      ],
      "source": [
        "Sales[r['APAC']][q['Q3']]"
      ]
    },
    {
      "cell_type": "code",
      "execution_count": null,
      "id": "2452390b",
      "metadata": {
        "id": "2452390b",
        "outputId": "583e6638-64e1-4bfb-8ab8-2effe0455c2a"
      },
      "outputs": [
        {
          "data": {
            "text/plain": [
              "array([[1002, 4523, 4123, 3584],\n",
              "       [7854, 9654, 4582, 8543],\n",
              "       [7845, 4512, 3652, 7452]])"
            ]
          },
          "execution_count": 96,
          "metadata": {},
          "output_type": "execute_result"
        }
      ],
      "source": [
        "Sales"
      ]
    },
    {
      "cell_type": "code",
      "execution_count": null,
      "id": "299e649d",
      "metadata": {
        "id": "299e649d",
        "outputId": "c261f90c-a961-4e7c-815e-d708d10a734d"
      },
      "outputs": [
        {
          "data": {
            "text/plain": [
              "4523"
            ]
          },
          "execution_count": 97,
          "metadata": {},
          "output_type": "execute_result"
        }
      ],
      "source": [
        "Sales[r['EU']][q['Q2']]"
      ]
    },
    {
      "cell_type": "code",
      "execution_count": null,
      "id": "63fec3e2",
      "metadata": {
        "id": "63fec3e2"
      },
      "outputs": [],
      "source": []
    },
    {
      "cell_type": "code",
      "execution_count": null,
      "id": "7fdae6fb",
      "metadata": {
        "id": "7fdae6fb"
      },
      "outputs": [],
      "source": []
    }
  ],
  "metadata": {
    "kernelspec": {
      "display_name": "Python 3 (ipykernel)",
      "language": "python",
      "name": "python3"
    },
    "language_info": {
      "codemirror_mode": {
        "name": "ipython",
        "version": 3
      },
      "file_extension": ".py",
      "mimetype": "text/x-python",
      "name": "python",
      "nbconvert_exporter": "python",
      "pygments_lexer": "ipython3",
      "version": "3.9.15"
    },
    "colab": {
      "provenance": [],
      "include_colab_link": true
    }
  },
  "nbformat": 4,
  "nbformat_minor": 5
}
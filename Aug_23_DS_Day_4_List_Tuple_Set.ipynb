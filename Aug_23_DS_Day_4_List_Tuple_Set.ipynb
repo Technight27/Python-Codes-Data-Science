{
  "cells": [
    {
      "cell_type": "markdown",
      "metadata": {
        "id": "view-in-github",
        "colab_type": "text"
      },
      "source": [
        "<a href=\"https://colab.research.google.com/github/Technight27/Python-Codes/blob/main/Aug_23_DS_Day_4_List_Tuple_Set.ipynb\" target=\"_parent\"><img src=\"https://colab.research.google.com/assets/colab-badge.svg\" alt=\"Open In Colab\"/></a>"
      ]
    },
    {
      "cell_type": "code",
      "execution_count": null,
      "id": "22f43865",
      "metadata": {
        "id": "22f43865"
      },
      "outputs": [],
      "source": [
        "List  =[]\n",
        "Tuple = ()\n",
        "Set ={}\n",
        "Dictionay ={'Key':'Value'}"
      ]
    },
    {
      "cell_type": "code",
      "execution_count": null,
      "id": "994fccc6",
      "metadata": {
        "id": "994fccc6",
        "outputId": "10ba7ca0-6ea3-4a61-92f9-01dd2177596e"
      },
      "outputs": [
        {
          "name": "stdout",
          "output_type": "stream",
          "text": [
            "[10, 20, 45.5, True, 'Sun', [10, 20], (45, 46)]\n"
          ]
        }
      ],
      "source": [
        "l1 = [10,20,45.5,True, 'Sun',[10,20],(45,46)]\n",
        "print (l1)"
      ]
    },
    {
      "cell_type": "code",
      "execution_count": null,
      "id": "b6865a1a",
      "metadata": {
        "id": "b6865a1a",
        "outputId": "bd55fa0c-497a-4818-d057-625a7cd6712a"
      },
      "outputs": [
        {
          "data": {
            "text/plain": [
              "list"
            ]
          },
          "execution_count": 4,
          "metadata": {},
          "output_type": "execute_result"
        }
      ],
      "source": [
        "type (l1)"
      ]
    },
    {
      "cell_type": "code",
      "execution_count": null,
      "id": "0c575074",
      "metadata": {
        "id": "0c575074",
        "outputId": "d5492642-cdf3-426e-c0e9-079bb50f5886"
      },
      "outputs": [
        {
          "data": {
            "text/plain": [
              "float"
            ]
          },
          "execution_count": 5,
          "metadata": {},
          "output_type": "execute_result"
        }
      ],
      "source": [
        "type (l1[2])"
      ]
    },
    {
      "cell_type": "code",
      "execution_count": null,
      "id": "3497f327",
      "metadata": {
        "id": "3497f327",
        "outputId": "bfb0f19a-ed73-4564-8214-8373d4540898"
      },
      "outputs": [
        {
          "data": {
            "text/plain": [
              "int"
            ]
          },
          "execution_count": 6,
          "metadata": {},
          "output_type": "execute_result"
        }
      ],
      "source": [
        "type (l1[1])"
      ]
    },
    {
      "cell_type": "code",
      "execution_count": null,
      "id": "dd6c2516",
      "metadata": {
        "id": "dd6c2516",
        "outputId": "3be48ca7-d5c2-4c0a-a2ad-7d4e72886996"
      },
      "outputs": [
        {
          "data": {
            "text/plain": [
              "bool"
            ]
          },
          "execution_count": 7,
          "metadata": {},
          "output_type": "execute_result"
        }
      ],
      "source": [
        "type (l1[3])"
      ]
    },
    {
      "cell_type": "code",
      "execution_count": null,
      "id": "426ca963",
      "metadata": {
        "id": "426ca963",
        "outputId": "c91d73b6-6243-4bfc-e803-63255eaa02c1"
      },
      "outputs": [
        {
          "data": {
            "text/plain": [
              "[10, 20, 45.5, True, 'Sun', [10, 20], (45, 46)]"
            ]
          },
          "execution_count": 8,
          "metadata": {},
          "output_type": "execute_result"
        }
      ],
      "source": [
        "l1"
      ]
    },
    {
      "cell_type": "code",
      "execution_count": null,
      "id": "dc1a5c90",
      "metadata": {
        "id": "dc1a5c90",
        "outputId": "76a9b692-e30d-4078-c14a-839c703e1095"
      },
      "outputs": [
        {
          "data": {
            "text/plain": [
              "10"
            ]
          },
          "execution_count": 9,
          "metadata": {},
          "output_type": "execute_result"
        }
      ],
      "source": [
        "l1[0]"
      ]
    },
    {
      "cell_type": "code",
      "execution_count": null,
      "id": "5218d206",
      "metadata": {
        "id": "5218d206",
        "outputId": "b81c01d8-9f5a-4686-b327-0fd68f58ea13"
      },
      "outputs": [
        {
          "data": {
            "text/plain": [
              "(45, 46)"
            ]
          },
          "execution_count": 10,
          "metadata": {},
          "output_type": "execute_result"
        }
      ],
      "source": [
        "l1[-1]"
      ]
    },
    {
      "cell_type": "code",
      "execution_count": null,
      "id": "9329c6e0",
      "metadata": {
        "id": "9329c6e0",
        "outputId": "63eae76e-d6e9-4d6d-9bb9-77db6a824ae6"
      },
      "outputs": [
        {
          "data": {
            "text/plain": [
              "[20, 45.5, True]"
            ]
          },
          "execution_count": 11,
          "metadata": {},
          "output_type": "execute_result"
        }
      ],
      "source": [
        "l1[1:4]"
      ]
    },
    {
      "cell_type": "code",
      "execution_count": null,
      "id": "db59e971",
      "metadata": {
        "id": "db59e971",
        "outputId": "298f547b-6d16-4023-df03-e7ec20d68ebb"
      },
      "outputs": [
        {
          "data": {
            "text/plain": [
              "[10, 20, 45.5, True, 'Sun', [10, 20], (45, 46)]"
            ]
          },
          "execution_count": 13,
          "metadata": {},
          "output_type": "execute_result"
        }
      ],
      "source": [
        "l1"
      ]
    },
    {
      "cell_type": "code",
      "execution_count": null,
      "id": "6e7d11f1",
      "metadata": {
        "id": "6e7d11f1",
        "outputId": "d69d3415-491a-4e80-b211-59a88224d9ff"
      },
      "outputs": [
        {
          "data": {
            "text/plain": [
              "[]"
            ]
          },
          "execution_count": 12,
          "metadata": {},
          "output_type": "execute_result"
        }
      ],
      "source": [
        "l1[-2:-5]"
      ]
    },
    {
      "cell_type": "code",
      "execution_count": null,
      "id": "71d59ea7",
      "metadata": {
        "id": "71d59ea7",
        "outputId": "f87d4031-c2fc-44d0-ffbc-78fb189cc843"
      },
      "outputs": [
        {
          "data": {
            "text/plain": [
              "[[10, 20], 'Sun', True]"
            ]
          },
          "execution_count": 14,
          "metadata": {},
          "output_type": "execute_result"
        }
      ],
      "source": [
        "l1[-2:-5:-1]"
      ]
    },
    {
      "cell_type": "code",
      "execution_count": null,
      "id": "43c4fa08",
      "metadata": {
        "id": "43c4fa08",
        "outputId": "05c445ce-335e-41d1-c4d8-3d886296eb96"
      },
      "outputs": [
        {
          "data": {
            "text/plain": [
              "[[10, 20], True]"
            ]
          },
          "execution_count": 15,
          "metadata": {},
          "output_type": "execute_result"
        }
      ],
      "source": [
        "l1[-2:-5:-2]"
      ]
    },
    {
      "cell_type": "code",
      "execution_count": null,
      "id": "a91cc2c5",
      "metadata": {
        "id": "a91cc2c5",
        "outputId": "4fa90b5d-62d7-41b7-ed0a-bb7ba2445693"
      },
      "outputs": [
        {
          "data": {
            "text/plain": [
              "[10, 20, 30, 40, 50, 60, 70]"
            ]
          },
          "execution_count": 16,
          "metadata": {},
          "output_type": "execute_result"
        }
      ],
      "source": [
        "list1 = [10,20,30,40,50,60,70]\n",
        "list1"
      ]
    },
    {
      "cell_type": "code",
      "execution_count": null,
      "id": "1318156c",
      "metadata": {
        "id": "1318156c",
        "outputId": "f24216b3-b073-402c-c0b4-d2306b091ff7"
      },
      "outputs": [
        {
          "data": {
            "text/plain": [
              "[100, 110, 120]"
            ]
          },
          "execution_count": 17,
          "metadata": {},
          "output_type": "execute_result"
        }
      ],
      "source": [
        "list2 = [100,110,120]\n",
        "list2"
      ]
    },
    {
      "cell_type": "code",
      "execution_count": null,
      "id": "629843cc",
      "metadata": {
        "id": "629843cc",
        "outputId": "86d5fec1-067f-47ea-98de-4b5045127318"
      },
      "outputs": [
        {
          "name": "stdout",
          "output_type": "stream",
          "text": [
            "[10, 20, 30, 40, 50, 60, 70, 100, 110, 120, 50, 51, 52]\n"
          ]
        }
      ],
      "source": [
        "print (list1+list2+[50,51,52])"
      ]
    },
    {
      "cell_type": "code",
      "execution_count": null,
      "id": "73228214",
      "metadata": {
        "id": "73228214",
        "outputId": "e022483c-ac28-406c-bf2f-676c304ff9c5"
      },
      "outputs": [
        {
          "data": {
            "text/plain": [
              "[10, 20, 10, 20, 10, 20]"
            ]
          },
          "execution_count": 19,
          "metadata": {},
          "output_type": "execute_result"
        }
      ],
      "source": [
        "l1 = [10,20]\n",
        "l1 *3"
      ]
    },
    {
      "cell_type": "code",
      "execution_count": null,
      "id": "c5217cd0",
      "metadata": {
        "id": "c5217cd0",
        "outputId": "f6e926a2-45b7-4044-df99-8c7fb70046b3"
      },
      "outputs": [
        {
          "data": {
            "text/plain": [
              "[100, 110, 120]"
            ]
          },
          "execution_count": 21,
          "metadata": {},
          "output_type": "execute_result"
        }
      ],
      "source": [
        "list2"
      ]
    },
    {
      "cell_type": "code",
      "execution_count": null,
      "id": "f80a9aa0",
      "metadata": {
        "id": "f80a9aa0",
        "outputId": "9188de1d-27b1-4b69-faff-5a46111f6a6b"
      },
      "outputs": [
        {
          "name": "stdout",
          "output_type": "stream",
          "text": [
            "False\n"
          ]
        }
      ],
      "source": [
        "print (150 in list2)"
      ]
    },
    {
      "cell_type": "code",
      "execution_count": null,
      "id": "a6189802",
      "metadata": {
        "id": "a6189802",
        "outputId": "6a5ffbae-5b23-4403-fad0-3654e4b2be6c"
      },
      "outputs": [
        {
          "name": "stdout",
          "output_type": "stream",
          "text": [
            "True\n"
          ]
        }
      ],
      "source": [
        "print (150 not in list2)"
      ]
    },
    {
      "cell_type": "code",
      "execution_count": null,
      "id": "14489e58",
      "metadata": {
        "id": "14489e58",
        "outputId": "9e306c21-1ba4-48cf-8e51-11d16d39f8ef"
      },
      "outputs": [
        {
          "ename": "NameError",
          "evalue": "name 'list1' is not defined",
          "output_type": "error",
          "traceback": [
            "\u001b[1;31m---------------------------------------------------------------------------\u001b[0m",
            "\u001b[1;31mNameError\u001b[0m                                 Traceback (most recent call last)",
            "Cell \u001b[1;32mIn [25], line 3\u001b[0m\n\u001b[0;32m      1\u001b[0m list1 \u001b[38;5;241m=\u001b[39m [\u001b[38;5;241m10\u001b[39m,\u001b[38;5;241m20\u001b[39m,\u001b[38;5;241m30\u001b[39m,\u001b[38;5;241m40\u001b[39m,\u001b[38;5;241m50\u001b[39m,\u001b[38;5;241m60\u001b[39m,\u001b[38;5;241m70\u001b[39m]\n\u001b[0;32m      2\u001b[0m \u001b[38;5;28;01mdel\u001b[39;00m (list1)\n\u001b[1;32m----> 3\u001b[0m \u001b[38;5;28mprint\u001b[39m (\u001b[43mlist1\u001b[49m)\n",
            "\u001b[1;31mNameError\u001b[0m: name 'list1' is not defined"
          ]
        }
      ],
      "source": [
        "list1 = [10,20,30,40,50,60,70]\n",
        "del (list1)\n",
        "print (list1)"
      ]
    },
    {
      "cell_type": "code",
      "execution_count": null,
      "id": "e4ab2159",
      "metadata": {
        "id": "e4ab2159",
        "outputId": "2537867c-6b2b-483c-8239-e30aa5f68056"
      },
      "outputs": [
        {
          "name": "stdout",
          "output_type": "stream",
          "text": [
            "[]\n"
          ]
        }
      ],
      "source": [
        "list1 = [10,20,30,40,50,60,70]\n",
        "list1.clear()\n",
        "print (list1)"
      ]
    },
    {
      "cell_type": "code",
      "execution_count": null,
      "id": "e3e63211",
      "metadata": {
        "id": "e3e63211",
        "outputId": "710faf84-3417-4949-da19-8a759f592c48"
      },
      "outputs": [
        {
          "name": "stdout",
          "output_type": "stream",
          "text": [
            "[10, 20, 40, 50, 60, 70]\n"
          ]
        }
      ],
      "source": [
        "list1 = [10,20,30,40,50,60,70]\n",
        "del (list1 [2])\n",
        "print (list1)"
      ]
    },
    {
      "cell_type": "code",
      "execution_count": null,
      "id": "1fb0f332",
      "metadata": {
        "id": "1fb0f332",
        "outputId": "7ec08245-0040-48b2-a136-25be8bbd96de"
      },
      "outputs": [
        {
          "name": "stdout",
          "output_type": "stream",
          "text": [
            "[10, 20, 60, 70]\n"
          ]
        }
      ],
      "source": [
        "list1 = [10,20,30,40,50,60,70]\n",
        "del (list1 [2:5])\n",
        "print (list1)"
      ]
    },
    {
      "cell_type": "code",
      "execution_count": null,
      "id": "7a2769ee",
      "metadata": {
        "id": "7a2769ee",
        "outputId": "7c1d95d3-4398-4ec7-e108-e756da87b2ec"
      },
      "outputs": [
        {
          "name": "stdout",
          "output_type": "stream",
          "text": [
            "[]\n"
          ]
        }
      ],
      "source": [
        "list1 = [10,20,30,40,50,60,70]\n",
        "del (list1 [:])\n",
        "print (list1)"
      ]
    },
    {
      "cell_type": "code",
      "execution_count": null,
      "id": "6c96fe08",
      "metadata": {
        "id": "6c96fe08",
        "outputId": "27da8eec-a5a7-4730-af30-290c0aeaf2c3"
      },
      "outputs": [
        {
          "name": "stdout",
          "output_type": "stream",
          "text": [
            "[10, 20, 40, 30, 40, 50, 60, 70]\n"
          ]
        }
      ],
      "source": [
        "list1 = [10,20,30,40,30,40,50,60,70]\n",
        "list1.remove (30)\n",
        "print (list1)"
      ]
    },
    {
      "cell_type": "code",
      "execution_count": null,
      "id": "93ceb686",
      "metadata": {
        "id": "93ceb686",
        "outputId": "c3907b61-3872-4e93-e794-7af9913b6783"
      },
      "outputs": [
        {
          "name": "stdout",
          "output_type": "stream",
          "text": [
            "[10, 20, 30, 30, 40, 50, 60, 70]\n"
          ]
        }
      ],
      "source": [
        "list1 = [10,20,30,40,30,40,50,60,70]\n",
        "p1 = list1.pop (3)\n",
        "print (list1)"
      ]
    },
    {
      "cell_type": "code",
      "execution_count": null,
      "id": "5049e42b",
      "metadata": {
        "id": "5049e42b",
        "outputId": "7eb57e68-cb45-4391-f871-8ebe81c6a5b4"
      },
      "outputs": [
        {
          "name": "stdout",
          "output_type": "stream",
          "text": [
            "40\n"
          ]
        }
      ],
      "source": [
        "print (p1)"
      ]
    },
    {
      "cell_type": "code",
      "execution_count": null,
      "id": "a940d751",
      "metadata": {
        "id": "a940d751",
        "outputId": "74252e41-7e1e-4ae1-8686-373aa103831a"
      },
      "outputs": [
        {
          "name": "stdout",
          "output_type": "stream",
          "text": [
            "[10, 20, 30, 40]\n",
            "[10, 20, 30, 40, 35]\n"
          ]
        }
      ],
      "source": [
        "list1 = [10,20,30,40]\n",
        "print (list1)\n",
        "list1.append (35)\n",
        "print  (list1)"
      ]
    },
    {
      "cell_type": "code",
      "execution_count": null,
      "id": "0a9f50a3",
      "metadata": {
        "id": "0a9f50a3",
        "outputId": "abd6f69c-1722-48cb-ccc8-d96c119bf790"
      },
      "outputs": [
        {
          "name": "stdout",
          "output_type": "stream",
          "text": [
            "[10, 20, 30, 40]\n"
          ]
        },
        {
          "ename": "TypeError",
          "evalue": "list.append() takes exactly one argument (2 given)",
          "output_type": "error",
          "traceback": [
            "\u001b[1;31m---------------------------------------------------------------------------\u001b[0m",
            "\u001b[1;31mTypeError\u001b[0m                                 Traceback (most recent call last)",
            "Cell \u001b[1;32mIn [38], line 3\u001b[0m\n\u001b[0;32m      1\u001b[0m list1 \u001b[38;5;241m=\u001b[39m [\u001b[38;5;241m10\u001b[39m,\u001b[38;5;241m20\u001b[39m,\u001b[38;5;241m30\u001b[39m,\u001b[38;5;241m40\u001b[39m]\n\u001b[0;32m      2\u001b[0m \u001b[38;5;28mprint\u001b[39m (list1)\n\u001b[1;32m----> 3\u001b[0m \u001b[43mlist1\u001b[49m\u001b[38;5;241;43m.\u001b[39;49m\u001b[43mappend\u001b[49m\u001b[43m \u001b[49m\u001b[43m(\u001b[49m\u001b[38;5;241;43m35\u001b[39;49m\u001b[43m,\u001b[49m\u001b[38;5;241;43m40\u001b[39;49m\u001b[43m)\u001b[49m\n",
            "\u001b[1;31mTypeError\u001b[0m: list.append() takes exactly one argument (2 given)"
          ]
        }
      ],
      "source": [
        "list1 = [10,20,30,40]\n",
        "print (list1)\n",
        "list1.append (35,40)"
      ]
    },
    {
      "cell_type": "code",
      "execution_count": null,
      "id": "1d1ce4cc",
      "metadata": {
        "id": "1d1ce4cc",
        "outputId": "92e674af-9314-4a6c-f4ce-474fe55d9386"
      },
      "outputs": [
        {
          "name": "stdout",
          "output_type": "stream",
          "text": [
            "[10, 20, 30, 40]\n",
            "[10, 20, 30, 40, [35, 36, 37]]\n"
          ]
        }
      ],
      "source": [
        "list1 = [10,20,30,40]\n",
        "print (list1)\n",
        "list1.append ([35,36,37])\n",
        "print  (list1)"
      ]
    },
    {
      "cell_type": "code",
      "execution_count": null,
      "id": "60dc57e9",
      "metadata": {
        "id": "60dc57e9",
        "outputId": "fad9cd53-7585-4e5d-c99f-ba412568d9a2"
      },
      "outputs": [
        {
          "name": "stdout",
          "output_type": "stream",
          "text": [
            "[10, 20, 30, 40]\n",
            "[10, 20, 30, 40, 'Sat']\n"
          ]
        }
      ],
      "source": [
        "list1 = [10,20,30,40]\n",
        "print (list1)\n",
        "list1.append ('Sat')\n",
        "print  (list1)"
      ]
    },
    {
      "cell_type": "code",
      "execution_count": null,
      "id": "d979e41f",
      "metadata": {
        "id": "d979e41f",
        "outputId": "755e0577-2397-434b-9f15-915937c9f069"
      },
      "outputs": [
        {
          "name": "stdout",
          "output_type": "stream",
          "text": [
            "[10, 20, 30, 40]\n",
            "[10, 20, 'Sat', 30, 40]\n"
          ]
        }
      ],
      "source": [
        "list1 = [10,20,30,40]\n",
        "print (list1)\n",
        "list1.insert (2,'Sat')\n",
        "print  (list1)"
      ]
    },
    {
      "cell_type": "code",
      "execution_count": null,
      "id": "278d8a0a",
      "metadata": {
        "id": "278d8a0a",
        "outputId": "a0e9349e-70a3-4a88-a411-963fc05c2091"
      },
      "outputs": [
        {
          "name": "stdout",
          "output_type": "stream",
          "text": [
            "[10, 20, 30, 40]\n",
            "[10, 20, 30, 40, 50, 51, 52]\n"
          ]
        }
      ],
      "source": [
        "list1 = [10,20,30,40]\n",
        "print (list1)\n",
        "list1.extend ([50,51,52])\n",
        "print  (list1)"
      ]
    },
    {
      "cell_type": "code",
      "execution_count": null,
      "id": "13828501",
      "metadata": {
        "id": "13828501",
        "outputId": "bbe46fae-36ab-4262-c994-ec9f3872544b"
      },
      "outputs": [
        {
          "name": "stdout",
          "output_type": "stream",
          "text": [
            "1\n",
            "2\n",
            "3\n",
            "4\n",
            "5\n"
          ]
        }
      ],
      "source": [
        "for x in [1,2,3,4,5]:\n",
        "    print (x)"
      ]
    },
    {
      "cell_type": "code",
      "execution_count": null,
      "id": "05ac8b6d",
      "metadata": {
        "id": "05ac8b6d",
        "outputId": "7c087a62-2baa-4c79-81d7-8c6090556290"
      },
      "outputs": [
        {
          "name": "stdout",
          "output_type": "stream",
          "text": [
            "[2, 4, 6, 8, 10]\n"
          ]
        }
      ],
      "source": [
        "list1 = []\n",
        "for x in [1,2,3,4,5]:\n",
        "    list1.append (x * 2)\n",
        "print (list1)\n"
      ]
    },
    {
      "cell_type": "code",
      "execution_count": null,
      "id": "cc6a0a59",
      "metadata": {
        "id": "cc6a0a59",
        "outputId": "578b986f-fad0-4938-dc86-fa1baddf4b7c"
      },
      "outputs": [
        {
          "data": {
            "text/plain": [
              "[2, 4, 6, 8, 10]"
            ]
          },
          "execution_count": 45,
          "metadata": {},
          "output_type": "execute_result"
        }
      ],
      "source": [
        "[x*2  for x in [1,2,3,4,5]]"
      ]
    },
    {
      "cell_type": "code",
      "execution_count": null,
      "id": "98af7f24",
      "metadata": {
        "id": "98af7f24",
        "outputId": "a2ba30a6-d3d6-49d7-ac3f-97da54a6688d"
      },
      "outputs": [
        {
          "name": "stdout",
          "output_type": "stream",
          "text": [
            "['Rick', 'Jim', 'Mark', 'Jack', 'Ken']\n",
            "['Jack', 'Jim', 'Ken', 'Mark', 'Rick']\n"
          ]
        }
      ],
      "source": [
        "list1 = ['Rick','Jim','Mark','Jack','Ken']\n",
        "list2 = sorted (list1)\n",
        "print (list1)\n",
        "print (list2)\n"
      ]
    },
    {
      "cell_type": "code",
      "execution_count": null,
      "id": "cea3c0d2",
      "metadata": {
        "id": "cea3c0d2",
        "outputId": "9739611b-777d-40b9-bac4-61f6cb2c174f"
      },
      "outputs": [
        {
          "name": "stdout",
          "output_type": "stream",
          "text": [
            "['Rick', 'Jim', 'Mark', '10', '50', '60', 'Jack', 'jack', 'Ken']\n",
            "['10', '50', '60', 'Jack', 'Jim', 'Ken', 'Mark', 'Rick', 'jack']\n"
          ]
        }
      ],
      "source": [
        "list1 = ['Rick','Jim','Mark','10','50','60','Jack','jack','Ken']\n",
        "list2 = sorted (list1)\n",
        "print (list1)\n",
        "print (list2)\n"
      ]
    },
    {
      "cell_type": "code",
      "execution_count": null,
      "id": "ab8a7db3",
      "metadata": {
        "id": "ab8a7db3",
        "outputId": "a6f2ac2d-fb64-4328-f03f-3adc828e2b8e"
      },
      "outputs": [
        {
          "name": "stdout",
          "output_type": "stream",
          "text": [
            "[10, 12, 12, 15, 20, 22, 30, 40]\n"
          ]
        }
      ],
      "source": [
        "x = [10,20,30,15,12,40,22,12]\n",
        "print (sorted(x)) # Sorted order\n"
      ]
    },
    {
      "cell_type": "code",
      "execution_count": null,
      "id": "4431ca35",
      "metadata": {
        "id": "4431ca35",
        "outputId": "1f90a428-e675-4784-d3eb-e6e5142c946f"
      },
      "outputs": [
        {
          "name": "stdout",
          "output_type": "stream",
          "text": [
            "[10, 20, 30, 15, 12, 40, 22, 12]\n"
          ]
        }
      ],
      "source": [
        "print (x)"
      ]
    },
    {
      "cell_type": "code",
      "execution_count": null,
      "id": "c43c9bba",
      "metadata": {
        "id": "c43c9bba",
        "outputId": "4760efdd-018b-4e04-db44-eefbea706166"
      },
      "outputs": [
        {
          "name": "stdout",
          "output_type": "stream",
          "text": [
            "[10, 12, 12, 15, 20, 22, 30, 40]\n",
            "[10, 12, 12, 15, 20, 22, 30, 40]\n"
          ]
        }
      ],
      "source": [
        "print (x)\n",
        "x.sort()\n",
        "print (x)"
      ]
    },
    {
      "cell_type": "code",
      "execution_count": null,
      "id": "be739e41",
      "metadata": {
        "id": "be739e41",
        "outputId": "e0fd1499-e5d0-4f9d-ad04-0a98b8b9481f"
      },
      "outputs": [
        {
          "data": {
            "text/plain": [
              "['Rick', 'Jim', 'Mark', '10', '50', '60', 'Jack', 'jack', 'Ken']"
            ]
          },
          "execution_count": 52,
          "metadata": {},
          "output_type": "execute_result"
        }
      ],
      "source": [
        "list1"
      ]
    },
    {
      "cell_type": "code",
      "execution_count": null,
      "id": "3ef701d3",
      "metadata": {
        "id": "3ef701d3",
        "outputId": "bfe984f4-0f39-4c07-a06e-fa8e75293a66"
      },
      "outputs": [
        {
          "name": "stdout",
          "output_type": "stream",
          "text": [
            "['Ken', 'jack', 'Jack', '60', '50', '10', 'Mark', 'Jim', 'Rick']\n"
          ]
        }
      ],
      "source": [
        "print (list1[::-1])"
      ]
    },
    {
      "cell_type": "code",
      "execution_count": null,
      "id": "0012e69f",
      "metadata": {
        "id": "0012e69f",
        "outputId": "bd52ed9f-e9ba-431b-b5d4-2ac112ffcdeb"
      },
      "outputs": [
        {
          "data": {
            "text/plain": [
              "['Rick', 'Jim', 'Mark', '10', '50', '60', 'Jack', 'jack', 'Ken']"
            ]
          },
          "execution_count": 54,
          "metadata": {},
          "output_type": "execute_result"
        }
      ],
      "source": [
        "list1"
      ]
    },
    {
      "cell_type": "code",
      "execution_count": null,
      "id": "1de6d5cc",
      "metadata": {
        "id": "1de6d5cc",
        "outputId": "6d6820e9-34a3-4443-8bb8-8092c058782d"
      },
      "outputs": [
        {
          "name": "stdout",
          "output_type": "stream",
          "text": [
            "['50', '10']\n"
          ]
        }
      ],
      "source": [
        "print (list1[4:2:-1])"
      ]
    },
    {
      "cell_type": "code",
      "execution_count": null,
      "id": "b7460c34",
      "metadata": {
        "id": "b7460c34",
        "outputId": "303e77d5-5448-4569-c8b5-3d24fad35500"
      },
      "outputs": [
        {
          "data": {
            "text/plain": [
              "['Red', 'Blue', 'Green', 'Black', 'White']"
            ]
          },
          "execution_count": 56,
          "metadata": {},
          "output_type": "execute_result"
        }
      ],
      "source": [
        "colors = ['Red', 'Blue', 'Green', 'Black', 'White']\n",
        "colors"
      ]
    },
    {
      "cell_type": "code",
      "execution_count": null,
      "id": "b5c5f085",
      "metadata": {
        "id": "b5c5f085",
        "outputId": "bbe74e92-0157-4d63-9547-988852c2f724"
      },
      "outputs": [
        {
          "data": {
            "text/plain": [
              "'Red'"
            ]
          },
          "execution_count": 57,
          "metadata": {},
          "output_type": "execute_result"
        }
      ],
      "source": [
        "first_col = colors[0]\n",
        "first_col"
      ]
    },
    {
      "cell_type": "code",
      "execution_count": null,
      "id": "39c22b64",
      "metadata": {
        "id": "39c22b64",
        "outputId": "709848e5-45ef-4560-beae-e0fb4d483ace"
      },
      "outputs": [
        {
          "data": {
            "text/plain": [
              "['Red', 'Blue', 'Green', 'Black', 'White']"
            ]
          },
          "execution_count": 58,
          "metadata": {},
          "output_type": "execute_result"
        }
      ],
      "source": [
        "colors"
      ]
    },
    {
      "cell_type": "code",
      "execution_count": null,
      "id": "d802419a",
      "metadata": {
        "id": "d802419a",
        "outputId": "29218ebc-3c1b-4216-f1cd-170de99b38ef"
      },
      "outputs": [
        {
          "data": {
            "text/plain": [
              "['Yellow', 'Blue', 'Green', 'Red', 'White']"
            ]
          },
          "execution_count": 59,
          "metadata": {},
          "output_type": "execute_result"
        }
      ],
      "source": [
        "colors[0] = 'Yellow'\n",
        "colors[-2] = 'Red'\n",
        "colors"
      ]
    },
    {
      "cell_type": "code",
      "execution_count": null,
      "id": "3f221aba",
      "metadata": {
        "id": "3f221aba",
        "outputId": "affe6496-ccd2-402e-ca5b-abee30d8af49"
      },
      "outputs": [
        {
          "data": {
            "text/plain": [
              "[23, 22, 44, 17, 77, 55, 1, 65, 82, 2]"
            ]
          },
          "execution_count": 60,
          "metadata": {},
          "output_type": "execute_result"
        }
      ],
      "source": [
        "nums = [23, 22, 44, 17, 77, 55, 1, 65, 82, 2]\n",
        "nums"
      ]
    },
    {
      "cell_type": "code",
      "execution_count": null,
      "id": "33b3452b",
      "metadata": {
        "id": "33b3452b",
        "outputId": "e08ffeaf-e923-4173-b640-ff16624d7739"
      },
      "outputs": [
        {
          "data": {
            "text/plain": [
              "1"
            ]
          },
          "execution_count": 61,
          "metadata": {},
          "output_type": "execute_result"
        }
      ],
      "source": [
        "num_min = min(nums)\n",
        "num_min"
      ]
    },
    {
      "cell_type": "code",
      "execution_count": null,
      "id": "a7e598c6",
      "metadata": {
        "id": "a7e598c6",
        "outputId": "dfd798dd-bfea-4373-e689-9a3df1f1f102"
      },
      "outputs": [
        {
          "data": {
            "text/plain": [
              "82"
            ]
          },
          "execution_count": 62,
          "metadata": {},
          "output_type": "execute_result"
        }
      ],
      "source": [
        "num_min = max(nums)\n",
        "num_min"
      ]
    },
    {
      "cell_type": "code",
      "execution_count": null,
      "id": "8277a77d",
      "metadata": {
        "id": "8277a77d",
        "outputId": "0566bc22-74c6-4f24-c797-20974cf70e11"
      },
      "outputs": [
        {
          "data": {
            "text/plain": [
              "388"
            ]
          },
          "execution_count": 63,
          "metadata": {},
          "output_type": "execute_result"
        }
      ],
      "source": [
        "sum(nums)"
      ]
    },
    {
      "cell_type": "code",
      "execution_count": null,
      "id": "8f8ca152",
      "metadata": {
        "id": "8f8ca152",
        "outputId": "82a42814-b1f7-47af-937b-4250178f9a5e"
      },
      "outputs": [
        {
          "data": {
            "text/plain": [
              "38.8"
            ]
          },
          "execution_count": 67,
          "metadata": {},
          "output_type": "execute_result"
        }
      ],
      "source": [
        "sum(nums)/len(nums)"
      ]
    },
    {
      "cell_type": "code",
      "execution_count": null,
      "id": "6cf5ad91",
      "metadata": {
        "id": "6cf5ad91",
        "outputId": "fdcbdd4b-123a-48ad-e454-d751cd9ae0fe"
      },
      "outputs": [
        {
          "name": "stdout",
          "output_type": "stream",
          "text": [
            "[1, 4, 9, 16, 25, 36, 49, 64, 81, 100]\n"
          ]
        }
      ],
      "source": [
        "squr = []\n",
        "for x in range(1, 11):\n",
        "    sq= x**2\n",
        "    squr.append(sq)\n",
        "\n",
        "print (squr)\n"
      ]
    },
    {
      "cell_type": "code",
      "execution_count": null,
      "id": "aa3f2fc3",
      "metadata": {
        "id": "aa3f2fc3",
        "outputId": "5bbd088e-f270-4b66-ffec-1f4aeb61aedd"
      },
      "outputs": [
        {
          "data": {
            "text/plain": [
              "[1, 4, 9, 16, 25, 36, 49, 64, 81, 100]"
            ]
          },
          "execution_count": 71,
          "metadata": {},
          "output_type": "execute_result"
        }
      ],
      "source": [
        "[x** 2 for x in range(1, 11)]"
      ]
    },
    {
      "cell_type": "code",
      "execution_count": null,
      "id": "dc657b06",
      "metadata": {
        "id": "dc657b06",
        "outputId": "26ea7a21-aac1-488d-b614-82470a12790f"
      },
      "outputs": [
        {
          "name": "stdout",
          "output_type": "stream",
          "text": [
            "['RED', 'BLUE', 'GREEN', 'BLACK', 'WHITE']\n"
          ]
        }
      ],
      "source": [
        "colors = ['Red', 'Blue', 'Green', 'Black', 'White']\n",
        "upper_cols = []\n",
        "for cols in colors:\n",
        "    upper_cols.append(cols.upper())\n",
        "print (upper_cols)"
      ]
    },
    {
      "cell_type": "code",
      "execution_count": null,
      "id": "e9c2a00b",
      "metadata": {
        "id": "e9c2a00b",
        "outputId": "d01bf88e-2ff0-4508-955b-1d5239b77f3d"
      },
      "outputs": [
        {
          "name": "stdout",
          "output_type": "stream",
          "text": [
            "['red', 'blue', 'green', 'black', 'white']\n"
          ]
        }
      ],
      "source": [
        "colors = ['Red', 'Blue', 'Green', 'Black', 'White']\n",
        "upper_cols = []\n",
        "for cols in colors:\n",
        "    upper_cols.append(cols.lower())\n",
        "print (upper_cols)"
      ]
    },
    {
      "cell_type": "code",
      "execution_count": null,
      "id": "1433050d",
      "metadata": {
        "id": "1433050d",
        "outputId": "2a98268e-fe48-46de-e4ac-ee6464366585"
      },
      "outputs": [
        {
          "data": {
            "text/plain": [
              "30"
            ]
          },
          "execution_count": 74,
          "metadata": {},
          "output_type": "execute_result"
        }
      ],
      "source": [
        "t1= (10,20,30,20,30,40)\n",
        "t1 [2]"
      ]
    },
    {
      "cell_type": "code",
      "execution_count": null,
      "id": "1bb5a595",
      "metadata": {
        "id": "1bb5a595",
        "outputId": "18f2429e-2d54-46ce-cfb0-8796e5021c9c"
      },
      "outputs": [
        {
          "data": {
            "text/plain": [
              "(30, 20, 30)"
            ]
          },
          "execution_count": 75,
          "metadata": {},
          "output_type": "execute_result"
        }
      ],
      "source": [
        "t1 [2:5]"
      ]
    },
    {
      "cell_type": "code",
      "execution_count": null,
      "id": "77f61953",
      "metadata": {
        "id": "77f61953",
        "outputId": "37257f63-5af3-4bc5-f845-c1286086baf8"
      },
      "outputs": [
        {
          "data": {
            "text/plain": [
              "(40, 20)"
            ]
          },
          "execution_count": 76,
          "metadata": {},
          "output_type": "execute_result"
        }
      ],
      "source": [
        "t1 [-1:-5:-2]"
      ]
    },
    {
      "cell_type": "code",
      "execution_count": null,
      "id": "56b97d3b",
      "metadata": {
        "id": "56b97d3b",
        "outputId": "7d42098c-b4c2-493c-b296-d95de2b8e067"
      },
      "outputs": [
        {
          "ename": "NameError",
          "evalue": "name 't1' is not defined",
          "output_type": "error",
          "traceback": [
            "\u001b[1;31m---------------------------------------------------------------------------\u001b[0m",
            "\u001b[1;31mNameError\u001b[0m                                 Traceback (most recent call last)",
            "Cell \u001b[1;32mIn [77], line 3\u001b[0m\n\u001b[0;32m      1\u001b[0m t1\u001b[38;5;241m=\u001b[39m (\u001b[38;5;241m10\u001b[39m,\u001b[38;5;241m20\u001b[39m,\u001b[38;5;241m30\u001b[39m,\u001b[38;5;241m20\u001b[39m,\u001b[38;5;241m30\u001b[39m,\u001b[38;5;241m40\u001b[39m)\n\u001b[0;32m      2\u001b[0m \u001b[38;5;28;01mdel\u001b[39;00m (t1)\n\u001b[1;32m----> 3\u001b[0m \u001b[38;5;28mprint\u001b[39m (\u001b[43mt1\u001b[49m)\n",
            "\u001b[1;31mNameError\u001b[0m: name 't1' is not defined"
          ]
        }
      ],
      "source": [
        "t1= (10,20,30,20,30,40)\n",
        "del (t1)\n",
        "print (t1)"
      ]
    },
    {
      "cell_type": "code",
      "execution_count": null,
      "id": "d4dea6d7",
      "metadata": {
        "id": "d4dea6d7",
        "outputId": "0950f3ab-e2c5-442e-e2eb-7c60e397783b"
      },
      "outputs": [
        {
          "ename": "AttributeError",
          "evalue": "'tuple' object has no attribute 'clear'",
          "output_type": "error",
          "traceback": [
            "\u001b[1;31m---------------------------------------------------------------------------\u001b[0m",
            "\u001b[1;31mAttributeError\u001b[0m                            Traceback (most recent call last)",
            "Cell \u001b[1;32mIn [78], line 2\u001b[0m\n\u001b[0;32m      1\u001b[0m t1\u001b[38;5;241m=\u001b[39m (\u001b[38;5;241m10\u001b[39m,\u001b[38;5;241m20\u001b[39m,\u001b[38;5;241m30\u001b[39m,\u001b[38;5;241m20\u001b[39m,\u001b[38;5;241m30\u001b[39m,\u001b[38;5;241m40\u001b[39m)\n\u001b[1;32m----> 2\u001b[0m \u001b[43mt1\u001b[49m\u001b[38;5;241;43m.\u001b[39;49m\u001b[43mclear\u001b[49m()\n\u001b[0;32m      3\u001b[0m \u001b[38;5;28mprint\u001b[39m (t1)\n",
            "\u001b[1;31mAttributeError\u001b[0m: 'tuple' object has no attribute 'clear'"
          ]
        }
      ],
      "source": [
        "t1= (10,20,30,20,30,40)\n",
        "t1.clear()\n",
        "print (t1)"
      ]
    },
    {
      "cell_type": "code",
      "execution_count": null,
      "id": "2d6214d7",
      "metadata": {
        "id": "2d6214d7",
        "outputId": "13e7a66d-bbe1-44db-c86b-f34dd6c27630"
      },
      "outputs": [
        {
          "data": {
            "text/plain": [
              "(10, 20, 30, 20, 30, 40)"
            ]
          },
          "execution_count": 79,
          "metadata": {},
          "output_type": "execute_result"
        }
      ],
      "source": [
        "t1= (10,20,30,20,30,40)\n",
        "t1"
      ]
    },
    {
      "cell_type": "code",
      "execution_count": null,
      "id": "fa3947a6",
      "metadata": {
        "id": "fa3947a6",
        "outputId": "23c16bf1-ec93-467b-ef2f-663fb5dffb82"
      },
      "outputs": [
        {
          "ename": "TypeError",
          "evalue": "'tuple' object does not support item assignment",
          "output_type": "error",
          "traceback": [
            "\u001b[1;31m---------------------------------------------------------------------------\u001b[0m",
            "\u001b[1;31mTypeError\u001b[0m                                 Traceback (most recent call last)",
            "Cell \u001b[1;32mIn [81], line 1\u001b[0m\n\u001b[1;32m----> 1\u001b[0m t1[\u001b[38;5;241m1\u001b[39m] \u001b[38;5;241m=\u001b[39m\u001b[38;5;241m55\u001b[39m\n",
            "\u001b[1;31mTypeError\u001b[0m: 'tuple' object does not support item assignment"
          ]
        }
      ],
      "source": [
        "t1[1] =55"
      ]
    },
    {
      "cell_type": "code",
      "execution_count": null,
      "id": "6e4db5e1",
      "metadata": {
        "id": "6e4db5e1",
        "outputId": "97b0a35c-1ab7-4554-f547-ffb8f75a871c"
      },
      "outputs": [
        {
          "data": {
            "text/plain": [
              "(10, 20, 30, 20, 30, 40)"
            ]
          },
          "execution_count": 82,
          "metadata": {},
          "output_type": "execute_result"
        }
      ],
      "source": [
        "t1"
      ]
    },
    {
      "cell_type": "code",
      "execution_count": null,
      "id": "c1d8636f",
      "metadata": {
        "id": "c1d8636f",
        "outputId": "1e670fc0-b8c5-43f7-97ff-0f3c6cba31ee"
      },
      "outputs": [
        {
          "data": {
            "text/plain": [
              "[10, 20, 30, 20, 30, 40]"
            ]
          },
          "execution_count": 83,
          "metadata": {},
          "output_type": "execute_result"
        }
      ],
      "source": [
        "l1 =list (t1)\n",
        "l1"
      ]
    },
    {
      "cell_type": "code",
      "execution_count": null,
      "id": "5f805b6b",
      "metadata": {
        "id": "5f805b6b",
        "outputId": "b551d389-ab16-4a3c-857e-a3b13fb9f124"
      },
      "outputs": [
        {
          "data": {
            "text/plain": [
              "[10, 55, 30, 20, 30, 40]"
            ]
          },
          "execution_count": 85,
          "metadata": {},
          "output_type": "execute_result"
        }
      ],
      "source": [
        "l1[1] =55\n",
        "l1"
      ]
    },
    {
      "cell_type": "code",
      "execution_count": null,
      "id": "15e1582c",
      "metadata": {
        "id": "15e1582c",
        "outputId": "80d4801d-4bde-4a1e-d757-003cd708d8ce"
      },
      "outputs": [
        {
          "data": {
            "text/plain": [
              "(10, 55, 30, 20, 30, 40)"
            ]
          },
          "execution_count": 86,
          "metadata": {},
          "output_type": "execute_result"
        }
      ],
      "source": [
        "t1= tuple (l1)\n",
        "t1"
      ]
    },
    {
      "cell_type": "code",
      "execution_count": null,
      "id": "bb56f14a",
      "metadata": {
        "id": "bb56f14a",
        "outputId": "77684691-12a5-4db3-c338-0088d925882c"
      },
      "outputs": [
        {
          "data": {
            "text/plain": [
              "[(1, 2, 3), ('x', 'Y', 'Z', 'A')]"
            ]
          },
          "execution_count": 87,
          "metadata": {},
          "output_type": "execute_result"
        }
      ],
      "source": [
        "list2 = [(1,2,3),('x','Y','Z','A')]\n",
        "list2"
      ]
    },
    {
      "cell_type": "code",
      "execution_count": null,
      "id": "61e84e09",
      "metadata": {
        "id": "61e84e09",
        "outputId": "33a6d445-fa58-4d6e-e7f7-e77252799c0d"
      },
      "outputs": [
        {
          "data": {
            "text/plain": [
              "[(1, 2, 3), ('x', 'Y', 'Z', 'A'), 10]"
            ]
          },
          "execution_count": 88,
          "metadata": {},
          "output_type": "execute_result"
        }
      ],
      "source": [
        "list2 = [(1,2,3),('x','Y','Z','A'),10]\n",
        "list2"
      ]
    },
    {
      "cell_type": "code",
      "execution_count": null,
      "id": "6c171e12",
      "metadata": {
        "id": "6c171e12",
        "outputId": "ae2f8461-d543-4b79-909c-52b057dea3d7"
      },
      "outputs": [
        {
          "data": {
            "text/plain": [
              "[(1, 2, 3), ('x', 'Y', 'Z', 'A'), 10, 50]"
            ]
          },
          "execution_count": 89,
          "metadata": {},
          "output_type": "execute_result"
        }
      ],
      "source": [
        "list2.append (50)\n",
        "list2"
      ]
    },
    {
      "cell_type": "code",
      "execution_count": null,
      "id": "ef3413ad",
      "metadata": {
        "id": "ef3413ad",
        "outputId": "22cb56e1-cd28-4732-e7e2-d29c053911f7"
      },
      "outputs": [
        {
          "data": {
            "text/plain": [
              "10"
            ]
          },
          "execution_count": 90,
          "metadata": {},
          "output_type": "execute_result"
        }
      ],
      "source": [
        "list2[2]"
      ]
    },
    {
      "cell_type": "code",
      "execution_count": null,
      "id": "bbfc6eeb",
      "metadata": {
        "id": "bbfc6eeb",
        "outputId": "b72fc143-98a3-4579-f18e-43042d1e9653"
      },
      "outputs": [
        {
          "data": {
            "text/plain": [
              "[(1, 2, 3), ('x', 'Y', 'Z', 'A'), 66, 50]"
            ]
          },
          "execution_count": 91,
          "metadata": {},
          "output_type": "execute_result"
        }
      ],
      "source": [
        "list2[2] =66\n",
        "list2"
      ]
    },
    {
      "cell_type": "code",
      "execution_count": null,
      "id": "d785b0f5",
      "metadata": {
        "id": "d785b0f5",
        "outputId": "eb2cef0f-ca61-46c9-b612-42e638536179"
      },
      "outputs": [
        {
          "data": {
            "text/plain": [
              "('x', 'Y', 'Z', 'A')"
            ]
          },
          "execution_count": 92,
          "metadata": {},
          "output_type": "execute_result"
        }
      ],
      "source": [
        "list2[1]"
      ]
    },
    {
      "cell_type": "code",
      "execution_count": null,
      "id": "7dd2917e",
      "metadata": {
        "id": "7dd2917e",
        "outputId": "0f44de73-06c1-40cb-d4e1-edcc632f61f5"
      },
      "outputs": [
        {
          "data": {
            "text/plain": [
              "'Z'"
            ]
          },
          "execution_count": 93,
          "metadata": {},
          "output_type": "execute_result"
        }
      ],
      "source": [
        "list2[1][2]"
      ]
    },
    {
      "cell_type": "code",
      "execution_count": null,
      "id": "4571ee22",
      "metadata": {
        "id": "4571ee22",
        "outputId": "6cfd5fa7-b2d1-44da-fb25-b8e85fb43061"
      },
      "outputs": [
        {
          "ename": "TypeError",
          "evalue": "'tuple' object does not support item assignment",
          "output_type": "error",
          "traceback": [
            "\u001b[1;31m---------------------------------------------------------------------------\u001b[0m",
            "\u001b[1;31mTypeError\u001b[0m                                 Traceback (most recent call last)",
            "Cell \u001b[1;32mIn [94], line 1\u001b[0m\n\u001b[1;32m----> 1\u001b[0m list2[\u001b[38;5;241m1\u001b[39m][\u001b[38;5;241m2\u001b[39m] \u001b[38;5;241m=\u001b[39m\u001b[38;5;241m50\u001b[39m\n",
            "\u001b[1;31mTypeError\u001b[0m: 'tuple' object does not support item assignment"
          ]
        }
      ],
      "source": [
        "list2[1][2] =50"
      ]
    },
    {
      "cell_type": "code",
      "execution_count": null,
      "id": "85306117",
      "metadata": {
        "id": "85306117",
        "outputId": "9ac76a13-d949-4f04-836b-0a4d796bec81"
      },
      "outputs": [
        {
          "name": "stdout",
          "output_type": "stream",
          "text": [
            "6\n",
            "y\n",
            "N\n"
          ]
        }
      ],
      "source": [
        "tup1 =(1,2,3,'x','y','m')\n",
        "tup2 =('x','y','m','N')\n",
        "print (len(tup1))\n",
        "print (max(tup2))\n",
        "print (min(tup2))\n"
      ]
    },
    {
      "cell_type": "code",
      "execution_count": null,
      "id": "32928da2",
      "metadata": {
        "id": "32928da2",
        "outputId": "983aa293-437c-4da3-bfef-4e08f90acf17"
      },
      "outputs": [
        {
          "ename": "TypeError",
          "evalue": "'>' not supported between instances of 'str' and 'int'",
          "output_type": "error",
          "traceback": [
            "\u001b[1;31m---------------------------------------------------------------------------\u001b[0m",
            "\u001b[1;31mTypeError\u001b[0m                                 Traceback (most recent call last)",
            "Cell \u001b[1;32mIn [96], line 2\u001b[0m\n\u001b[0;32m      1\u001b[0m tup1 \u001b[38;5;241m=\u001b[39m(\u001b[38;5;241m1\u001b[39m,\u001b[38;5;241m2\u001b[39m,\u001b[38;5;241m3\u001b[39m,\u001b[38;5;124m'\u001b[39m\u001b[38;5;124mx\u001b[39m\u001b[38;5;124m'\u001b[39m,\u001b[38;5;124m'\u001b[39m\u001b[38;5;124my\u001b[39m\u001b[38;5;124m'\u001b[39m,\u001b[38;5;124m'\u001b[39m\u001b[38;5;124mm\u001b[39m\u001b[38;5;124m'\u001b[39m)\n\u001b[1;32m----> 2\u001b[0m \u001b[38;5;28mprint\u001b[39m (\u001b[38;5;28;43mmax\u001b[39;49m\u001b[43m(\u001b[49m\u001b[43mtup1\u001b[49m\u001b[43m)\u001b[49m)\n",
            "\u001b[1;31mTypeError\u001b[0m: '>' not supported between instances of 'str' and 'int'"
          ]
        }
      ],
      "source": [
        "tup1 =(1,2,3,'x','y','m')\n",
        "print (max(tup1))"
      ]
    },
    {
      "cell_type": "code",
      "execution_count": null,
      "id": "bfce8154",
      "metadata": {
        "id": "bfce8154",
        "outputId": "ad7e88d1-dfd3-4c84-ca07-6fdaa5b9dc04"
      },
      "outputs": [
        {
          "name": "stdout",
          "output_type": "stream",
          "text": [
            "(1, 2, 3, 'x', 'y', 'm', 1, 2, 3, 'x', 'y', 'm')\n"
          ]
        }
      ],
      "source": [
        "tup1 =(1,2,3,'x','y','m')\n",
        "print (tup1 *2)"
      ]
    },
    {
      "cell_type": "code",
      "execution_count": null,
      "id": "66aa9bc1",
      "metadata": {
        "id": "66aa9bc1",
        "outputId": "ee7f60b1-ed96-4f19-fb48-1597cd52606a"
      },
      "outputs": [
        {
          "name": "stdout",
          "output_type": "stream",
          "text": [
            "True\n"
          ]
        }
      ],
      "source": [
        "print ('x' in tup1)"
      ]
    },
    {
      "cell_type": "code",
      "execution_count": null,
      "id": "4f3808df",
      "metadata": {
        "id": "4f3808df",
        "outputId": "18b6ec5d-b03e-45fc-cfa5-e9a6c18d341d"
      },
      "outputs": [
        {
          "name": "stdout",
          "output_type": "stream",
          "text": [
            "False\n"
          ]
        }
      ],
      "source": [
        "print ('X' in tup1)"
      ]
    },
    {
      "cell_type": "code",
      "execution_count": null,
      "id": "205ee315",
      "metadata": {
        "id": "205ee315",
        "outputId": "f2402bc5-f3f2-466c-9566-c2b39f148d10"
      },
      "outputs": [
        {
          "name": "stdout",
          "output_type": "stream",
          "text": [
            "8\n"
          ]
        }
      ],
      "source": [
        "x = 'Good Day'\n",
        "print (len (x))\n"
      ]
    },
    {
      "cell_type": "code",
      "execution_count": null,
      "id": "8dd9dca1",
      "metadata": {
        "id": "8dd9dca1",
        "outputId": "5561ee3e-0f06-4791-ddd3-022fcf1c9ba5"
      },
      "outputs": [
        {
          "name": "stdout",
          "output_type": "stream",
          "text": [
            "15\n"
          ]
        }
      ],
      "source": [
        "x = 'Go    od Da   y'\n",
        "print (len (x))\n"
      ]
    },
    {
      "cell_type": "code",
      "execution_count": null,
      "id": "ac14617e",
      "metadata": {
        "id": "ac14617e",
        "outputId": "d8a7c7dd-a81a-4190-f949-60263325a183"
      },
      "outputs": [
        {
          "name": "stdout",
          "output_type": "stream",
          "text": [
            "8\n"
          ]
        }
      ],
      "source": [
        "x = 'Good Day'\n",
        "print (len (x))"
      ]
    },
    {
      "cell_type": "code",
      "execution_count": null,
      "id": "d457c9a1",
      "metadata": {
        "id": "d457c9a1",
        "outputId": "f0d9eb30-8f72-4114-97dd-b70a64df92c8"
      },
      "outputs": [
        {
          "name": "stdout",
          "output_type": "stream",
          "text": [
            "o\n"
          ]
        }
      ],
      "source": [
        "print (x [2])"
      ]
    },
    {
      "cell_type": "code",
      "execution_count": null,
      "id": "cf67de64",
      "metadata": {
        "id": "cf67de64",
        "outputId": "97360b0c-c687-40c6-f364-fa5a10a4895f"
      },
      "outputs": [
        {
          "name": "stdout",
          "output_type": "stream",
          "text": [
            "od \n"
          ]
        }
      ],
      "source": [
        "print (x [2:5])"
      ]
    },
    {
      "cell_type": "code",
      "execution_count": null,
      "id": "d6f1671b",
      "metadata": {
        "id": "d6f1671b",
        "outputId": "e12e68fe-e0b1-476e-faa7-78a841b92e4c"
      },
      "outputs": [
        {
          "name": "stdout",
          "output_type": "stream",
          "text": [
            "3\n"
          ]
        }
      ],
      "source": [
        "print (len (x [2:5]))"
      ]
    },
    {
      "cell_type": "code",
      "execution_count": null,
      "id": "86e281e4",
      "metadata": {
        "id": "86e281e4"
      },
      "outputs": [],
      "source": [
        "x = 'Good Day'"
      ]
    },
    {
      "cell_type": "code",
      "execution_count": null,
      "id": "66bb5f9b",
      "metadata": {
        "id": "66bb5f9b",
        "outputId": "7423357a-8e66-453c-c227-d3a4056731ef"
      },
      "outputs": [
        {
          "name": "stdout",
          "output_type": "stream",
          "text": [
            "True\n"
          ]
        }
      ],
      "source": [
        "print ('o' in x)"
      ]
    },
    {
      "cell_type": "code",
      "execution_count": null,
      "id": "ee85dda7",
      "metadata": {
        "id": "ee85dda7",
        "outputId": "13efe177-c5b5-454e-c3a5-c306534f973c"
      },
      "outputs": [
        {
          "name": "stdout",
          "output_type": "stream",
          "text": [
            "False\n"
          ]
        }
      ],
      "source": [
        "print ('O' in x)"
      ]
    },
    {
      "cell_type": "code",
      "execution_count": null,
      "id": "1007cd16",
      "metadata": {
        "id": "1007cd16",
        "outputId": "b3ec11ea-5b4e-4e9d-ef82-b046d8fd150f"
      },
      "outputs": [
        {
          "name": "stdout",
          "output_type": "stream",
          "text": [
            "Welcome to Python Training Course Fee 5000\n",
            "Welcome to Python Training Course Fee 5000\n"
          ]
        }
      ],
      "source": [
        "a = 'Python'\n",
        "b = 'Training'\n",
        "fee =5000\n",
        "print ('Welcome to',a,b,'Course Fee',fee)\n",
        "print ('Welcome to %s %s Course Fee %d' %(a,b,fee))\n"
      ]
    },
    {
      "cell_type": "code",
      "execution_count": null,
      "id": "c5917c10",
      "metadata": {
        "id": "c5917c10",
        "outputId": "0a32dc1a-1282-435e-c4dd-d99228656f3a"
      },
      "outputs": [
        {
          "name": "stdout",
          "output_type": "stream",
          "text": [
            "Welcome to Python Training Course Fee 5000.000000\n"
          ]
        }
      ],
      "source": [
        "print ('Welcome to %s %s Course Fee %f' %(a,b,fee))"
      ]
    },
    {
      "cell_type": "code",
      "execution_count": null,
      "id": "3ec1d3a5",
      "metadata": {
        "id": "3ec1d3a5",
        "outputId": "e4d0a53c-313e-4206-89f0-09cb5c332385"
      },
      "outputs": [
        {
          "name": "stdout",
          "output_type": "stream",
          "text": [
            "Welcome to 5000 Python Course Fee 5000.000000\n"
          ]
        }
      ],
      "source": [
        "print ('Welcome to %s %s Course Fee %f' %(fee,a,fee))"
      ]
    },
    {
      "cell_type": "code",
      "execution_count": null,
      "id": "99247590",
      "metadata": {
        "id": "99247590",
        "outputId": "85b69b20-c340-4c4e-97a9-6263782cc25e"
      },
      "outputs": [
        {
          "name": "stdout",
          "output_type": "stream",
          "text": [
            "5\n"
          ]
        }
      ],
      "source": [
        "str1 = 'Good Day'\n",
        "print (str1.find('D'))\n"
      ]
    },
    {
      "cell_type": "code",
      "execution_count": null,
      "id": "1ae6fb3f",
      "metadata": {
        "id": "1ae6fb3f",
        "outputId": "442b2896-5d11-4583-f746-32f292b282e0"
      },
      "outputs": [
        {
          "name": "stdout",
          "output_type": "stream",
          "text": [
            "-1\n"
          ]
        }
      ],
      "source": [
        "str1 = 'Good Day'\n",
        "print (str1.find('M'))"
      ]
    },
    {
      "cell_type": "code",
      "execution_count": null,
      "id": "ba2fee0e",
      "metadata": {
        "id": "ba2fee0e",
        "outputId": "60e880b7-fa8f-4d7d-cb54-4fb8eabfbb07"
      },
      "outputs": [
        {
          "name": "stdout",
          "output_type": "stream",
          "text": [
            "2\n"
          ]
        }
      ],
      "source": [
        "str1 = 'GoDoDd Day'\n",
        "print (str1.find('D'))"
      ]
    },
    {
      "cell_type": "code",
      "execution_count": null,
      "id": "fc08b211",
      "metadata": {
        "id": "fc08b211",
        "outputId": "6c85b2fb-8f40-4814-dc8f-d5dc4f6a3100"
      },
      "outputs": [
        {
          "name": "stdout",
          "output_type": "stream",
          "text": [
            "1\n"
          ]
        }
      ],
      "source": [
        "str1 = 'Good Day'\n",
        "print (str1.find('o'))"
      ]
    },
    {
      "cell_type": "code",
      "execution_count": null,
      "id": "48574bb3",
      "metadata": {
        "id": "48574bb3",
        "outputId": "d030f7eb-298a-4d83-efed-132d5a2345a2"
      },
      "outputs": [
        {
          "name": "stdout",
          "output_type": "stream",
          "text": [
            "-1\n"
          ]
        }
      ],
      "source": [
        "str1 = 'Good Day'\n",
        "print (str1.find('O'))"
      ]
    },
    {
      "cell_type": "code",
      "execution_count": null,
      "id": "01bd0c8f",
      "metadata": {
        "id": "01bd0c8f",
        "outputId": "622ccdf6-703f-4826-97e1-9889f163d8db"
      },
      "outputs": [
        {
          "name": "stdout",
          "output_type": "stream",
          "text": [
            "{'r', 'G', 'g', ' ', 'd', 'i', 'M', 'o', 'n'}\n"
          ]
        }
      ],
      "source": [
        "x = set ('Good Morning')\n",
        "print (x)\n"
      ]
    },
    {
      "cell_type": "code",
      "execution_count": null,
      "id": "b4d2f88d",
      "metadata": {
        "id": "b4d2f88d",
        "outputId": "45249ecc-ea1f-4a82-834d-c337c92ef80f"
      },
      "outputs": [
        {
          "name": "stdout",
          "output_type": "stream",
          "text": [
            "['G', 'o', 'o', 'd', ' ', 'M', 'o', 'r', 'n', 'i', 'n', 'g']\n"
          ]
        }
      ],
      "source": [
        "x = list('Good Morning')\n",
        "print (x)"
      ]
    },
    {
      "cell_type": "code",
      "execution_count": null,
      "id": "8de2028a",
      "metadata": {
        "id": "8de2028a",
        "outputId": "0ff546a9-066f-4902-a35a-fafdf8937e51"
      },
      "outputs": [
        {
          "name": "stdout",
          "output_type": "stream",
          "text": [
            "{1, 2, 3, 4, 5, 6, 8}\n",
            "{1, 2, 3, 4, 5, 6, 8}\n"
          ]
        }
      ],
      "source": [
        "a = {1,2,3,4}\n",
        "b = {3,4,5,6,8}\n",
        "print (a|b)\n",
        "print (a.union(b))"
      ]
    },
    {
      "cell_type": "code",
      "execution_count": null,
      "id": "1ffcab74",
      "metadata": {
        "id": "1ffcab74",
        "outputId": "2e9991ff-cb7a-4fd5-8daa-5e1ab20a493a"
      },
      "outputs": [
        {
          "name": "stdout",
          "output_type": "stream",
          "text": [
            "{3, 4}\n",
            "{3, 4}\n"
          ]
        }
      ],
      "source": [
        "a = {1,2,3,4}\n",
        "b = {3,4,5,6,8}\n",
        "print (a &b)\n",
        "print (a.intersection(b))"
      ]
    },
    {
      "cell_type": "code",
      "execution_count": null,
      "id": "7cecfd64",
      "metadata": {
        "id": "7cecfd64",
        "outputId": "4ebdc8fd-10e5-4413-a9b4-5c32285788b1"
      },
      "outputs": [
        {
          "name": "stdout",
          "output_type": "stream",
          "text": [
            "{1, 2}\n",
            "{1, 2}\n"
          ]
        }
      ],
      "source": [
        "a = {1,2,3,4}\n",
        "b = {3,4,5,6,8}\n",
        "print (a -b)\n",
        "print (a.difference (b))"
      ]
    },
    {
      "cell_type": "code",
      "execution_count": null,
      "id": "f2bff476",
      "metadata": {
        "id": "f2bff476",
        "outputId": "4eb00193-083a-4c0c-af65-a31d7fd569bc"
      },
      "outputs": [
        {
          "name": "stdout",
          "output_type": "stream",
          "text": [
            "{8, 5, 6}\n",
            "{8, 5, 6}\n"
          ]
        }
      ],
      "source": [
        "a = {1,2,3,4}\n",
        "b = {3,4,5,6,8}\n",
        "print (b-a)\n",
        "print (b.difference (a))"
      ]
    },
    {
      "cell_type": "code",
      "execution_count": null,
      "id": "057ff24b",
      "metadata": {
        "id": "057ff24b"
      },
      "outputs": [],
      "source": [
        "a = {1,2,3,4}\n",
        "b = {3,4}"
      ]
    },
    {
      "cell_type": "code",
      "execution_count": null,
      "id": "f6f79cce",
      "metadata": {
        "id": "f6f79cce",
        "outputId": "8f1617bb-e0ab-4b0d-a8e3-13ce49388af1"
      },
      "outputs": [
        {
          "data": {
            "text/plain": [
              "False"
            ]
          },
          "execution_count": 131,
          "metadata": {},
          "output_type": "execute_result"
        }
      ],
      "source": [
        "a.issubset(b)"
      ]
    },
    {
      "cell_type": "code",
      "execution_count": null,
      "id": "d016cae2",
      "metadata": {
        "id": "d016cae2",
        "outputId": "602a4542-49ad-4233-80e2-5a21482dffe1"
      },
      "outputs": [
        {
          "data": {
            "text/plain": [
              "True"
            ]
          },
          "execution_count": 132,
          "metadata": {},
          "output_type": "execute_result"
        }
      ],
      "source": [
        "b.issubset(a)"
      ]
    },
    {
      "cell_type": "code",
      "execution_count": null,
      "id": "195b4634",
      "metadata": {
        "id": "195b4634",
        "outputId": "a80f1068-045b-480e-dbf9-9d4d32242244"
      },
      "outputs": [
        {
          "data": {
            "text/plain": [
              "True"
            ]
          },
          "execution_count": 134,
          "metadata": {},
          "output_type": "execute_result"
        }
      ],
      "source": [
        "a.issuperset(b)"
      ]
    },
    {
      "cell_type": "code",
      "execution_count": null,
      "id": "d93b590d",
      "metadata": {
        "id": "d93b590d",
        "outputId": "d49f78e2-210d-42d1-cff6-860d71a4cd5e"
      },
      "outputs": [
        {
          "name": "stdout",
          "output_type": "stream",
          "text": [
            "{1, 2, 3, 4, 50}\n"
          ]
        }
      ],
      "source": [
        "a = {1,2,3,4}\n",
        "a.add(50)\n",
        "print (a)"
      ]
    },
    {
      "cell_type": "code",
      "execution_count": null,
      "id": "095d9227",
      "metadata": {
        "id": "095d9227",
        "outputId": "6ba8f3e1-6c44-4be5-a223-6a7c89c167a2"
      },
      "outputs": [
        {
          "name": "stdout",
          "output_type": "stream",
          "text": [
            "{1, 2, 3, 4, 50}\n"
          ]
        }
      ],
      "source": [
        "a = {1,2,3,4}\n",
        "a.add(50)\n",
        "print (a)"
      ]
    },
    {
      "cell_type": "code",
      "execution_count": null,
      "id": "ce3b2bbf",
      "metadata": {
        "id": "ce3b2bbf",
        "outputId": "9b2f84a6-3ac0-41c9-94d8-0bdc359b4ec8"
      },
      "outputs": [
        {
          "ename": "NameError",
          "evalue": "name 'a' is not defined",
          "output_type": "error",
          "traceback": [
            "\u001b[1;31m---------------------------------------------------------------------------\u001b[0m",
            "\u001b[1;31mNameError\u001b[0m                                 Traceback (most recent call last)",
            "Cell \u001b[1;32mIn [137], line 3\u001b[0m\n\u001b[0;32m      1\u001b[0m a \u001b[38;5;241m=\u001b[39m {\u001b[38;5;241m1\u001b[39m,\u001b[38;5;241m2\u001b[39m,\u001b[38;5;241m3\u001b[39m,\u001b[38;5;241m4\u001b[39m}\n\u001b[0;32m      2\u001b[0m \u001b[38;5;28;01mdel\u001b[39;00m (a)\n\u001b[1;32m----> 3\u001b[0m \u001b[38;5;28mprint\u001b[39m (\u001b[43ma\u001b[49m)\n",
            "\u001b[1;31mNameError\u001b[0m: name 'a' is not defined"
          ]
        }
      ],
      "source": [
        "a = {1,2,3,4}\n",
        "del (a)\n",
        "print (a)"
      ]
    },
    {
      "cell_type": "code",
      "execution_count": null,
      "id": "8c5ec702",
      "metadata": {
        "id": "8c5ec702",
        "outputId": "6b6a7e47-f328-4776-83a4-0f37760ca888"
      },
      "outputs": [
        {
          "name": "stdout",
          "output_type": "stream",
          "text": [
            "set()\n"
          ]
        }
      ],
      "source": [
        "a = {1,2,3,4}\n",
        "a.clear()\n",
        "print (a)"
      ]
    },
    {
      "cell_type": "code",
      "execution_count": null,
      "id": "f0e2aa2a",
      "metadata": {
        "id": "f0e2aa2a",
        "outputId": "a5902579-f350-4b13-96b7-eac440cab2b8"
      },
      "outputs": [
        {
          "name": "stdout",
          "output_type": "stream",
          "text": [
            "{1, 2, 4}\n"
          ]
        }
      ],
      "source": [
        "a = {1,2,3,4}\n",
        "a.remove (3)\n",
        "print (a)"
      ]
    },
    {
      "cell_type": "code",
      "execution_count": null,
      "id": "88294f62",
      "metadata": {
        "id": "88294f62",
        "outputId": "1019f802-ee31-45fc-ad27-b27683a9fce1"
      },
      "outputs": [
        {
          "ename": "KeyError",
          "evalue": "3",
          "output_type": "error",
          "traceback": [
            "\u001b[1;31m---------------------------------------------------------------------------\u001b[0m",
            "\u001b[1;31mKeyError\u001b[0m                                  Traceback (most recent call last)",
            "Cell \u001b[1;32mIn [140], line 1\u001b[0m\n\u001b[1;32m----> 1\u001b[0m \u001b[43ma\u001b[49m\u001b[38;5;241;43m.\u001b[39;49m\u001b[43mremove\u001b[49m\u001b[43m \u001b[49m\u001b[43m(\u001b[49m\u001b[38;5;241;43m3\u001b[39;49m\u001b[43m)\u001b[49m\n\u001b[0;32m      2\u001b[0m \u001b[38;5;28mprint\u001b[39m (a)\n",
            "\u001b[1;31mKeyError\u001b[0m: 3"
          ]
        }
      ],
      "source": [
        "a.remove (3)\n",
        "print (a)"
      ]
    },
    {
      "cell_type": "code",
      "execution_count": null,
      "id": "2f3d93d1",
      "metadata": {
        "id": "2f3d93d1",
        "outputId": "cc674e2e-6ea6-421d-aaa0-71d815d8d8d1"
      },
      "outputs": [
        {
          "name": "stdout",
          "output_type": "stream",
          "text": [
            "{1, 2, 4}\n"
          ]
        }
      ],
      "source": [
        "a = {1,2,3,4}\n",
        "a.discard (3)\n",
        "print (a)"
      ]
    },
    {
      "cell_type": "code",
      "execution_count": null,
      "id": "e4c1ebb2",
      "metadata": {
        "id": "e4c1ebb2",
        "outputId": "5af1ebc3-7e96-479d-9fb4-a34b1872cad3"
      },
      "outputs": [
        {
          "name": "stdout",
          "output_type": "stream",
          "text": [
            "{1, 2, 4}\n"
          ]
        }
      ],
      "source": [
        "a.discard (3)\n",
        "print (a)"
      ]
    },
    {
      "cell_type": "code",
      "execution_count": null,
      "id": "d65ab5de",
      "metadata": {
        "id": "d65ab5de",
        "outputId": "dea59709-e855-4d8a-9486-bb31560892e5"
      },
      "outputs": [
        {
          "data": {
            "text/plain": [
              "{1, 2, 4}"
            ]
          },
          "execution_count": 143,
          "metadata": {},
          "output_type": "execute_result"
        }
      ],
      "source": [
        "a"
      ]
    },
    {
      "cell_type": "code",
      "execution_count": null,
      "id": "c2ef0d4f",
      "metadata": {
        "id": "c2ef0d4f",
        "outputId": "fc7ce91d-48b3-4198-cab0-30c5f79e5229"
      },
      "outputs": [
        {
          "data": {
            "text/plain": [
              "frozenset({1, 2, 4})"
            ]
          },
          "execution_count": 144,
          "metadata": {},
          "output_type": "execute_result"
        }
      ],
      "source": [
        "fs1 =frozenset(a)\n",
        "fs1"
      ]
    },
    {
      "cell_type": "code",
      "execution_count": null,
      "id": "36ef155a",
      "metadata": {
        "id": "36ef155a",
        "outputId": "a194f239-80b7-435e-89ac-f4b55620fa01"
      },
      "outputs": [
        {
          "ename": "AttributeError",
          "evalue": "'frozenset' object has no attribute 'add'",
          "output_type": "error",
          "traceback": [
            "\u001b[1;31m---------------------------------------------------------------------------\u001b[0m",
            "\u001b[1;31mAttributeError\u001b[0m                            Traceback (most recent call last)",
            "Cell \u001b[1;32mIn [145], line 1\u001b[0m\n\u001b[1;32m----> 1\u001b[0m \u001b[43mfs1\u001b[49m\u001b[38;5;241;43m.\u001b[39;49m\u001b[43madd\u001b[49m(\u001b[38;5;241m10\u001b[39m)\n",
            "\u001b[1;31mAttributeError\u001b[0m: 'frozenset' object has no attribute 'add'"
          ]
        }
      ],
      "source": [
        "fs1.add(10)"
      ]
    },
    {
      "cell_type": "code",
      "execution_count": null,
      "id": "5d303dc3",
      "metadata": {
        "id": "5d303dc3"
      },
      "outputs": [],
      "source": []
    }
  ],
  "metadata": {
    "kernelspec": {
      "display_name": "Python 3 (ipykernel)",
      "language": "python",
      "name": "python3"
    },
    "language_info": {
      "codemirror_mode": {
        "name": "ipython",
        "version": 3
      },
      "file_extension": ".py",
      "mimetype": "text/x-python",
      "name": "python",
      "nbconvert_exporter": "python",
      "pygments_lexer": "ipython3",
      "version": "3.9.15"
    },
    "colab": {
      "provenance": [],
      "include_colab_link": true
    }
  },
  "nbformat": 4,
  "nbformat_minor": 5
}
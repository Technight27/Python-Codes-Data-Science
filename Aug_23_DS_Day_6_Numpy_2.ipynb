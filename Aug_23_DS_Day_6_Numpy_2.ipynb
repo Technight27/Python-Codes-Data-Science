{
  "cells": [
    {
      "cell_type": "markdown",
      "metadata": {
        "id": "view-in-github",
        "colab_type": "text"
      },
      "source": [
        "<a href=\"https://colab.research.google.com/github/Technight27/Python-Codes-Data-Science/blob/main/Aug_23_DS_Day_6_Numpy_2.ipynb\" target=\"_parent\"><img src=\"https://colab.research.google.com/assets/colab-badge.svg\" alt=\"Open In Colab\"/></a>"
      ]
    },
    {
      "cell_type": "code",
      "execution_count": null,
      "id": "f1a23063",
      "metadata": {
        "id": "f1a23063",
        "outputId": "bf0e3f30-2cef-4256-d466-583290a86ff2"
      },
      "outputs": [
        {
          "data": {
            "text/plain": [
              "array([ 0,  1,  2,  3,  4,  5,  6,  7,  8,  9, 10, 11, 12, 13, 14, 15, 16,\n",
              "       17, 18, 19, 20, 21, 22, 23, 24, 25, 26, 27, 28, 29, 30, 31, 32, 33,\n",
              "       34, 35, 36, 37, 38, 39, 40, 41, 42, 43, 44, 45, 46, 47, 48, 49, 50,\n",
              "       51, 52, 53, 54, 55, 56, 57, 58, 59, 60, 61, 62, 63, 64, 65, 66, 67,\n",
              "       68, 69, 70, 71, 72, 73, 74, 75, 76, 77, 78, 79, 80, 81, 82, 83, 84,\n",
              "       85, 86, 87, 88, 89, 90, 91, 92, 93, 94, 95, 96, 97, 98, 99])"
            ]
          },
          "execution_count": 1,
          "metadata": {},
          "output_type": "execute_result"
        }
      ],
      "source": [
        "import numpy as np\n",
        "arr1= np.arange (100)\n",
        "arr1"
      ]
    },
    {
      "cell_type": "code",
      "execution_count": null,
      "id": "7fab1b44",
      "metadata": {
        "id": "7fab1b44",
        "outputId": "7a01552c-06ed-4302-9b44-0f55b0f6637b"
      },
      "outputs": [
        {
          "data": {
            "text/plain": [
              "array([100, 101, 102, 103, 104, 105, 106, 107, 108, 109, 110, 111, 112,\n",
              "       113, 114, 115, 116, 117, 118, 119, 120, 121, 122, 123, 124, 125,\n",
              "       126, 127, 128, 129, 130, 131, 132, 133, 134, 135, 136, 137, 138,\n",
              "       139, 140, 141, 142, 143, 144, 145, 146, 147, 148, 149, 150, 151,\n",
              "       152, 153, 154, 155, 156, 157, 158, 159, 160, 161, 162, 163, 164,\n",
              "       165, 166, 167, 168, 169, 170, 171, 172, 173, 174, 175, 176, 177,\n",
              "       178, 179, 180, 181, 182, 183, 184, 185, 186, 187, 188, 189, 190,\n",
              "       191, 192, 193, 194, 195, 196, 197, 198, 199])"
            ]
          },
          "execution_count": 2,
          "metadata": {},
          "output_type": "execute_result"
        }
      ],
      "source": [
        "import numpy as np\n",
        "arr1= np.arange (100,200)\n",
        "arr1"
      ]
    },
    {
      "cell_type": "code",
      "execution_count": null,
      "id": "7702d21b",
      "metadata": {
        "id": "7702d21b",
        "outputId": "9767cff5-ef10-44a0-805b-2d8331b59daa"
      },
      "outputs": [
        {
          "name": "stdout",
          "output_type": "stream",
          "text": [
            "[110 111 112 113 114 115 116 117 118 119 120 121 122 123 124 125 126 127\n",
            " 128 129 130 131 132 133 134 135 136 137 138 139 140 141 142 143 144 145\n",
            " 146 147 148 149 150 151 152 153 154 155 156 157 158 159 160 161 162 163\n",
            " 164 165 166 167 168 169 170 171 172 173 174 175 176 177 178 179 180 181\n",
            " 182 183 184 185 186 187 188 189 190 191 192 193 194 195 196 197 198 199] \n",
            "\n"
          ]
        }
      ],
      "source": [
        "print (arr1[10:],'\\n')"
      ]
    },
    {
      "cell_type": "code",
      "execution_count": null,
      "id": "4cc2ef04",
      "metadata": {
        "id": "4cc2ef04",
        "outputId": "0b9545b3-809b-45fb-bc22-be27776a8e88"
      },
      "outputs": [
        {
          "name": "stdout",
          "output_type": "stream",
          "text": [
            "[100 101 102 103 104 105 106 107 108 109 110 111 112 113 114 115 116 117\n",
            " 118 119] \n",
            "\n"
          ]
        }
      ],
      "source": [
        "print (arr1[:20],'\\n')"
      ]
    },
    {
      "cell_type": "code",
      "execution_count": null,
      "id": "e29ab68a",
      "metadata": {
        "id": "e29ab68a",
        "outputId": "74e5ead8-ad54-4fc0-ab2a-670792422f41"
      },
      "outputs": [
        {
          "name": "stdout",
          "output_type": "stream",
          "text": [
            "[110 111 112 113 114 115 116 117 118 119] \n",
            "\n"
          ]
        }
      ],
      "source": [
        "print (arr1[10:20],'\\n')"
      ]
    },
    {
      "cell_type": "code",
      "execution_count": null,
      "id": "cb070360",
      "metadata": {
        "id": "cb070360",
        "outputId": "968a0e35-2ab5-4e91-a813-102506b2d7cd"
      },
      "outputs": [
        {
          "name": "stdout",
          "output_type": "stream",
          "text": [
            "[110 115 120 125 130 135 140 145]\n"
          ]
        }
      ],
      "source": [
        "print (arr1[10:50:5])"
      ]
    },
    {
      "cell_type": "code",
      "execution_count": null,
      "id": "1158643c",
      "metadata": {
        "id": "1158643c",
        "outputId": "6c90c08d-9e78-4740-d49a-47e68b1a6f4c"
      },
      "outputs": [
        {
          "name": "stdout",
          "output_type": "stream",
          "text": [
            "[100 110 120 130 140 150 160 170 180 190]\n"
          ]
        }
      ],
      "source": [
        "print (arr1[::10])"
      ]
    },
    {
      "cell_type": "code",
      "execution_count": null,
      "id": "5ed7c86e",
      "metadata": {
        "id": "5ed7c86e",
        "outputId": "aeddee66-9446-4398-d892-2da8e9651c38"
      },
      "outputs": [
        {
          "name": "stdout",
          "output_type": "stream",
          "text": [
            "slice(1, 10, 2)\n"
          ]
        }
      ],
      "source": [
        "arr_slice = slice (1,10,2)\n",
        "print (arr_slice)\n"
      ]
    },
    {
      "cell_type": "code",
      "execution_count": null,
      "id": "f363fd9d",
      "metadata": {
        "id": "f363fd9d",
        "outputId": "3464cf89-7f32-403d-9cfe-d705ced60a8e"
      },
      "outputs": [
        {
          "name": "stdout",
          "output_type": "stream",
          "text": [
            "[199 194 189 184 179 174 169 164 159 154 149 144 139 134 129 124 119 114\n",
            " 109 104]\n"
          ]
        }
      ],
      "source": [
        "print (arr1[::-5])"
      ]
    },
    {
      "cell_type": "code",
      "execution_count": null,
      "id": "4022d46a",
      "metadata": {
        "id": "4022d46a",
        "outputId": "ad8f7eab-1f78-4d38-c94b-b05ac5117d54"
      },
      "outputs": [
        {
          "data": {
            "text/plain": [
              "array([0, 1, 2, 3, 4, 5, 6, 7, 8])"
            ]
          },
          "execution_count": 10,
          "metadata": {},
          "output_type": "execute_result"
        }
      ],
      "source": [
        "arr1 =  np.arange(9)\n",
        "arr1"
      ]
    },
    {
      "cell_type": "code",
      "execution_count": null,
      "id": "e8c05ed2",
      "metadata": {
        "id": "e8c05ed2",
        "outputId": "de9d5cbe-5d7c-4678-adb7-d8b57686a7de"
      },
      "outputs": [
        {
          "data": {
            "text/plain": [
              "array([[0, 1, 2],\n",
              "       [3, 4, 5],\n",
              "       [6, 7, 8]])"
            ]
          },
          "execution_count": 11,
          "metadata": {},
          "output_type": "execute_result"
        }
      ],
      "source": [
        "arr1=arr1.reshape(3,3)\n",
        "arr1"
      ]
    },
    {
      "cell_type": "code",
      "execution_count": null,
      "id": "ba589f23",
      "metadata": {
        "id": "ba589f23",
        "outputId": "4ef04a36-1e3c-46bc-d810-0ce51b58f82c"
      },
      "outputs": [
        {
          "data": {
            "text/plain": [
              "array([[4, 5],\n",
              "       [7, 8]])"
            ]
          },
          "execution_count": 14,
          "metadata": {},
          "output_type": "execute_result"
        }
      ],
      "source": [
        "'''\n",
        "4  5\n",
        "7  8\n",
        "'''\n",
        "arr1[1:,1:]"
      ]
    },
    {
      "cell_type": "code",
      "execution_count": null,
      "id": "a591c7b5",
      "metadata": {
        "id": "a591c7b5",
        "outputId": "14e501c6-8ba3-45b1-eaba-51ede906b6b6"
      },
      "outputs": [
        {
          "name": "stdout",
          "output_type": "stream",
          "text": [
            "[[0 1]\n",
            " [3 4]]\n"
          ]
        }
      ],
      "source": [
        "arr2 = arr1[0:2,0:2]\n",
        "print (arr2)\n"
      ]
    },
    {
      "cell_type": "code",
      "execution_count": null,
      "id": "b6b6f561",
      "metadata": {
        "id": "b6b6f561",
        "outputId": "fd9dd9c7-0b98-4aa8-98b1-3aa26c27d0dc"
      },
      "outputs": [
        {
          "name": "stdout",
          "output_type": "stream",
          "text": [
            "[[0 1 2]\n",
            " [3 4 5]\n",
            " [6 7 8]]\n",
            "(3, 3)\n"
          ]
        }
      ],
      "source": [
        "\n",
        "print (arr1)\n",
        "print (arr1.shape)\n"
      ]
    },
    {
      "cell_type": "code",
      "execution_count": null,
      "id": "04a920d6",
      "metadata": {
        "id": "04a920d6",
        "outputId": "79f2c768-b06c-483a-9c25-a43ebac8f84d"
      },
      "outputs": [
        {
          "name": "stdout",
          "output_type": "stream",
          "text": [
            "2\n",
            "4\n"
          ]
        }
      ],
      "source": [
        "print (arr1.ndim)\n",
        "print (arr1.itemsize)\n"
      ]
    },
    {
      "cell_type": "code",
      "execution_count": null,
      "id": "b72aa2f7",
      "metadata": {
        "id": "b72aa2f7",
        "outputId": "42d7d9e0-0ddb-4c55-f3b9-8dbe9740091b"
      },
      "outputs": [
        {
          "name": "stdout",
          "output_type": "stream",
          "text": [
            "int32\n"
          ]
        }
      ],
      "source": [
        "print (arr1.dtype)"
      ]
    },
    {
      "cell_type": "code",
      "execution_count": null,
      "id": "e0d62585",
      "metadata": {
        "id": "e0d62585",
        "outputId": "cab527b5-7548-4fc8-f6c3-7711b7af8a70"
      },
      "outputs": [
        {
          "name": "stdout",
          "output_type": "stream",
          "text": [
            "9\n"
          ]
        }
      ],
      "source": [
        "print (arr1.size)"
      ]
    },
    {
      "cell_type": "code",
      "execution_count": null,
      "id": "d10a63df",
      "metadata": {
        "id": "d10a63df",
        "outputId": "8ceb062d-94af-42f2-a415-3be28bba8db2"
      },
      "outputs": [
        {
          "data": {
            "text/plain": [
              "array([[0, 1, 2],\n",
              "       [3, 4, 5],\n",
              "       [6, 7, 8]])"
            ]
          },
          "execution_count": 21,
          "metadata": {},
          "output_type": "execute_result"
        }
      ],
      "source": [
        "arr1"
      ]
    },
    {
      "cell_type": "code",
      "execution_count": null,
      "id": "93f72110",
      "metadata": {
        "id": "93f72110",
        "outputId": "ee49c73d-5b90-4f02-9607-55f7ae926fb0"
      },
      "outputs": [
        {
          "name": "stdout",
          "output_type": "stream",
          "text": [
            "0\n"
          ]
        }
      ],
      "source": [
        "print (arr1.min())"
      ]
    },
    {
      "cell_type": "code",
      "execution_count": null,
      "id": "c23e6c0e",
      "metadata": {
        "id": "c23e6c0e",
        "outputId": "41bfcb7b-7def-4a5b-cd77-d2dce5ef03fa"
      },
      "outputs": [
        {
          "name": "stdout",
          "output_type": "stream",
          "text": [
            "8\n"
          ]
        }
      ],
      "source": [
        "print (arr1.max())"
      ]
    },
    {
      "cell_type": "code",
      "execution_count": null,
      "id": "b47439a7",
      "metadata": {
        "id": "b47439a7",
        "outputId": "b9258ec9-ce7b-4e45-b030-084002562a0b"
      },
      "outputs": [
        {
          "data": {
            "text/plain": [
              "array([[0, 1, 2],\n",
              "       [3, 4, 5],\n",
              "       [6, 7, 8]])"
            ]
          },
          "execution_count": 24,
          "metadata": {},
          "output_type": "execute_result"
        }
      ],
      "source": [
        "arr1"
      ]
    },
    {
      "cell_type": "code",
      "execution_count": null,
      "id": "25865188",
      "metadata": {
        "id": "25865188",
        "outputId": "60a41d56-c53c-4e99-d664-f40035968aed"
      },
      "outputs": [
        {
          "name": "stdout",
          "output_type": "stream",
          "text": [
            "36\n"
          ]
        }
      ],
      "source": [
        "print (arr1.sum())"
      ]
    },
    {
      "cell_type": "code",
      "execution_count": null,
      "id": "3555ae65",
      "metadata": {
        "id": "3555ae65",
        "outputId": "32fe6917-a4ad-45e1-b02e-c7d290134202"
      },
      "outputs": [
        {
          "name": "stdout",
          "output_type": "stream",
          "text": [
            "[[0.         1.         1.41421356]\n",
            " [1.73205081 2.         2.23606798]\n",
            " [2.44948974 2.64575131 2.82842712]]\n"
          ]
        }
      ],
      "source": [
        "print (np.sqrt(arr1))"
      ]
    },
    {
      "cell_type": "code",
      "execution_count": null,
      "id": "20d988ea",
      "metadata": {
        "id": "20d988ea",
        "outputId": "24bd073e-8216-4eeb-f1f9-702781daa922"
      },
      "outputs": [
        {
          "name": "stdout",
          "output_type": "stream",
          "text": [
            "2.581988897471611\n"
          ]
        }
      ],
      "source": [
        "print (np.std(arr1))"
      ]
    },
    {
      "cell_type": "code",
      "execution_count": null,
      "id": "492637de",
      "metadata": {
        "id": "492637de",
        "outputId": "9460b814-527f-4feb-cbfb-c48966dd5310"
      },
      "outputs": [
        {
          "data": {
            "text/plain": [
              "['ALLOW_THREADS',\n",
              " 'AxisError',\n",
              " 'BUFSIZE',\n",
              " 'CLIP',\n",
              " 'ComplexWarning',\n",
              " 'DataSource',\n",
              " 'ERR_CALL',\n",
              " 'ERR_DEFAULT',\n",
              " 'ERR_IGNORE',\n",
              " 'ERR_LOG',\n",
              " 'ERR_PRINT',\n",
              " 'ERR_RAISE',\n",
              " 'ERR_WARN',\n",
              " 'FLOATING_POINT_SUPPORT',\n",
              " 'FPE_DIVIDEBYZERO',\n",
              " 'FPE_INVALID',\n",
              " 'FPE_OVERFLOW',\n",
              " 'FPE_UNDERFLOW',\n",
              " 'False_',\n",
              " 'Inf',\n",
              " 'Infinity',\n",
              " 'MAXDIMS',\n",
              " 'MAY_SHARE_BOUNDS',\n",
              " 'MAY_SHARE_EXACT',\n",
              " 'ModuleDeprecationWarning',\n",
              " 'NAN',\n",
              " 'NINF',\n",
              " 'NZERO',\n",
              " 'NaN',\n",
              " 'PINF',\n",
              " 'PZERO',\n",
              " 'RAISE',\n",
              " 'RankWarning',\n",
              " 'SHIFT_DIVIDEBYZERO',\n",
              " 'SHIFT_INVALID',\n",
              " 'SHIFT_OVERFLOW',\n",
              " 'SHIFT_UNDERFLOW',\n",
              " 'ScalarType',\n",
              " 'Tester',\n",
              " 'TooHardError',\n",
              " 'True_',\n",
              " 'UFUNC_BUFSIZE_DEFAULT',\n",
              " 'UFUNC_PYVALS_NAME',\n",
              " 'VisibleDeprecationWarning',\n",
              " 'WRAP',\n",
              " '_CopyMode',\n",
              " '_NoValue',\n",
              " '_UFUNC_API',\n",
              " '__NUMPY_SETUP__',\n",
              " '__all__',\n",
              " '__builtins__',\n",
              " '__cached__',\n",
              " '__config__',\n",
              " '__deprecated_attrs__',\n",
              " '__dir__',\n",
              " '__doc__',\n",
              " '__expired_functions__',\n",
              " '__file__',\n",
              " '__getattr__',\n",
              " '__git_version__',\n",
              " '__loader__',\n",
              " '__name__',\n",
              " '__package__',\n",
              " '__path__',\n",
              " '__spec__',\n",
              " '__version__',\n",
              " '_add_newdoc_ufunc',\n",
              " '_distributor_init',\n",
              " '_financial_names',\n",
              " '_from_dlpack',\n",
              " '_globals',\n",
              " '_mat',\n",
              " '_pytesttester',\n",
              " '_version',\n",
              " 'abs',\n",
              " 'absolute',\n",
              " 'add',\n",
              " 'add_docstring',\n",
              " 'add_newdoc',\n",
              " 'add_newdoc_ufunc',\n",
              " 'alen',\n",
              " 'all',\n",
              " 'allclose',\n",
              " 'alltrue',\n",
              " 'amax',\n",
              " 'amin',\n",
              " 'angle',\n",
              " 'any',\n",
              " 'append',\n",
              " 'apply_along_axis',\n",
              " 'apply_over_axes',\n",
              " 'arange',\n",
              " 'arccos',\n",
              " 'arccosh',\n",
              " 'arcsin',\n",
              " 'arcsinh',\n",
              " 'arctan',\n",
              " 'arctan2',\n",
              " 'arctanh',\n",
              " 'argmax',\n",
              " 'argmin',\n",
              " 'argpartition',\n",
              " 'argsort',\n",
              " 'argwhere',\n",
              " 'around',\n",
              " 'array',\n",
              " 'array2string',\n",
              " 'array_equal',\n",
              " 'array_equiv',\n",
              " 'array_repr',\n",
              " 'array_split',\n",
              " 'array_str',\n",
              " 'asanyarray',\n",
              " 'asarray',\n",
              " 'asarray_chkfinite',\n",
              " 'ascontiguousarray',\n",
              " 'asfarray',\n",
              " 'asfortranarray',\n",
              " 'asmatrix',\n",
              " 'asscalar',\n",
              " 'atleast_1d',\n",
              " 'atleast_2d',\n",
              " 'atleast_3d',\n",
              " 'average',\n",
              " 'bartlett',\n",
              " 'base_repr',\n",
              " 'binary_repr',\n",
              " 'bincount',\n",
              " 'bitwise_and',\n",
              " 'bitwise_not',\n",
              " 'bitwise_or',\n",
              " 'bitwise_xor',\n",
              " 'blackman',\n",
              " 'block',\n",
              " 'bmat',\n",
              " 'bool8',\n",
              " 'bool_',\n",
              " 'broadcast',\n",
              " 'broadcast_arrays',\n",
              " 'broadcast_shapes',\n",
              " 'broadcast_to',\n",
              " 'busday_count',\n",
              " 'busday_offset',\n",
              " 'busdaycalendar',\n",
              " 'byte',\n",
              " 'byte_bounds',\n",
              " 'bytes0',\n",
              " 'bytes_',\n",
              " 'c_',\n",
              " 'can_cast',\n",
              " 'cast',\n",
              " 'cbrt',\n",
              " 'cdouble',\n",
              " 'ceil',\n",
              " 'cfloat',\n",
              " 'char',\n",
              " 'character',\n",
              " 'chararray',\n",
              " 'choose',\n",
              " 'clip',\n",
              " 'clongdouble',\n",
              " 'clongfloat',\n",
              " 'column_stack',\n",
              " 'common_type',\n",
              " 'compare_chararrays',\n",
              " 'compat',\n",
              " 'complex128',\n",
              " 'complex64',\n",
              " 'complex_',\n",
              " 'complexfloating',\n",
              " 'compress',\n",
              " 'concatenate',\n",
              " 'conj',\n",
              " 'conjugate',\n",
              " 'convolve',\n",
              " 'copy',\n",
              " 'copysign',\n",
              " 'copyto',\n",
              " 'core',\n",
              " 'corrcoef',\n",
              " 'correlate',\n",
              " 'cos',\n",
              " 'cosh',\n",
              " 'count_nonzero',\n",
              " 'cov',\n",
              " 'cross',\n",
              " 'csingle',\n",
              " 'ctypeslib',\n",
              " 'cumprod',\n",
              " 'cumproduct',\n",
              " 'cumsum',\n",
              " 'datetime64',\n",
              " 'datetime_as_string',\n",
              " 'datetime_data',\n",
              " 'deg2rad',\n",
              " 'degrees',\n",
              " 'delete',\n",
              " 'deprecate',\n",
              " 'deprecate_with_doc',\n",
              " 'diag',\n",
              " 'diag_indices',\n",
              " 'diag_indices_from',\n",
              " 'diagflat',\n",
              " 'diagonal',\n",
              " 'diff',\n",
              " 'digitize',\n",
              " 'disp',\n",
              " 'divide',\n",
              " 'divmod',\n",
              " 'dot',\n",
              " 'double',\n",
              " 'dsplit',\n",
              " 'dstack',\n",
              " 'dtype',\n",
              " 'e',\n",
              " 'ediff1d',\n",
              " 'einsum',\n",
              " 'einsum_path',\n",
              " 'emath',\n",
              " 'empty',\n",
              " 'empty_like',\n",
              " 'equal',\n",
              " 'errstate',\n",
              " 'euler_gamma',\n",
              " 'exp',\n",
              " 'exp2',\n",
              " 'expand_dims',\n",
              " 'expm1',\n",
              " 'extract',\n",
              " 'eye',\n",
              " 'fabs',\n",
              " 'fastCopyAndTranspose',\n",
              " 'fft',\n",
              " 'fill_diagonal',\n",
              " 'find_common_type',\n",
              " 'finfo',\n",
              " 'fix',\n",
              " 'flatiter',\n",
              " 'flatnonzero',\n",
              " 'flexible',\n",
              " 'flip',\n",
              " 'fliplr',\n",
              " 'flipud',\n",
              " 'float16',\n",
              " 'float32',\n",
              " 'float64',\n",
              " 'float_',\n",
              " 'float_power',\n",
              " 'floating',\n",
              " 'floor',\n",
              " 'floor_divide',\n",
              " 'fmax',\n",
              " 'fmin',\n",
              " 'fmod',\n",
              " 'format_float_positional',\n",
              " 'format_float_scientific',\n",
              " 'format_parser',\n",
              " 'frexp',\n",
              " 'frombuffer',\n",
              " 'fromfile',\n",
              " 'fromfunction',\n",
              " 'fromiter',\n",
              " 'frompyfunc',\n",
              " 'fromregex',\n",
              " 'fromstring',\n",
              " 'full',\n",
              " 'full_like',\n",
              " 'gcd',\n",
              " 'generic',\n",
              " 'genfromtxt',\n",
              " 'geomspace',\n",
              " 'get_array_wrap',\n",
              " 'get_include',\n",
              " 'get_printoptions',\n",
              " 'getbufsize',\n",
              " 'geterr',\n",
              " 'geterrcall',\n",
              " 'geterrobj',\n",
              " 'gradient',\n",
              " 'greater',\n",
              " 'greater_equal',\n",
              " 'half',\n",
              " 'hamming',\n",
              " 'hanning',\n",
              " 'heaviside',\n",
              " 'histogram',\n",
              " 'histogram2d',\n",
              " 'histogram_bin_edges',\n",
              " 'histogramdd',\n",
              " 'hsplit',\n",
              " 'hstack',\n",
              " 'hypot',\n",
              " 'i0',\n",
              " 'identity',\n",
              " 'iinfo',\n",
              " 'imag',\n",
              " 'in1d',\n",
              " 'index_exp',\n",
              " 'indices',\n",
              " 'inexact',\n",
              " 'inf',\n",
              " 'info',\n",
              " 'infty',\n",
              " 'inner',\n",
              " 'insert',\n",
              " 'int0',\n",
              " 'int16',\n",
              " 'int32',\n",
              " 'int64',\n",
              " 'int8',\n",
              " 'int_',\n",
              " 'intc',\n",
              " 'integer',\n",
              " 'interp',\n",
              " 'intersect1d',\n",
              " 'intp',\n",
              " 'invert',\n",
              " 'is_busday',\n",
              " 'isclose',\n",
              " 'iscomplex',\n",
              " 'iscomplexobj',\n",
              " 'isfinite',\n",
              " 'isfortran',\n",
              " 'isin',\n",
              " 'isinf',\n",
              " 'isnan',\n",
              " 'isnat',\n",
              " 'isneginf',\n",
              " 'isposinf',\n",
              " 'isreal',\n",
              " 'isrealobj',\n",
              " 'isscalar',\n",
              " 'issctype',\n",
              " 'issubclass_',\n",
              " 'issubdtype',\n",
              " 'issubsctype',\n",
              " 'iterable',\n",
              " 'ix_',\n",
              " 'kaiser',\n",
              " 'kron',\n",
              " 'lcm',\n",
              " 'ldexp',\n",
              " 'left_shift',\n",
              " 'less',\n",
              " 'less_equal',\n",
              " 'lexsort',\n",
              " 'lib',\n",
              " 'linalg',\n",
              " 'linspace',\n",
              " 'little_endian',\n",
              " 'load',\n",
              " 'loadtxt',\n",
              " 'log',\n",
              " 'log10',\n",
              " 'log1p',\n",
              " 'log2',\n",
              " 'logaddexp',\n",
              " 'logaddexp2',\n",
              " 'logical_and',\n",
              " 'logical_not',\n",
              " 'logical_or',\n",
              " 'logical_xor',\n",
              " 'logspace',\n",
              " 'longcomplex',\n",
              " 'longdouble',\n",
              " 'longfloat',\n",
              " 'longlong',\n",
              " 'lookfor',\n",
              " 'ma',\n",
              " 'mask_indices',\n",
              " 'mat',\n",
              " 'math',\n",
              " 'matmul',\n",
              " 'matrix',\n",
              " 'matrixlib',\n",
              " 'max',\n",
              " 'maximum',\n",
              " 'maximum_sctype',\n",
              " 'may_share_memory',\n",
              " 'mean',\n",
              " 'median',\n",
              " 'memmap',\n",
              " 'meshgrid',\n",
              " 'mgrid',\n",
              " 'min',\n",
              " 'min_scalar_type',\n",
              " 'minimum',\n",
              " 'mintypecode',\n",
              " 'mod',\n",
              " 'modf',\n",
              " 'moveaxis',\n",
              " 'msort',\n",
              " 'multiply',\n",
              " 'nan',\n",
              " 'nan_to_num',\n",
              " 'nanargmax',\n",
              " 'nanargmin',\n",
              " 'nancumprod',\n",
              " 'nancumsum',\n",
              " 'nanmax',\n",
              " 'nanmean',\n",
              " 'nanmedian',\n",
              " 'nanmin',\n",
              " 'nanpercentile',\n",
              " 'nanprod',\n",
              " 'nanquantile',\n",
              " 'nanstd',\n",
              " 'nansum',\n",
              " 'nanvar',\n",
              " 'nbytes',\n",
              " 'ndarray',\n",
              " 'ndenumerate',\n",
              " 'ndim',\n",
              " 'ndindex',\n",
              " 'nditer',\n",
              " 'negative',\n",
              " 'nested_iters',\n",
              " 'newaxis',\n",
              " 'nextafter',\n",
              " 'nonzero',\n",
              " 'not_equal',\n",
              " 'numarray',\n",
              " 'number',\n",
              " 'obj2sctype',\n",
              " 'object0',\n",
              " 'object_',\n",
              " 'ogrid',\n",
              " 'oldnumeric',\n",
              " 'ones',\n",
              " 'ones_like',\n",
              " 'os',\n",
              " 'outer',\n",
              " 'packbits',\n",
              " 'pad',\n",
              " 'partition',\n",
              " 'percentile',\n",
              " 'pi',\n",
              " 'piecewise',\n",
              " 'place',\n",
              " 'poly',\n",
              " 'poly1d',\n",
              " 'polyadd',\n",
              " 'polyder',\n",
              " 'polydiv',\n",
              " 'polyfit',\n",
              " 'polyint',\n",
              " 'polymul',\n",
              " 'polynomial',\n",
              " 'polysub',\n",
              " 'polyval',\n",
              " 'positive',\n",
              " 'power',\n",
              " 'printoptions',\n",
              " 'prod',\n",
              " 'product',\n",
              " 'promote_types',\n",
              " 'ptp',\n",
              " 'put',\n",
              " 'put_along_axis',\n",
              " 'putmask',\n",
              " 'quantile',\n",
              " 'r_',\n",
              " 'rad2deg',\n",
              " 'radians',\n",
              " 'random',\n",
              " 'ravel',\n",
              " 'ravel_multi_index',\n",
              " 'real',\n",
              " 'real_if_close',\n",
              " 'rec',\n",
              " 'recarray',\n",
              " 'recfromcsv',\n",
              " 'recfromtxt',\n",
              " 'reciprocal',\n",
              " 'record',\n",
              " 'remainder',\n",
              " 'repeat',\n",
              " 'require',\n",
              " 'reshape',\n",
              " 'resize',\n",
              " 'result_type',\n",
              " 'right_shift',\n",
              " 'rint',\n",
              " 'roll',\n",
              " 'rollaxis',\n",
              " 'roots',\n",
              " 'rot90',\n",
              " 'round',\n",
              " 'round_',\n",
              " 'row_stack',\n",
              " 's_',\n",
              " 'safe_eval',\n",
              " 'save',\n",
              " 'savetxt',\n",
              " 'savez',\n",
              " 'savez_compressed',\n",
              " 'sctype2char',\n",
              " 'sctypeDict',\n",
              " 'sctypes',\n",
              " 'searchsorted',\n",
              " 'select',\n",
              " 'set_numeric_ops',\n",
              " 'set_printoptions',\n",
              " 'set_string_function',\n",
              " 'setbufsize',\n",
              " 'setdiff1d',\n",
              " 'seterr',\n",
              " 'seterrcall',\n",
              " 'seterrobj',\n",
              " 'setxor1d',\n",
              " 'shape',\n",
              " 'shares_memory',\n",
              " 'short',\n",
              " 'show_config',\n",
              " 'sign',\n",
              " 'signbit',\n",
              " 'signedinteger',\n",
              " 'sin',\n",
              " 'sinc',\n",
              " 'single',\n",
              " 'singlecomplex',\n",
              " 'sinh',\n",
              " 'size',\n",
              " 'sometrue',\n",
              " 'sort',\n",
              " 'sort_complex',\n",
              " 'source',\n",
              " 'spacing',\n",
              " 'split',\n",
              " 'sqrt',\n",
              " 'square',\n",
              " 'squeeze',\n",
              " 'stack',\n",
              " 'std',\n",
              " 'str0',\n",
              " 'str_',\n",
              " 'string_',\n",
              " 'subtract',\n",
              " 'sum',\n",
              " 'swapaxes',\n",
              " 'sys',\n",
              " 'take',\n",
              " 'take_along_axis',\n",
              " 'tan',\n",
              " 'tanh',\n",
              " 'tensordot',\n",
              " 'test',\n",
              " 'testing',\n",
              " 'tile',\n",
              " 'timedelta64',\n",
              " 'trace',\n",
              " 'tracemalloc_domain',\n",
              " 'transpose',\n",
              " 'trapz',\n",
              " 'tri',\n",
              " 'tril',\n",
              " 'tril_indices',\n",
              " 'tril_indices_from',\n",
              " 'trim_zeros',\n",
              " 'triu',\n",
              " 'triu_indices',\n",
              " 'triu_indices_from',\n",
              " 'true_divide',\n",
              " 'trunc',\n",
              " 'typecodes',\n",
              " 'typename',\n",
              " 'ubyte',\n",
              " 'ufunc',\n",
              " 'uint',\n",
              " 'uint0',\n",
              " 'uint16',\n",
              " 'uint32',\n",
              " 'uint64',\n",
              " 'uint8',\n",
              " 'uintc',\n",
              " 'uintp',\n",
              " 'ulonglong',\n",
              " 'unicode_',\n",
              " 'union1d',\n",
              " 'unique',\n",
              " 'unpackbits',\n",
              " 'unravel_index',\n",
              " 'unsignedinteger',\n",
              " 'unwrap',\n",
              " 'use_hugepage',\n",
              " 'ushort',\n",
              " 'vander',\n",
              " 'var',\n",
              " 'vdot',\n",
              " 'vectorize',\n",
              " 'version',\n",
              " 'void',\n",
              " 'void0',\n",
              " 'vsplit',\n",
              " 'vstack',\n",
              " 'warnings',\n",
              " 'where',\n",
              " 'who',\n",
              " 'zeros',\n",
              " 'zeros_like']"
            ]
          },
          "execution_count": 28,
          "metadata": {},
          "output_type": "execute_result"
        }
      ],
      "source": [
        "dir (np)"
      ]
    },
    {
      "cell_type": "code",
      "execution_count": null,
      "id": "a0236301",
      "metadata": {
        "id": "a0236301",
        "outputId": "dfe0797a-c5d5-4ab8-c5f7-415436416099"
      },
      "outputs": [
        {
          "name": "stdout",
          "output_type": "stream",
          "text": [
            "[[0. 0.]\n",
            " [0. 0.]\n",
            " [0. 0.]]\n"
          ]
        }
      ],
      "source": [
        "arr5 = np.empty([3,2], dtype =  float)\n",
        "print (arr5)\n"
      ]
    },
    {
      "cell_type": "code",
      "execution_count": null,
      "id": "cacc25f4",
      "metadata": {
        "id": "cacc25f4",
        "outputId": "ee72a588-c63f-4119-9bf3-bb4eff167087"
      },
      "outputs": [
        {
          "name": "stdout",
          "output_type": "stream",
          "text": [
            "[[-1698060240         624]\n",
            " [          0           0]\n",
            " [     131074 -2147483648]]\n"
          ]
        }
      ],
      "source": [
        "arr5 = np.empty([3,2], dtype =  int)\n",
        "print (arr5)\n"
      ]
    },
    {
      "cell_type": "code",
      "execution_count": null,
      "id": "284219b7",
      "metadata": {
        "id": "284219b7",
        "outputId": "1741da77-f1be-4c4e-abcf-fc2db2ce99b6"
      },
      "outputs": [
        {
          "name": "stdout",
          "output_type": "stream",
          "text": [
            "[[False False]\n",
            " [False False]\n",
            " [False False]]\n"
          ]
        }
      ],
      "source": [
        "arr5 = np.empty([3,2], dtype =  bool)\n",
        "print (arr5)\n"
      ]
    },
    {
      "cell_type": "code",
      "execution_count": null,
      "id": "e1f3e1bd",
      "metadata": {
        "id": "e1f3e1bd",
        "outputId": "45532a1e-5eaa-4cc9-a569-9e0d6ce617d1"
      },
      "outputs": [
        {
          "name": "stdout",
          "output_type": "stream",
          "text": [
            "[['' '']\n",
            " ['' '']\n",
            " ['' '']]\n"
          ]
        }
      ],
      "source": [
        "arr5 = np.empty([3,2], dtype =  str)\n",
        "print (arr5)\n"
      ]
    },
    {
      "cell_type": "code",
      "execution_count": null,
      "id": "7d53f466",
      "metadata": {
        "id": "7d53f466",
        "outputId": "83bd5eba-dae7-4d1b-d1b8-0c2963daffa2"
      },
      "outputs": [
        {
          "name": "stdout",
          "output_type": "stream",
          "text": [
            "ALLOW_THREADS\tAxisError\tBUFSIZE\tCLIP\tComplexWarning\tDataSource\tERR_CALL\tERR_DEFAULT\tERR_IGNORE\tERR_LOG\tERR_PRINT\tERR_RAISE\tERR_WARN\tFLOATING_POINT_SUPPORT\tFPE_DIVIDEBYZERO\tFPE_INVALID\tFPE_OVERFLOW\tFPE_UNDERFLOW\tFalse_\tInf\tInfinity\tMAXDIMS\tMAY_SHARE_BOUNDS\tMAY_SHARE_EXACT\tModuleDeprecationWarning\tNAN\tNINF\tNZERO\tNaN\tPINF\tPZERO\tRAISE\tRankWarning\tSHIFT_DIVIDEBYZERO\tSHIFT_INVALID\tSHIFT_OVERFLOW\tSHIFT_UNDERFLOW\tScalarType\tTester\tTooHardError\tTrue_\tUFUNC_BUFSIZE_DEFAULT\tUFUNC_PYVALS_NAME\tVisibleDeprecationWarning\tWRAP\t_CopyMode\t_NoValue\t_UFUNC_API\t__NUMPY_SETUP__\t__all__\t__builtins__\t__cached__\t__config__\t__deprecated_attrs__\t__dir__\t__doc__\t__expired_functions__\t__file__\t__getattr__\t__git_version__\t__loader__\t__name__\t__package__\t__path__\t__spec__\t__version__\t_add_newdoc_ufunc\t_distributor_init\t_financial_names\t_from_dlpack\t_globals\t_mat\t_pytesttester\t_version\tabs\tabsolute\tadd\tadd_docstring\tadd_newdoc\tadd_newdoc_ufunc\talen\tall\tallclose\talltrue\tamax\tamin\tangle\tany\tappend\tapply_along_axis\tapply_over_axes\tarange\tarccos\tarccosh\tarcsin\tarcsinh\tarctan\tarctan2\tarctanh\targmax\targmin\targpartition\targsort\targwhere\taround\tarray\tarray2string\tarray_equal\tarray_equiv\tarray_repr\tarray_split\tarray_str\tasanyarray\tasarray\tasarray_chkfinite\tascontiguousarray\tasfarray\tasfortranarray\tasmatrix\tasscalar\tatleast_1d\tatleast_2d\tatleast_3d\taverage\tbartlett\tbase_repr\tbinary_repr\tbincount\tbitwise_and\tbitwise_not\tbitwise_or\tbitwise_xor\tblackman\tblock\tbmat\tbool8\tbool_\tbroadcast\tbroadcast_arrays\tbroadcast_shapes\tbroadcast_to\tbusday_count\tbusday_offset\tbusdaycalendar\tbyte\tbyte_bounds\tbytes0\tbytes_\tc_\tcan_cast\tcast\tcbrt\tcdouble\tceil\tcfloat\tchar\tcharacter\tchararray\tchoose\tclip\tclongdouble\tclongfloat\tcolumn_stack\tcommon_type\tcompare_chararrays\tcompat\tcomplex128\tcomplex64\tcomplex_\tcomplexfloating\tcompress\tconcatenate\tconj\tconjugate\tconvolve\tcopy\tcopysign\tcopyto\tcore\tcorrcoef\tcorrelate\tcos\tcosh\tcount_nonzero\tcov\tcross\tcsingle\tctypeslib\tcumprod\tcumproduct\tcumsum\tdatetime64\tdatetime_as_string\tdatetime_data\tdeg2rad\tdegrees\tdelete\tdeprecate\tdeprecate_with_doc\tdiag\tdiag_indices\tdiag_indices_from\tdiagflat\tdiagonal\tdiff\tdigitize\tdisp\tdivide\tdivmod\tdot\tdouble\tdsplit\tdstack\tdtype\te\tediff1d\teinsum\teinsum_path\temath\tempty\tempty_like\tequal\terrstate\teuler_gamma\texp\texp2\texpand_dims\texpm1\textract\teye\tfabs\tfastCopyAndTranspose\tfft\tfill_diagonal\tfind_common_type\tfinfo\tfix\tflatiter\tflatnonzero\tflexible\tflip\tfliplr\tflipud\tfloat16\tfloat32\tfloat64\tfloat_\tfloat_power\tfloating\tfloor\tfloor_divide\tfmax\tfmin\tfmod\tformat_float_positional\tformat_float_scientific\tformat_parser\tfrexp\tfrombuffer\tfromfile\tfromfunction\tfromiter\tfrompyfunc\tfromregex\tfromstring\tfull\tfull_like\tgcd\tgeneric\tgenfromtxt\tgeomspace\tget_array_wrap\tget_include\tget_printoptions\tgetbufsize\tgeterr\tgeterrcall\tgeterrobj\tgradient\tgreater\tgreater_equal\thalf\thamming\thanning\theaviside\thistogram\thistogram2d\thistogram_bin_edges\thistogramdd\thsplit\thstack\thypot\ti0\tidentity\tiinfo\timag\tin1d\tindex_exp\tindices\tinexact\tinf\tinfo\tinfty\tinner\tinsert\tint0\tint16\tint32\tint64\tint8\tint_\tintc\tinteger\tinterp\tintersect1d\tintp\tinvert\tis_busday\tisclose\tiscomplex\tiscomplexobj\tisfinite\tisfortran\tisin\tisinf\tisnan\tisnat\tisneginf\tisposinf\tisreal\tisrealobj\tisscalar\tissctype\tissubclass_\tissubdtype\tissubsctype\titerable\tix_\tkaiser\tkron\tlcm\tldexp\tleft_shift\tless\tless_equal\tlexsort\tlib\tlinalg\tlinspace\tlittle_endian\tload\tloadtxt\tlog\tlog10\tlog1p\tlog2\tlogaddexp\tlogaddexp2\tlogical_and\tlogical_not\tlogical_or\tlogical_xor\tlogspace\tlongcomplex\tlongdouble\tlongfloat\tlonglong\tlookfor\tma\tmask_indices\tmat\tmath\tmatmul\tmatrix\tmatrixlib\tmax\tmaximum\tmaximum_sctype\tmay_share_memory\tmean\tmedian\tmemmap\tmeshgrid\tmgrid\tmin\tmin_scalar_type\tminimum\tmintypecode\tmod\tmodf\tmoveaxis\tmsort\tmultiply\tnan\tnan_to_num\tnanargmax\tnanargmin\tnancumprod\tnancumsum\tnanmax\tnanmean\tnanmedian\tnanmin\tnanpercentile\tnanprod\tnanquantile\tnanstd\tnansum\tnanvar\tnbytes\tndarray\tndenumerate\tndim\tndindex\tnditer\tnegative\tnested_iters\tnewaxis\tnextafter\tnonzero\tnot_equal\tnumarray\tnumber\tobj2sctype\tobject0\tobject_\togrid\toldnumeric\tones\tones_like\tos\touter\tpackbits\tpad\tpartition\tpercentile\tpi\tpiecewise\tplace\tpoly\tpoly1d\tpolyadd\tpolyder\tpolydiv\tpolyfit\tpolyint\tpolymul\tpolynomial\tpolysub\tpolyval\tpositive\tpower\tprintoptions\tprod\tproduct\tpromote_types\tptp\tput\tput_along_axis\tputmask\tquantile\tr_\trad2deg\tradians\trandom\travel\travel_multi_index\treal\treal_if_close\trec\trecarray\trecfromcsv\trecfromtxt\treciprocal\trecord\tremainder\trepeat\trequire\treshape\tresize\tresult_type\tright_shift\trint\troll\trollaxis\troots\trot90\tround\tround_\trow_stack\ts_\tsafe_eval\tsave\tsavetxt\tsavez\tsavez_compressed\tsctype2char\tsctypeDict\tsctypes\tsearchsorted\tselect\tset_numeric_ops\tset_printoptions\tset_string_function\tsetbufsize\tsetdiff1d\tseterr\tseterrcall\tseterrobj\tsetxor1d\tshape\tshares_memory\tshort\tshow_config\tsign\tsignbit\tsignedinteger\tsin\tsinc\tsingle\tsinglecomplex\tsinh\tsize\tsometrue\tsort\tsort_complex\tsource\tspacing\tsplit\tsqrt\tsquare\tsqueeze\tstack\tstd\tstr0\tstr_\tstring_\tsubtract\tsum\tswapaxes\tsys\ttake\ttake_along_axis\ttan\ttanh\ttensordot\ttest\ttesting\ttile\ttimedelta64\ttrace\ttracemalloc_domain\ttranspose\ttrapz\ttri\ttril\ttril_indices\ttril_indices_from\ttrim_zeros\ttriu\ttriu_indices\ttriu_indices_from\ttrue_divide\ttrunc\ttypecodes\ttypename\tubyte\tufunc\tuint\tuint0\tuint16\tuint32\tuint64\tuint8\tuintc\tuintp\tulonglong\tunicode_\tunion1d\tunique\tunpackbits\tunravel_index\tunsignedinteger\tunwrap\tuse_hugepage\tushort\tvander\tvar\tvdot\tvectorize\tversion\tvoid\tvoid0\tvsplit\tvstack\twarnings\twhere\twho\tzeros\tzeros_like\t"
          ]
        }
      ],
      "source": [
        "import numpy\n",
        "for name in dir(numpy):\n",
        "    print (name, end = '\\t')\n"
      ]
    },
    {
      "cell_type": "code",
      "execution_count": null,
      "id": "ca89dcaf",
      "metadata": {
        "id": "ca89dcaf",
        "outputId": "8d9643da-262b-47ff-8d1f-01e709a9e2bb"
      },
      "outputs": [
        {
          "name": "stdout",
          "output_type": "stream",
          "text": [
            "[10, 20, 30]\n",
            "[10 20 30]\n",
            "[ 10 100  30]\n"
          ]
        }
      ],
      "source": [
        "list1= [10,20,30]\n",
        "arr1=  np.array(list1)\n",
        "arr11= np.array(arr1)\n",
        "arr11[1] =100\n",
        "print (list1)\n",
        "print (arr1)\n",
        "print (arr11)\n"
      ]
    },
    {
      "cell_type": "code",
      "execution_count": null,
      "id": "e17d855a",
      "metadata": {
        "id": "e17d855a",
        "outputId": "1fd09be8-0ba1-4114-a344-1beec28f27b5"
      },
      "outputs": [
        {
          "name": "stdout",
          "output_type": "stream",
          "text": [
            "[50, 60, 70]\n",
            "[ 50 100  70]\n",
            "[ 50 100  70]\n"
          ]
        }
      ],
      "source": [
        "list2 =[50,60,70]\n",
        "arr2=  np.asarray(list2)\n",
        "arr21= np.asarray(arr2)\n",
        "arr21[1] =100\n",
        "print (list2)\n",
        "print (arr2)\n",
        "print (arr21)\n",
        "\n"
      ]
    },
    {
      "cell_type": "code",
      "execution_count": null,
      "id": "ea1b18db",
      "metadata": {
        "id": "ea1b18db",
        "outputId": "493b6755-7d84-458a-ce82-4cb3a29e0cd7"
      },
      "outputs": [
        {
          "data": {
            "text/plain": [
              "array([1., 2., 3.])"
            ]
          },
          "execution_count": 36,
          "metadata": {},
          "output_type": "execute_result"
        }
      ],
      "source": [
        "arr1 = np.array([1, 2, 3], dtype=np.float64)\n",
        "arr1"
      ]
    },
    {
      "cell_type": "code",
      "execution_count": null,
      "id": "187c8fa5",
      "metadata": {
        "id": "187c8fa5",
        "outputId": "7f70a46d-8de6-4966-9438-4b810eb9d724"
      },
      "outputs": [
        {
          "data": {
            "text/plain": [
              "array([ True,  True,  True])"
            ]
          },
          "execution_count": 37,
          "metadata": {},
          "output_type": "execute_result"
        }
      ],
      "source": [
        "arr1 = np.array([1, 2, 3], dtype=bool)\n",
        "arr1"
      ]
    },
    {
      "cell_type": "code",
      "execution_count": null,
      "id": "dab6a13e",
      "metadata": {
        "id": "dab6a13e",
        "outputId": "4b8487eb-e7a5-4155-b70b-a58980c5f26e"
      },
      "outputs": [
        {
          "name": "stdout",
          "output_type": "stream",
          "text": [
            "[1 2 3 4 5]\n",
            "int32\n"
          ]
        }
      ],
      "source": [
        "arr = np.array([1, 2, 3, 4, 5])\n",
        "print (arr)\n",
        "print (arr.dtype)\n"
      ]
    },
    {
      "cell_type": "code",
      "execution_count": null,
      "id": "db83e49b",
      "metadata": {
        "id": "db83e49b",
        "outputId": "aaba0f74-c309-4e7b-8f2d-d882c293071e"
      },
      "outputs": [
        {
          "data": {
            "text/plain": [
              "array([1., 2., 3., 4., 5.])"
            ]
          },
          "execution_count": 39,
          "metadata": {},
          "output_type": "execute_result"
        }
      ],
      "source": [
        "float_arr = arr.astype(np.float64)\n",
        "float_arr"
      ]
    },
    {
      "cell_type": "code",
      "execution_count": null,
      "id": "4bfdec7a",
      "metadata": {
        "id": "4bfdec7a",
        "outputId": "48e96d48-5db1-4f3b-8f92-09293fbebea2"
      },
      "outputs": [
        {
          "name": "stdout",
          "output_type": "stream",
          "text": [
            "[0 1 2 3]\n"
          ]
        }
      ],
      "source": [
        "\n",
        "arr = np.array([3, 2, 0, 1])\n",
        "print(np.sort(arr))\n"
      ]
    },
    {
      "cell_type": "code",
      "execution_count": null,
      "id": "8f325619",
      "metadata": {
        "id": "8f325619",
        "outputId": "277650fd-c017-4a4a-bcfc-c81de9697ccc"
      },
      "outputs": [
        {
          "name": "stdout",
          "output_type": "stream",
          "text": [
            "['apple' 'banana' 'cherry']\n"
          ]
        }
      ],
      "source": [
        "\n",
        "arr = np.array(['banana', 'cherry', 'apple'])\n",
        "print(np.sort(arr))\n"
      ]
    },
    {
      "cell_type": "code",
      "execution_count": null,
      "id": "fd4b9432",
      "metadata": {
        "id": "fd4b9432",
        "outputId": "2f200ab6-2ee4-4422-a3be-8b9826b391b4"
      },
      "outputs": [
        {
          "name": "stdout",
          "output_type": "stream",
          "text": [
            "['cherry' 'banana' 'apple']\n"
          ]
        }
      ],
      "source": [
        "\n",
        "arr = np.array(['banana', 'cherry', 'apple'])\n",
        "print(np.sort(arr)[::-1])\n"
      ]
    },
    {
      "cell_type": "code",
      "execution_count": null,
      "id": "24a34ae4",
      "metadata": {
        "id": "24a34ae4",
        "outputId": "ebbe5ae7-ed1a-4900-882d-12a6d52f56b2"
      },
      "outputs": [
        {
          "name": "stdout",
          "output_type": "stream",
          "text": [
            "[[2 3 4]\n",
            " [0 1 5]]\n"
          ]
        }
      ],
      "source": [
        "\n",
        "arr = np.array([[3, 2, 4], [5, 0, 1]])\n",
        "print(np.sort(arr))\n",
        "\n"
      ]
    },
    {
      "cell_type": "code",
      "execution_count": null,
      "id": "e6cebb61",
      "metadata": {
        "id": "e6cebb61",
        "outputId": "364e37c7-06b9-43b5-da71-78819645ebb0"
      },
      "outputs": [
        {
          "name": "stdout",
          "output_type": "stream",
          "text": [
            "[[3 2 4]\n",
            " [5 0 1]]\n"
          ]
        }
      ],
      "source": [
        "arr = np.array([[3, 2, 4], [5, 0, 1]])\n",
        "print (arr)\n"
      ]
    },
    {
      "cell_type": "code",
      "execution_count": null,
      "id": "29117e13",
      "metadata": {
        "id": "29117e13",
        "outputId": "c0340a5f-0940-423d-ac67-7a7889b110a3"
      },
      "outputs": [
        {
          "data": {
            "text/plain": [
              "array([[3, 2, 4],\n",
              "       [5, 0, 1]])"
            ]
          },
          "execution_count": 48,
          "metadata": {},
          "output_type": "execute_result"
        }
      ],
      "source": [
        "arr"
      ]
    },
    {
      "cell_type": "code",
      "execution_count": null,
      "id": "fc6b817c",
      "metadata": {
        "id": "fc6b817c",
        "outputId": "87061764-acc0-4ab7-863c-822ddfe933ba"
      },
      "outputs": [
        {
          "name": "stdout",
          "output_type": "stream",
          "text": [
            "[[3 0 1]\n",
            " [5 2 4]]\n"
          ]
        }
      ],
      "source": [
        "print (np.sort(arr, axis = 0))\n"
      ]
    },
    {
      "cell_type": "code",
      "execution_count": null,
      "id": "cadcc3fb",
      "metadata": {
        "id": "cadcc3fb",
        "outputId": "ea88a04a-bc5d-4dc5-e14c-63dffb593fcf"
      },
      "outputs": [
        {
          "name": "stdout",
          "output_type": "stream",
          "text": [
            "[[2 3 4]\n",
            " [0 1 5]]\n"
          ]
        }
      ],
      "source": [
        "print (np.sort(arr, axis = 1))\n"
      ]
    },
    {
      "cell_type": "code",
      "execution_count": null,
      "id": "5395c78b",
      "metadata": {
        "id": "5395c78b",
        "outputId": "d3f23038-fede-43ec-a187-29abeeb8eefb"
      },
      "outputs": [
        {
          "ename": "AxisError",
          "evalue": "axis 3 is out of bounds for array of dimension 2",
          "output_type": "error",
          "traceback": [
            "\u001b[1;31m---------------------------------------------------------------------------\u001b[0m",
            "\u001b[1;31mAxisError\u001b[0m                                 Traceback (most recent call last)",
            "Cell \u001b[1;32mIn [51], line 1\u001b[0m\n\u001b[1;32m----> 1\u001b[0m \u001b[38;5;28mprint\u001b[39m (\u001b[43mnp\u001b[49m\u001b[38;5;241;43m.\u001b[39;49m\u001b[43msort\u001b[49m\u001b[43m(\u001b[49m\u001b[43marr\u001b[49m\u001b[43m,\u001b[49m\u001b[43m \u001b[49m\u001b[43maxis\u001b[49m\u001b[43m \u001b[49m\u001b[38;5;241;43m=\u001b[39;49m\u001b[43m \u001b[49m\u001b[38;5;241;43m3\u001b[39;49m\u001b[43m)\u001b[49m)\n",
            "File \u001b[1;32m<__array_function__ internals>:180\u001b[0m, in \u001b[0;36msort\u001b[1;34m(*args, **kwargs)\u001b[0m\n",
            "File \u001b[1;32m~\\AppData\\Roaming\\Python\\Python39\\site-packages\\numpy\\core\\fromnumeric.py:1004\u001b[0m, in \u001b[0;36msort\u001b[1;34m(a, axis, kind, order)\u001b[0m\n\u001b[0;32m   1002\u001b[0m \u001b[38;5;28;01melse\u001b[39;00m:\n\u001b[0;32m   1003\u001b[0m     a \u001b[38;5;241m=\u001b[39m asanyarray(a)\u001b[38;5;241m.\u001b[39mcopy(order\u001b[38;5;241m=\u001b[39m\u001b[38;5;124m\"\u001b[39m\u001b[38;5;124mK\u001b[39m\u001b[38;5;124m\"\u001b[39m)\n\u001b[1;32m-> 1004\u001b[0m \u001b[43ma\u001b[49m\u001b[38;5;241;43m.\u001b[39;49m\u001b[43msort\u001b[49m\u001b[43m(\u001b[49m\u001b[43maxis\u001b[49m\u001b[38;5;241;43m=\u001b[39;49m\u001b[43maxis\u001b[49m\u001b[43m,\u001b[49m\u001b[43m \u001b[49m\u001b[43mkind\u001b[49m\u001b[38;5;241;43m=\u001b[39;49m\u001b[43mkind\u001b[49m\u001b[43m,\u001b[49m\u001b[43m \u001b[49m\u001b[43morder\u001b[49m\u001b[38;5;241;43m=\u001b[39;49m\u001b[43morder\u001b[49m\u001b[43m)\u001b[49m\n\u001b[0;32m   1005\u001b[0m \u001b[38;5;28;01mreturn\u001b[39;00m a\n",
            "\u001b[1;31mAxisError\u001b[0m: axis 3 is out of bounds for array of dimension 2"
          ]
        }
      ],
      "source": [
        "print (np.sort(arr, axis = 3))"
      ]
    },
    {
      "cell_type": "code",
      "execution_count": null,
      "id": "23a7a416",
      "metadata": {
        "id": "23a7a416",
        "outputId": "d09025e6-f75f-40a5-989b-1c4c226da779"
      },
      "outputs": [
        {
          "name": "stdout",
          "output_type": "stream",
          "text": [
            "[10 11 12 13 14 15 16 17 18]\n"
          ]
        }
      ],
      "source": [
        "import numpy as np\n",
        "arr= np.arange(10,19)\n",
        "print (arr)\n"
      ]
    },
    {
      "cell_type": "code",
      "execution_count": null,
      "id": "b8e9da26",
      "metadata": {
        "id": "b8e9da26",
        "outputId": "fe15bb7b-261b-4a25-c93d-968af4891f25"
      },
      "outputs": [
        {
          "name": "stdout",
          "output_type": "stream",
          "text": [
            "[10 11 13 14 15 16 17 18]\n"
          ]
        }
      ],
      "source": [
        "arr= np.delete (arr, 2)\n",
        "print (arr)\n"
      ]
    },
    {
      "cell_type": "code",
      "execution_count": null,
      "id": "588b40af",
      "metadata": {
        "id": "588b40af",
        "outputId": "3f17b23c-c302-42b5-dc5a-045fdf518dc0"
      },
      "outputs": [
        {
          "data": {
            "text/plain": [
              "array([10, 11, 12, 13, 14, 15, 16, 17, 18])"
            ]
          },
          "execution_count": 55,
          "metadata": {},
          "output_type": "execute_result"
        }
      ],
      "source": [
        "arr= np.arange(10,19)\n",
        "arr"
      ]
    },
    {
      "cell_type": "code",
      "execution_count": null,
      "id": "2711c936",
      "metadata": {
        "id": "2711c936",
        "outputId": "94ae8d81-3379-4777-a1d0-53cbbe76626f"
      },
      "outputs": [
        {
          "name": "stdout",
          "output_type": "stream",
          "text": [
            "[10 11 13 14 16 17 18]\n"
          ]
        }
      ],
      "source": [
        "\n",
        "arr= np.arange(10,19)\n",
        "arr= np.delete (arr, [2,5])\n",
        "print (arr)\n"
      ]
    },
    {
      "cell_type": "code",
      "execution_count": null,
      "id": "8bd9f5d7",
      "metadata": {
        "id": "8bd9f5d7",
        "outputId": "dc741775-a557-4fc2-fba9-0a969f2f0efc"
      },
      "outputs": [
        {
          "name": "stdout",
          "output_type": "stream",
          "text": [
            "[10 11 12 13 14 15 16 17 18]\n",
            "[10 11 13 14 16 17]\n"
          ]
        }
      ],
      "source": [
        "\n",
        "arr= np.arange(10,19)\n",
        "print (arr)\n",
        "arr= np.delete (arr, [2,5,8])\n",
        "print (arr)"
      ]
    },
    {
      "cell_type": "code",
      "execution_count": null,
      "id": "bfe4efea",
      "metadata": {
        "id": "bfe4efea",
        "outputId": "e93ab3bc-1516-46bd-f17b-5198064cd46a"
      },
      "outputs": [
        {
          "data": {
            "text/plain": [
              "array([[10, 11, 12, 13],\n",
              "       [14, 15, 16, 17],\n",
              "       [18, 19, 20, 21]])"
            ]
          },
          "execution_count": 58,
          "metadata": {},
          "output_type": "execute_result"
        }
      ],
      "source": [
        "\n",
        "arr= np.arange(10,22)\n",
        "arr2 = arr.reshape(3,4)\n",
        "arr2\n"
      ]
    },
    {
      "cell_type": "code",
      "execution_count": null,
      "id": "0a90f95b",
      "metadata": {
        "id": "0a90f95b",
        "outputId": "6f88d302-dce8-4620-e777-26c54074e43c"
      },
      "outputs": [
        {
          "data": {
            "text/plain": [
              "array([[10, 11, 12, 13],\n",
              "       [18, 19, 20, 21]])"
            ]
          },
          "execution_count": 59,
          "metadata": {},
          "output_type": "execute_result"
        }
      ],
      "source": [
        "a= np.delete (arr2,1,0)\n",
        "a\n"
      ]
    },
    {
      "cell_type": "code",
      "execution_count": null,
      "id": "c258493c",
      "metadata": {
        "id": "c258493c",
        "outputId": "88bd3d1a-43ef-4f3c-dc49-1476005e604a"
      },
      "outputs": [
        {
          "data": {
            "text/plain": [
              "array([[10, 12, 13],\n",
              "       [14, 16, 17],\n",
              "       [18, 20, 21]])"
            ]
          },
          "execution_count": 60,
          "metadata": {},
          "output_type": "execute_result"
        }
      ],
      "source": [
        "a= np.delete (arr2,1,1)\n",
        "a"
      ]
    },
    {
      "cell_type": "code",
      "execution_count": null,
      "id": "f6aef1d9",
      "metadata": {
        "id": "f6aef1d9",
        "outputId": "bf93d532-61a6-405f-c00c-6795a6250495"
      },
      "outputs": [
        {
          "data": {
            "text/plain": [
              "array([[10, 11, 12, 13],\n",
              "       [14, 15, 16, 17],\n",
              "       [18, 19, 20, 21]])"
            ]
          },
          "execution_count": 62,
          "metadata": {},
          "output_type": "execute_result"
        }
      ],
      "source": [
        "arr2"
      ]
    },
    {
      "cell_type": "code",
      "execution_count": null,
      "id": "9d731431",
      "metadata": {
        "id": "9d731431",
        "outputId": "c6dcc8d7-ac65-4683-97f8-a79a1e477ae6"
      },
      "outputs": [
        {
          "data": {
            "text/plain": [
              "array([[10, 11, 13],\n",
              "       [14, 15, 17],\n",
              "       [18, 19, 21]])"
            ]
          },
          "execution_count": 61,
          "metadata": {},
          "output_type": "execute_result"
        }
      ],
      "source": [
        "a= np.delete (arr2,2,1)\n",
        "a"
      ]
    },
    {
      "cell_type": "code",
      "execution_count": null,
      "id": "2f7aa45a",
      "metadata": {
        "id": "2f7aa45a",
        "outputId": "03ac5932-5ffe-48c5-a2d9-048effe0a95b"
      },
      "outputs": [
        {
          "data": {
            "text/plain": [
              "array([[10, 11, 12, 13],\n",
              "       [14, 15, 16, 17]])"
            ]
          },
          "execution_count": 63,
          "metadata": {},
          "output_type": "execute_result"
        }
      ],
      "source": [
        "a= np.delete (arr2,2,0)\n",
        "a"
      ]
    },
    {
      "cell_type": "code",
      "execution_count": null,
      "id": "0f5ccc6d",
      "metadata": {
        "id": "0f5ccc6d",
        "outputId": "3d08e7d1-71b3-48d4-cb1f-c63efd41e6b2"
      },
      "outputs": [
        {
          "data": {
            "text/plain": [
              "array([[10, 11, 12, 13],\n",
              "       [14, 15, 16, 17],\n",
              "       [18, 19, 20, 21]])"
            ]
          },
          "execution_count": 64,
          "metadata": {},
          "output_type": "execute_result"
        }
      ],
      "source": [
        "arr2"
      ]
    },
    {
      "cell_type": "code",
      "execution_count": null,
      "id": "688d3fce",
      "metadata": {
        "id": "688d3fce",
        "outputId": "e306eb40-8428-42be-e5c1-6eed1d774271"
      },
      "outputs": [
        {
          "data": {
            "text/plain": [
              "array([[10, 11, 12, 13],\n",
              "       [18, 19, 20, 21]])"
            ]
          },
          "execution_count": 65,
          "metadata": {},
          "output_type": "execute_result"
        }
      ],
      "source": [
        "np.delete (arr2,1,0)"
      ]
    },
    {
      "cell_type": "code",
      "execution_count": null,
      "id": "caef5439",
      "metadata": {
        "id": "caef5439",
        "outputId": "2f0ef9c2-f70c-4159-cd1e-0c92999095ee"
      },
      "outputs": [
        {
          "data": {
            "text/plain": [
              "array([[11, 12, 13],\n",
              "       [15, 16, 17],\n",
              "       [19, 20, 21]])"
            ]
          },
          "execution_count": 66,
          "metadata": {},
          "output_type": "execute_result"
        }
      ],
      "source": [
        "np.delete (arr2,0,1)"
      ]
    },
    {
      "cell_type": "code",
      "execution_count": null,
      "id": "e5230db8",
      "metadata": {
        "id": "e5230db8"
      },
      "outputs": [],
      "source": []
    },
    {
      "cell_type": "code",
      "execution_count": null,
      "id": "9526d0b7",
      "metadata": {
        "id": "9526d0b7"
      },
      "outputs": [],
      "source": []
    },
    {
      "cell_type": "code",
      "execution_count": null,
      "id": "2c6a6b66",
      "metadata": {
        "id": "2c6a6b66"
      },
      "outputs": [],
      "source": []
    },
    {
      "cell_type": "code",
      "execution_count": null,
      "id": "73abd1f9",
      "metadata": {
        "id": "73abd1f9"
      },
      "outputs": [],
      "source": []
    },
    {
      "cell_type": "code",
      "execution_count": null,
      "id": "7fea3ae6",
      "metadata": {
        "id": "7fea3ae6"
      },
      "outputs": [],
      "source": []
    },
    {
      "cell_type": "code",
      "execution_count": null,
      "id": "e857ae57",
      "metadata": {
        "id": "e857ae57"
      },
      "outputs": [],
      "source": []
    },
    {
      "cell_type": "code",
      "execution_count": null,
      "id": "c4247efa",
      "metadata": {
        "id": "c4247efa"
      },
      "outputs": [],
      "source": []
    },
    {
      "cell_type": "code",
      "execution_count": null,
      "id": "302da131",
      "metadata": {
        "id": "302da131"
      },
      "outputs": [],
      "source": []
    },
    {
      "cell_type": "code",
      "execution_count": null,
      "id": "1db6cd66",
      "metadata": {
        "id": "1db6cd66"
      },
      "outputs": [],
      "source": []
    },
    {
      "cell_type": "code",
      "execution_count": null,
      "id": "6b5c9ad5",
      "metadata": {
        "id": "6b5c9ad5"
      },
      "outputs": [],
      "source": []
    },
    {
      "cell_type": "code",
      "execution_count": null,
      "id": "be3974eb",
      "metadata": {
        "id": "be3974eb"
      },
      "outputs": [],
      "source": []
    },
    {
      "cell_type": "code",
      "execution_count": null,
      "id": "4c78eec4",
      "metadata": {
        "id": "4c78eec4"
      },
      "outputs": [],
      "source": []
    },
    {
      "cell_type": "code",
      "execution_count": null,
      "id": "02523cf7",
      "metadata": {
        "id": "02523cf7"
      },
      "outputs": [],
      "source": []
    },
    {
      "cell_type": "code",
      "execution_count": null,
      "id": "e94ca24d",
      "metadata": {
        "id": "e94ca24d"
      },
      "outputs": [],
      "source": []
    },
    {
      "cell_type": "code",
      "execution_count": null,
      "id": "da990d00",
      "metadata": {
        "id": "da990d00"
      },
      "outputs": [],
      "source": []
    },
    {
      "cell_type": "code",
      "execution_count": null,
      "id": "f4ca271c",
      "metadata": {
        "id": "f4ca271c"
      },
      "outputs": [],
      "source": []
    },
    {
      "cell_type": "code",
      "execution_count": null,
      "id": "37c20a3c",
      "metadata": {
        "id": "37c20a3c"
      },
      "outputs": [],
      "source": []
    },
    {
      "cell_type": "code",
      "execution_count": null,
      "id": "0fd6cbf5",
      "metadata": {
        "id": "0fd6cbf5"
      },
      "outputs": [],
      "source": []
    },
    {
      "cell_type": "code",
      "execution_count": null,
      "id": "9194abcc",
      "metadata": {
        "id": "9194abcc"
      },
      "outputs": [],
      "source": []
    },
    {
      "cell_type": "code",
      "execution_count": null,
      "id": "3b506dec",
      "metadata": {
        "id": "3b506dec"
      },
      "outputs": [],
      "source": []
    },
    {
      "cell_type": "code",
      "execution_count": null,
      "id": "32dbb23a",
      "metadata": {
        "id": "32dbb23a"
      },
      "outputs": [],
      "source": []
    },
    {
      "cell_type": "code",
      "execution_count": null,
      "id": "ef6c95b2",
      "metadata": {
        "id": "ef6c95b2"
      },
      "outputs": [],
      "source": []
    },
    {
      "cell_type": "code",
      "execution_count": null,
      "id": "ebfee05f",
      "metadata": {
        "id": "ebfee05f"
      },
      "outputs": [],
      "source": []
    },
    {
      "cell_type": "code",
      "execution_count": null,
      "id": "9803a21c",
      "metadata": {
        "id": "9803a21c"
      },
      "outputs": [],
      "source": []
    },
    {
      "cell_type": "code",
      "execution_count": null,
      "id": "f846a116",
      "metadata": {
        "id": "f846a116"
      },
      "outputs": [],
      "source": []
    },
    {
      "cell_type": "code",
      "execution_count": null,
      "id": "5318812f",
      "metadata": {
        "id": "5318812f"
      },
      "outputs": [],
      "source": []
    },
    {
      "cell_type": "code",
      "execution_count": null,
      "id": "109be4ea",
      "metadata": {
        "id": "109be4ea"
      },
      "outputs": [],
      "source": []
    },
    {
      "cell_type": "code",
      "execution_count": null,
      "id": "cb62a774",
      "metadata": {
        "id": "cb62a774"
      },
      "outputs": [],
      "source": []
    },
    {
      "cell_type": "code",
      "execution_count": null,
      "id": "45d0bfe7",
      "metadata": {
        "id": "45d0bfe7"
      },
      "outputs": [],
      "source": []
    },
    {
      "cell_type": "code",
      "execution_count": null,
      "id": "b70e3571",
      "metadata": {
        "id": "b70e3571"
      },
      "outputs": [],
      "source": []
    },
    {
      "cell_type": "code",
      "execution_count": null,
      "id": "ddddd46f",
      "metadata": {
        "id": "ddddd46f"
      },
      "outputs": [],
      "source": []
    },
    {
      "cell_type": "code",
      "execution_count": null,
      "id": "9fa1b655",
      "metadata": {
        "id": "9fa1b655"
      },
      "outputs": [],
      "source": []
    },
    {
      "cell_type": "code",
      "execution_count": null,
      "id": "f08e570d",
      "metadata": {
        "id": "f08e570d"
      },
      "outputs": [],
      "source": []
    },
    {
      "cell_type": "code",
      "execution_count": null,
      "id": "b672d9aa",
      "metadata": {
        "id": "b672d9aa"
      },
      "outputs": [],
      "source": []
    },
    {
      "cell_type": "code",
      "execution_count": null,
      "id": "427d6322",
      "metadata": {
        "id": "427d6322"
      },
      "outputs": [],
      "source": []
    },
    {
      "cell_type": "code",
      "execution_count": null,
      "id": "ebf13fbe",
      "metadata": {
        "id": "ebf13fbe"
      },
      "outputs": [],
      "source": []
    },
    {
      "cell_type": "code",
      "execution_count": null,
      "id": "2379f3d7",
      "metadata": {
        "id": "2379f3d7"
      },
      "outputs": [],
      "source": []
    },
    {
      "cell_type": "code",
      "execution_count": null,
      "id": "e27f317c",
      "metadata": {
        "id": "e27f317c"
      },
      "outputs": [],
      "source": []
    },
    {
      "cell_type": "code",
      "execution_count": null,
      "id": "bff442a1",
      "metadata": {
        "id": "bff442a1"
      },
      "outputs": [],
      "source": []
    },
    {
      "cell_type": "code",
      "execution_count": null,
      "id": "d2528c38",
      "metadata": {
        "id": "d2528c38"
      },
      "outputs": [],
      "source": []
    },
    {
      "cell_type": "code",
      "execution_count": null,
      "id": "40bc3c42",
      "metadata": {
        "id": "40bc3c42"
      },
      "outputs": [],
      "source": []
    },
    {
      "cell_type": "code",
      "execution_count": null,
      "id": "635e6b01",
      "metadata": {
        "id": "635e6b01"
      },
      "outputs": [],
      "source": []
    },
    {
      "cell_type": "code",
      "execution_count": null,
      "id": "310445f0",
      "metadata": {
        "id": "310445f0"
      },
      "outputs": [],
      "source": []
    },
    {
      "cell_type": "code",
      "execution_count": null,
      "id": "e76abb5f",
      "metadata": {
        "id": "e76abb5f"
      },
      "outputs": [],
      "source": []
    },
    {
      "cell_type": "code",
      "execution_count": null,
      "id": "8ec32eb7",
      "metadata": {
        "id": "8ec32eb7"
      },
      "outputs": [],
      "source": []
    },
    {
      "cell_type": "code",
      "execution_count": null,
      "id": "842bb055",
      "metadata": {
        "id": "842bb055"
      },
      "outputs": [],
      "source": []
    },
    {
      "cell_type": "code",
      "execution_count": null,
      "id": "502f709f",
      "metadata": {
        "id": "502f709f"
      },
      "outputs": [],
      "source": []
    },
    {
      "cell_type": "code",
      "execution_count": null,
      "id": "b0ff6b7e",
      "metadata": {
        "id": "b0ff6b7e"
      },
      "outputs": [],
      "source": []
    },
    {
      "cell_type": "code",
      "execution_count": null,
      "id": "2eb39a49",
      "metadata": {
        "id": "2eb39a49"
      },
      "outputs": [],
      "source": []
    },
    {
      "cell_type": "code",
      "execution_count": null,
      "id": "eeca4620",
      "metadata": {
        "id": "eeca4620"
      },
      "outputs": [],
      "source": []
    },
    {
      "cell_type": "code",
      "execution_count": null,
      "id": "df5011e2",
      "metadata": {
        "id": "df5011e2"
      },
      "outputs": [],
      "source": []
    },
    {
      "cell_type": "code",
      "execution_count": null,
      "id": "31fd5991",
      "metadata": {
        "id": "31fd5991"
      },
      "outputs": [],
      "source": []
    },
    {
      "cell_type": "code",
      "execution_count": null,
      "id": "d9657cbd",
      "metadata": {
        "id": "d9657cbd"
      },
      "outputs": [],
      "source": []
    },
    {
      "cell_type": "code",
      "execution_count": null,
      "id": "bf0ee7a8",
      "metadata": {
        "id": "bf0ee7a8"
      },
      "outputs": [],
      "source": []
    }
  ],
  "metadata": {
    "kernelspec": {
      "display_name": "Python 3 (ipykernel)",
      "language": "python",
      "name": "python3"
    },
    "language_info": {
      "codemirror_mode": {
        "name": "ipython",
        "version": 3
      },
      "file_extension": ".py",
      "mimetype": "text/x-python",
      "name": "python",
      "nbconvert_exporter": "python",
      "pygments_lexer": "ipython3",
      "version": "3.9.15"
    },
    "colab": {
      "provenance": [],
      "include_colab_link": true
    }
  },
  "nbformat": 4,
  "nbformat_minor": 5
}